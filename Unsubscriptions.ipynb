{
  "nbformat": 4,
  "nbformat_minor": 0,
  "metadata": {
    "colab": {
      "provenance": []
    },
    "kernelspec": {
      "name": "python3",
      "display_name": "Python 3"
    },
    "language_info": {
      "name": "python"
    },
    "gpuClass": "standard"
  },
  "cells": [
    {
      "cell_type": "code",
      "execution_count": null,
      "metadata": {
        "id": "f5St1lBC3323"
      },
      "outputs": [],
      "source": [
        "import pandas as pd\n",
        "import numpy as np\n",
        "import scipy\n",
        "from scipy.optimize import minimize\n",
        "from scipy.optimize import Bounds\n"
      ]
    },
    {
      "cell_type": "code",
      "source": [
        "def simulate_unsubscriptions(n, p, T):\n",
        "    '''\n",
        "    Function to simulate the unsubscription journey for n costumers given a probability p of unsubcribing from the service. \n",
        "    p stays constant for the whole number of observation windows T.\n",
        "    '''\n",
        "    lost_list=[] #initiate a list to take notes about the number of users lost per step\n",
        "    renewal_time=np.repeat(0,n) #initiate the array to take count of how many renewal the j-th client does.\n",
        "    for i in range(T): \n",
        "        number_lost = np.random.binomial(n, p) # number of lost client per step\n",
        "        lost_list.append(number_lost)\n",
        "        renewal_time[sum(lost_list):] += 1 # +1 for each customer keeping his subscription at the i-th tiem window\n",
        "        n -= number_lost # update the number of clients alive in the next step\n",
        "    np.random.shuffle(renewal_time) #shuffle the results, avoid the clients being ordered by theier survival time\n",
        "    return renewal_time\n",
        "\n",
        "def simulate_unsubscriptions_geom(n, p, T):\n",
        "    '''\n",
        "    Function to simulate the unsubscription journey for n costumers given a probability p of unsubcribing from the service. \n",
        "    p stays constant for the whole number of observation windows T.\n",
        "\n",
        "    Actually the model we want to build can be seen as a geometric distribution for the set n of clients with a probability p of success, \n",
        "    here the success represents the unsubsciption.\n",
        "    '''\n",
        "    unsubscriptions = np.random.geometric(p,n)-1 # draw n times from a geometric distribution with parameter p\n",
        "    unsubscriptions[unsubscriptions>T] = T # cap the maximum occurence with the max observation time\n",
        "    return unsubscriptions\n"
      ],
      "metadata": {
        "id": "sf5eIkhaqLEx"
      },
      "execution_count": null,
      "outputs": []
    },
    {
      "cell_type": "code",
      "source": [
        "# run tests on running time\n",
        "\n",
        "import time\n",
        "\n",
        "num_runs = 100 # number of experiments\n",
        "run_times_geom = [] # list of running time using geometric sampling\n",
        "run_times_custom = [] # list of running time using custom simulation function\n",
        "\n",
        "for i in range(num_runs):\n",
        "    # take random parameter\n",
        "    n = np.random.randint(5,500000)\n",
        "    p = np.random.uniform()\n",
        "    T = np.random.randint(2,200)\n",
        "\n",
        "    # mesure the running time of the custom function\n",
        "    start = time.time()\n",
        "    renewal_time = simulate_unsubscriptions(n,p,T)\n",
        "    end = time.time()\n",
        "    run_times_custom.append(end - start)\n",
        "\n",
        "    # mesure the running time of the geometric sampling\n",
        "    start_geom = time.time()\n",
        "    renewal_time = simulate_unsubscriptions_geom(n,p,T)\n",
        "    end_geom = time.time()\n",
        "    run_times_geom.append(end_geom - start_geom)\n",
        "\n",
        "print('Average run time - simulate_unsubscriptions: {}'.format(np.mean(run_times_custom)))\n",
        "print('Average run time - simulate_unsubscriptions_geom: {}'.format(np.mean(run_times_geom)))"
      ],
      "metadata": {
        "colab": {
          "base_uri": "https://localhost:8080/"
        },
        "id": "dD4v9lQ75dA0",
        "outputId": "4d631347-7956-40c7-ef90-1e77471f3f8b"
      },
      "execution_count": null,
      "outputs": [
        {
          "output_type": "stream",
          "name": "stdout",
          "text": [
            "Average run time - simulate_unsubscriptions: 0.013531670570373536\n",
            "Average run time - simulate_unsubscriptions_geom: 0.014759469032287597\n"
          ]
        }
      ]
    },
    {
      "cell_type": "code",
      "source": [
        "unique, counts = np.unique(renewal_time, return_counts=True)\n",
        "grouped_renewal = pd.DataFrame(unique, columns=['renewals'])\n",
        "grouped_renewal['T']=T\n",
        "grouped_renewal['N']=counts\n",
        "grouped_renewal"
      ],
      "metadata": {
        "colab": {
          "base_uri": "https://localhost:8080/",
          "height": 332
        },
        "id": "ym-XnkcpPhOY",
        "outputId": "9fcb81a2-cc45-4f49-852d-0e2ef7192b40"
      },
      "execution_count": null,
      "outputs": [
        {
          "output_type": "execute_result",
          "data": {
            "text/plain": [
              "   renewals   T  N\n",
              "0         1  20  2\n",
              "1         2  20  1\n",
              "2         3  20  1\n",
              "3         5  20  1\n",
              "4         7  20  1\n",
              "5        12  20  1\n",
              "6        14  20  1\n",
              "7        15  20  1\n",
              "8        20  20  1"
            ],
            "text/html": [
              "\n",
              "  <div id=\"df-c1dfee09-1ddd-4957-b40f-686a8c88a077\">\n",
              "    <div class=\"colab-df-container\">\n",
              "      <div>\n",
              "<style scoped>\n",
              "    .dataframe tbody tr th:only-of-type {\n",
              "        vertical-align: middle;\n",
              "    }\n",
              "\n",
              "    .dataframe tbody tr th {\n",
              "        vertical-align: top;\n",
              "    }\n",
              "\n",
              "    .dataframe thead th {\n",
              "        text-align: right;\n",
              "    }\n",
              "</style>\n",
              "<table border=\"1\" class=\"dataframe\">\n",
              "  <thead>\n",
              "    <tr style=\"text-align: right;\">\n",
              "      <th></th>\n",
              "      <th>renewals</th>\n",
              "      <th>T</th>\n",
              "      <th>N</th>\n",
              "    </tr>\n",
              "  </thead>\n",
              "  <tbody>\n",
              "    <tr>\n",
              "      <th>0</th>\n",
              "      <td>1</td>\n",
              "      <td>20</td>\n",
              "      <td>2</td>\n",
              "    </tr>\n",
              "    <tr>\n",
              "      <th>1</th>\n",
              "      <td>2</td>\n",
              "      <td>20</td>\n",
              "      <td>1</td>\n",
              "    </tr>\n",
              "    <tr>\n",
              "      <th>2</th>\n",
              "      <td>3</td>\n",
              "      <td>20</td>\n",
              "      <td>1</td>\n",
              "    </tr>\n",
              "    <tr>\n",
              "      <th>3</th>\n",
              "      <td>5</td>\n",
              "      <td>20</td>\n",
              "      <td>1</td>\n",
              "    </tr>\n",
              "    <tr>\n",
              "      <th>4</th>\n",
              "      <td>7</td>\n",
              "      <td>20</td>\n",
              "      <td>1</td>\n",
              "    </tr>\n",
              "    <tr>\n",
              "      <th>5</th>\n",
              "      <td>12</td>\n",
              "      <td>20</td>\n",
              "      <td>1</td>\n",
              "    </tr>\n",
              "    <tr>\n",
              "      <th>6</th>\n",
              "      <td>14</td>\n",
              "      <td>20</td>\n",
              "      <td>1</td>\n",
              "    </tr>\n",
              "    <tr>\n",
              "      <th>7</th>\n",
              "      <td>15</td>\n",
              "      <td>20</td>\n",
              "      <td>1</td>\n",
              "    </tr>\n",
              "    <tr>\n",
              "      <th>8</th>\n",
              "      <td>20</td>\n",
              "      <td>20</td>\n",
              "      <td>1</td>\n",
              "    </tr>\n",
              "  </tbody>\n",
              "</table>\n",
              "</div>\n",
              "      <button class=\"colab-df-convert\" onclick=\"convertToInteractive('df-c1dfee09-1ddd-4957-b40f-686a8c88a077')\"\n",
              "              title=\"Convert this dataframe to an interactive table.\"\n",
              "              style=\"display:none;\">\n",
              "        \n",
              "  <svg xmlns=\"http://www.w3.org/2000/svg\" height=\"24px\"viewBox=\"0 0 24 24\"\n",
              "       width=\"24px\">\n",
              "    <path d=\"M0 0h24v24H0V0z\" fill=\"none\"/>\n",
              "    <path d=\"M18.56 5.44l.94 2.06.94-2.06 2.06-.94-2.06-.94-.94-2.06-.94 2.06-2.06.94zm-11 1L8.5 8.5l.94-2.06 2.06-.94-2.06-.94L8.5 2.5l-.94 2.06-2.06.94zm10 10l.94 2.06.94-2.06 2.06-.94-2.06-.94-.94-2.06-.94 2.06-2.06.94z\"/><path d=\"M17.41 7.96l-1.37-1.37c-.4-.4-.92-.59-1.43-.59-.52 0-1.04.2-1.43.59L10.3 9.45l-7.72 7.72c-.78.78-.78 2.05 0 2.83L4 21.41c.39.39.9.59 1.41.59.51 0 1.02-.2 1.41-.59l7.78-7.78 2.81-2.81c.8-.78.8-2.07 0-2.86zM5.41 20L4 18.59l7.72-7.72 1.47 1.35L5.41 20z\"/>\n",
              "  </svg>\n",
              "      </button>\n",
              "      \n",
              "  <style>\n",
              "    .colab-df-container {\n",
              "      display:flex;\n",
              "      flex-wrap:wrap;\n",
              "      gap: 12px;\n",
              "    }\n",
              "\n",
              "    .colab-df-convert {\n",
              "      background-color: #E8F0FE;\n",
              "      border: none;\n",
              "      border-radius: 50%;\n",
              "      cursor: pointer;\n",
              "      display: none;\n",
              "      fill: #1967D2;\n",
              "      height: 32px;\n",
              "      padding: 0 0 0 0;\n",
              "      width: 32px;\n",
              "    }\n",
              "\n",
              "    .colab-df-convert:hover {\n",
              "      background-color: #E2EBFA;\n",
              "      box-shadow: 0px 1px 2px rgba(60, 64, 67, 0.3), 0px 1px 3px 1px rgba(60, 64, 67, 0.15);\n",
              "      fill: #174EA6;\n",
              "    }\n",
              "\n",
              "    [theme=dark] .colab-df-convert {\n",
              "      background-color: #3B4455;\n",
              "      fill: #D2E3FC;\n",
              "    }\n",
              "\n",
              "    [theme=dark] .colab-df-convert:hover {\n",
              "      background-color: #434B5C;\n",
              "      box-shadow: 0px 1px 3px 1px rgba(0, 0, 0, 0.15);\n",
              "      filter: drop-shadow(0px 1px 2px rgba(0, 0, 0, 0.3));\n",
              "      fill: #FFFFFF;\n",
              "    }\n",
              "  </style>\n",
              "\n",
              "      <script>\n",
              "        const buttonEl =\n",
              "          document.querySelector('#df-c1dfee09-1ddd-4957-b40f-686a8c88a077 button.colab-df-convert');\n",
              "        buttonEl.style.display =\n",
              "          google.colab.kernel.accessAllowed ? 'block' : 'none';\n",
              "\n",
              "        async function convertToInteractive(key) {\n",
              "          const element = document.querySelector('#df-c1dfee09-1ddd-4957-b40f-686a8c88a077');\n",
              "          const dataTable =\n",
              "            await google.colab.kernel.invokeFunction('convertToInteractive',\n",
              "                                                     [key], {});\n",
              "          if (!dataTable) return;\n",
              "\n",
              "          const docLinkHtml = 'Like what you see? Visit the ' +\n",
              "            '<a target=\"_blank\" href=https://colab.research.google.com/notebooks/data_table.ipynb>data table notebook</a>'\n",
              "            + ' to learn more about interactive tables.';\n",
              "          element.innerHTML = '';\n",
              "          dataTable['output_type'] = 'display_data';\n",
              "          await google.colab.output.renderOutput(dataTable, element);\n",
              "          const docLink = document.createElement('div');\n",
              "          docLink.innerHTML = docLinkHtml;\n",
              "          element.appendChild(docLink);\n",
              "        }\n",
              "      </script>\n",
              "    </div>\n",
              "  </div>\n",
              "  "
            ]
          },
          "metadata": {},
          "execution_count": 209
        }
      ]
    },
    {
      "cell_type": "code",
      "source": [
        "def mean_estimator(renewal_time, print_stats=False):\n",
        "    '''\n",
        "    Estimation of the unsubscription probability by mean.\n",
        "\n",
        "    First and fast solution to estimate the parameter p. \n",
        "    Take the ratio of unsubscriptions per time window and average over the T time windows.\n",
        "    '''\n",
        "    if int(max(renewal_time))==0: # take into consideration all clients unsubscribing before first renewal\n",
        "        return 1\n",
        "    perc_list = []\n",
        "    for i in range(int(max(renewal_time))): #for each time window untill the maximum observed\n",
        "        perc = np.sum(renewal_time==i)/np.sum(renewal_time>=i) # ratio of unsubsciber\n",
        "        perc_list.append(perc)\n",
        "    \n",
        "    mean_est = np.mean(perc_list) #take the average over the time windows\n",
        "    if print_stats:\n",
        "        print('mean_est={}'.format(mean_est))\n",
        "        print('rse mean={}'.format(np.sqrt(np.square(p-mean_est))))\n",
        "    return mean_est\n",
        "\n",
        "def w_mean_estimator(renewal_time, print_stats=False):\n",
        "    '''\n",
        "    Estimation of the unsubscription probability by weighted mean.\n",
        "\n",
        "    Tries to improve simple mean estimation.\n",
        "    Take the ratio of unsubscriptions per time window and average over the T time windows giving each time window a weight proportional to its size.\n",
        "    '''\n",
        "    if int(max(renewal_time))==0:\n",
        "        return 1\n",
        "    perc_list = np.array([])\n",
        "    prop_surv = np.array([])\n",
        "    for i in range(int(max(renewal_time))):\n",
        "        perc = sum(renewal_time==i)/sum(renewal_time>=i)\n",
        "        perc_list = np.append(perc_list, perc)\n",
        "        prop_surv = np.append(prop_surv, (sum(renewal_time>=i)/len(renewal_time))) # save the size of the population considered in the time window\n",
        "\n",
        "    weight_list = prop_surv/np.sum(prop_surv) #normalize the weight\n",
        "    stima_w_media = np.sum(perc_list*weight_list)\n",
        "    if print_stats:\n",
        "        print('stima media={}'.format(stima_w_media))\n",
        "        print('rse media={}'.format(np.sqrt(np.square(p-stima_w_media))))\n",
        "    return stima_w_media\n",
        "\n",
        "def prob_max_estimate(renewal_time, T, param_init=0.5):\n",
        "    '''\n",
        "    Exploiting the probability function of the phenomena to estimate the maximum likelihood p.\n",
        "\n",
        "    Here the probability function is p(1-p)**(n-1) for all the people that unsubscribed and (1-p)**n for all the others.\n",
        "    This results in 'tot_prob_neg' where sum(n!=T) is the number of people that actually unsubscribed\n",
        "    '''\n",
        "    # define the cost function\n",
        "    def probFunction(p, n, T):\n",
        "        tot_prob_neg = np.sum(n!=T)*np.log(p)+(np.sum(n)-np.sum(n!=T))*np.log(1-p)\n",
        "        return -tot_prob_neg\n",
        "    lowerBounds= 0\n",
        "    upperBounds=1\n",
        "    boundData=Bounds(lowerBounds,upperBounds)\n",
        "\n",
        "    # select the initial guess of the solution\n",
        "    x0=param_init\n",
        "    result = minimize(probFunction, x0, method='trust-constr', args=(renewal_time+1, T+1), bounds=boundData)\n",
        "    # here is the solution\n",
        "    return result.x[0]"
      ],
      "metadata": {
        "id": "9dplFlxq4k3M"
      },
      "execution_count": null,
      "outputs": []
    },
    {
      "cell_type": "code",
      "source": [
        "### run tests\n",
        "\n",
        "'''\n",
        "Compare performances of the different estimation methods on 100 randomly selected populations.\n",
        "'''\n",
        "num_runs = 100\n",
        "\n",
        "sqared_error_list_flat = []\n",
        "sqared_error_list_mean = []\n",
        "sqared_error_list_w_mean = []\n",
        "sqared_error_list_prob_est = []\n",
        "sqared_error_list_closed_form = []\n",
        "\n",
        "for i in range(num_runs):\n",
        "    # generate random unsubscription dataset\n",
        "    n = np.random.randint(5,100000)\n",
        "    p = np.random.uniform()\n",
        "    T = np.random.randint(2,50)\n",
        "    renewal_time = simulate_unsubscriptions(n,p,T)\n",
        "\n",
        "    # estimate the parameter p with the different estimation methods\n",
        "    estimate_flat = 0.5\n",
        "    estimate_mean = mean_estimator(renewal_time)\n",
        "    estimate_w_mean = w_mean_estimator(renewal_time)\n",
        "    estimate_prob = prob_max_estimate(renewal_time, T)\n",
        "    estimate_closed_form = n/np.sum(renewal_time+1) # here I'm using also the closed form for the geometric function p estimate, the aim is to compare it with the modified function estimate, to check whether it gave some benefits.\n",
        "\n",
        "    # calculate the estimation errors\n",
        "    squared_error_flat = np.square(p-estimate_flat)\n",
        "    sqared_error_list_flat.append(squared_error_flat)\n",
        "\n",
        "    squared_error_mean = np.square(p-estimate_mean)\n",
        "    sqared_error_list_mean.append(squared_error_mean)\n",
        "\n",
        "    squared_error_w_mean = np.square(p-estimate_w_mean)\n",
        "    sqared_error_list_w_mean.append(squared_error_w_mean)\n",
        "\n",
        "    squared_error_prob = np.square(p-estimate_prob)\n",
        "    sqared_error_list_prob_est.append(squared_error_prob)\n",
        "\n",
        "    squared_error_closed_form = np.square(p-estimate_closed_form)\n",
        "    sqared_error_list_closed_form.append(squared_error_closed_form)\n",
        "\n",
        "print('rmse flat 0.5: {}'.format(np.sqrt(np.mean(sqared_error_list_flat))))\n",
        "print('rmse mean: {}'.format(np.sqrt(np.mean(sqared_error_list_mean))))\n",
        "print('rmse weighted mean: {}'.format(np.sqrt(np.mean(sqared_error_list_w_mean))))\n",
        "print('rmse prob maximization: {}'.format(np.sqrt(np.mean(sqared_error_list_prob_est))))\n",
        "print('rmse prob maximization closed form: {}'.format(np.sqrt(np.mean(sqared_error_list_closed_form))))\n"
      ],
      "metadata": {
        "colab": {
          "base_uri": "https://localhost:8080/"
        },
        "id": "6Z8KkfbqVbyj",
        "outputId": "891c4152-d161-450d-fd37-1b756fbfb837"
      },
      "execution_count": null,
      "outputs": [
        {
          "output_type": "stream",
          "name": "stdout",
          "text": [
            "rmse flat 0.5: 0.3138328145023769\n",
            "rmse mean: 0.01959403653873935\n",
            "rmse weighted mean: 0.0020052170415976716\n",
            "rmse prob maximization: 0.00983020816268097\n",
            "rmse prob maximization closed form: 0.048161550677588066\n"
          ]
        }
      ]
    },
    {
      "cell_type": "markdown",
      "source": [
        "## Main take aways\n",
        "\n",
        "Unsubscription simulation: \\\\\n",
        "*simulate_unsubscriptions* and *simulate_unsubscriptions_geom* have a comparable running time, for code clarity I will keep on using *simulate_unsubscriptions_geom*\n",
        "\n",
        "\n",
        "Probability of unsubcription estimate: \\\\\n",
        "All the 4 estimation methods shoot in the right direction performing better that the flat 0.5 prediction. \n",
        "\n",
        "From my tests the weighted mean method seems to perform significatively better that the other and the likelihood estimation seems to perform better then the geometric closed form parameter estimation.\n",
        "\n",
        "The comparison between the simple mean method and the likelihood estimate depends on the testing field, the likelihood estimate seems to perform better when the sample data are small while the mean method performs better for large data.\n",
        "\n",
        "I'm currently testing on uniform space, with more insight on the actual use field testing would give more details about which method works better for a specific use case."
      ],
      "metadata": {
        "id": "BPKRqu47rGk0"
      }
    },
    {
      "cell_type": "code",
      "source": [],
      "metadata": {
        "id": "oY3LuhXlp0V7"
      },
      "execution_count": null,
      "outputs": []
    },
    {
      "cell_type": "markdown",
      "source": [
        "# Is the model defined above ok for simulating real data?"
      ],
      "metadata": {
        "id": "0kat2jlX3sZQ"
      }
    },
    {
      "cell_type": "code",
      "source": [
        "dat = pd.read_csv('/content/data_subscriptions.csv', index_col=[0])"
      ],
      "metadata": {
        "id": "QLST6s5EZuxp"
      },
      "execution_count": null,
      "outputs": []
    },
    {
      "cell_type": "code",
      "source": [
        "#take a look at data\n",
        "dat.head()"
      ],
      "metadata": {
        "id": "TsiPr1oHe5Mz",
        "colab": {
          "base_uri": "https://localhost:8080/",
          "height": 206
        },
        "outputId": "5b39f9f9-426c-45db-8187-ef26cc169fbd"
      },
      "execution_count": null,
      "outputs": [
        {
          "output_type": "execute_result",
          "data": {
            "text/plain": [
              "   Unnamed: 0  renewals     T     N\n",
              "0           0       0.0  20.0  2747\n",
              "1           1      13.0  20.0    83\n",
              "2           2       3.0  20.0   407\n",
              "3           3       1.0  20.0  1082\n",
              "4           4      20.0  20.0  3163"
            ],
            "text/html": [
              "\n",
              "  <div id=\"df-ab4f0ae8-8458-46ec-af46-655f53e8af45\">\n",
              "    <div class=\"colab-df-container\">\n",
              "      <div>\n",
              "<style scoped>\n",
              "    .dataframe tbody tr th:only-of-type {\n",
              "        vertical-align: middle;\n",
              "    }\n",
              "\n",
              "    .dataframe tbody tr th {\n",
              "        vertical-align: top;\n",
              "    }\n",
              "\n",
              "    .dataframe thead th {\n",
              "        text-align: right;\n",
              "    }\n",
              "</style>\n",
              "<table border=\"1\" class=\"dataframe\">\n",
              "  <thead>\n",
              "    <tr style=\"text-align: right;\">\n",
              "      <th></th>\n",
              "      <th>Unnamed: 0</th>\n",
              "      <th>renewals</th>\n",
              "      <th>T</th>\n",
              "      <th>N</th>\n",
              "    </tr>\n",
              "  </thead>\n",
              "  <tbody>\n",
              "    <tr>\n",
              "      <th>0</th>\n",
              "      <td>0</td>\n",
              "      <td>0.0</td>\n",
              "      <td>20.0</td>\n",
              "      <td>2747</td>\n",
              "    </tr>\n",
              "    <tr>\n",
              "      <th>1</th>\n",
              "      <td>1</td>\n",
              "      <td>13.0</td>\n",
              "      <td>20.0</td>\n",
              "      <td>83</td>\n",
              "    </tr>\n",
              "    <tr>\n",
              "      <th>2</th>\n",
              "      <td>2</td>\n",
              "      <td>3.0</td>\n",
              "      <td>20.0</td>\n",
              "      <td>407</td>\n",
              "    </tr>\n",
              "    <tr>\n",
              "      <th>3</th>\n",
              "      <td>3</td>\n",
              "      <td>1.0</td>\n",
              "      <td>20.0</td>\n",
              "      <td>1082</td>\n",
              "    </tr>\n",
              "    <tr>\n",
              "      <th>4</th>\n",
              "      <td>4</td>\n",
              "      <td>20.0</td>\n",
              "      <td>20.0</td>\n",
              "      <td>3163</td>\n",
              "    </tr>\n",
              "  </tbody>\n",
              "</table>\n",
              "</div>\n",
              "      <button class=\"colab-df-convert\" onclick=\"convertToInteractive('df-ab4f0ae8-8458-46ec-af46-655f53e8af45')\"\n",
              "              title=\"Convert this dataframe to an interactive table.\"\n",
              "              style=\"display:none;\">\n",
              "        \n",
              "  <svg xmlns=\"http://www.w3.org/2000/svg\" height=\"24px\"viewBox=\"0 0 24 24\"\n",
              "       width=\"24px\">\n",
              "    <path d=\"M0 0h24v24H0V0z\" fill=\"none\"/>\n",
              "    <path d=\"M18.56 5.44l.94 2.06.94-2.06 2.06-.94-2.06-.94-.94-2.06-.94 2.06-2.06.94zm-11 1L8.5 8.5l.94-2.06 2.06-.94-2.06-.94L8.5 2.5l-.94 2.06-2.06.94zm10 10l.94 2.06.94-2.06 2.06-.94-2.06-.94-.94-2.06-.94 2.06-2.06.94z\"/><path d=\"M17.41 7.96l-1.37-1.37c-.4-.4-.92-.59-1.43-.59-.52 0-1.04.2-1.43.59L10.3 9.45l-7.72 7.72c-.78.78-.78 2.05 0 2.83L4 21.41c.39.39.9.59 1.41.59.51 0 1.02-.2 1.41-.59l7.78-7.78 2.81-2.81c.8-.78.8-2.07 0-2.86zM5.41 20L4 18.59l7.72-7.72 1.47 1.35L5.41 20z\"/>\n",
              "  </svg>\n",
              "      </button>\n",
              "      \n",
              "  <style>\n",
              "    .colab-df-container {\n",
              "      display:flex;\n",
              "      flex-wrap:wrap;\n",
              "      gap: 12px;\n",
              "    }\n",
              "\n",
              "    .colab-df-convert {\n",
              "      background-color: #E8F0FE;\n",
              "      border: none;\n",
              "      border-radius: 50%;\n",
              "      cursor: pointer;\n",
              "      display: none;\n",
              "      fill: #1967D2;\n",
              "      height: 32px;\n",
              "      padding: 0 0 0 0;\n",
              "      width: 32px;\n",
              "    }\n",
              "\n",
              "    .colab-df-convert:hover {\n",
              "      background-color: #E2EBFA;\n",
              "      box-shadow: 0px 1px 2px rgba(60, 64, 67, 0.3), 0px 1px 3px 1px rgba(60, 64, 67, 0.15);\n",
              "      fill: #174EA6;\n",
              "    }\n",
              "\n",
              "    [theme=dark] .colab-df-convert {\n",
              "      background-color: #3B4455;\n",
              "      fill: #D2E3FC;\n",
              "    }\n",
              "\n",
              "    [theme=dark] .colab-df-convert:hover {\n",
              "      background-color: #434B5C;\n",
              "      box-shadow: 0px 1px 3px 1px rgba(0, 0, 0, 0.15);\n",
              "      filter: drop-shadow(0px 1px 2px rgba(0, 0, 0, 0.3));\n",
              "      fill: #FFFFFF;\n",
              "    }\n",
              "  </style>\n",
              "\n",
              "      <script>\n",
              "        const buttonEl =\n",
              "          document.querySelector('#df-ab4f0ae8-8458-46ec-af46-655f53e8af45 button.colab-df-convert');\n",
              "        buttonEl.style.display =\n",
              "          google.colab.kernel.accessAllowed ? 'block' : 'none';\n",
              "\n",
              "        async function convertToInteractive(key) {\n",
              "          const element = document.querySelector('#df-ab4f0ae8-8458-46ec-af46-655f53e8af45');\n",
              "          const dataTable =\n",
              "            await google.colab.kernel.invokeFunction('convertToInteractive',\n",
              "                                                     [key], {});\n",
              "          if (!dataTable) return;\n",
              "\n",
              "          const docLinkHtml = 'Like what you see? Visit the ' +\n",
              "            '<a target=\"_blank\" href=https://colab.research.google.com/notebooks/data_table.ipynb>data table notebook</a>'\n",
              "            + ' to learn more about interactive tables.';\n",
              "          element.innerHTML = '';\n",
              "          dataTable['output_type'] = 'display_data';\n",
              "          await google.colab.output.renderOutput(dataTable, element);\n",
              "          const docLink = document.createElement('div');\n",
              "          docLink.innerHTML = docLinkHtml;\n",
              "          element.appendChild(docLink);\n",
              "        }\n",
              "      </script>\n",
              "    </div>\n",
              "  </div>\n",
              "  "
            ]
          },
          "metadata": {},
          "execution_count": 215
        }
      ]
    },
    {
      "cell_type": "code",
      "source": [
        "# reshape data to get one raw per observation\n",
        "dat_expand = dat.loc[dat.index.repeat(dat.N)].reset_index(drop=True)[['renewals','T']]"
      ],
      "metadata": {
        "id": "xhAjDsCyjUMQ"
      },
      "execution_count": null,
      "outputs": []
    },
    {
      "cell_type": "code",
      "source": [
        "dat_expand.describe()"
      ],
      "metadata": {
        "colab": {
          "base_uri": "https://localhost:8080/",
          "height": 300
        },
        "id": "62qV0HbqfS5a",
        "outputId": "d1d54a49-e3d6-42a3-d58e-67715033200a"
      },
      "execution_count": null,
      "outputs": [
        {
          "output_type": "execute_result",
          "data": {
            "text/plain": [
              "           renewals        T\n",
              "count  10000.000000  10000.0\n",
              "mean       8.437600     20.0\n",
              "std        8.686763      0.0\n",
              "min        0.000000     20.0\n",
              "25%        0.000000     20.0\n",
              "50%        4.000000     20.0\n",
              "75%       20.000000     20.0\n",
              "max       20.000000     20.0"
            ],
            "text/html": [
              "\n",
              "  <div id=\"df-490f185f-db66-434e-8333-10373a8fd007\">\n",
              "    <div class=\"colab-df-container\">\n",
              "      <div>\n",
              "<style scoped>\n",
              "    .dataframe tbody tr th:only-of-type {\n",
              "        vertical-align: middle;\n",
              "    }\n",
              "\n",
              "    .dataframe tbody tr th {\n",
              "        vertical-align: top;\n",
              "    }\n",
              "\n",
              "    .dataframe thead th {\n",
              "        text-align: right;\n",
              "    }\n",
              "</style>\n",
              "<table border=\"1\" class=\"dataframe\">\n",
              "  <thead>\n",
              "    <tr style=\"text-align: right;\">\n",
              "      <th></th>\n",
              "      <th>renewals</th>\n",
              "      <th>T</th>\n",
              "    </tr>\n",
              "  </thead>\n",
              "  <tbody>\n",
              "    <tr>\n",
              "      <th>count</th>\n",
              "      <td>10000.000000</td>\n",
              "      <td>10000.0</td>\n",
              "    </tr>\n",
              "    <tr>\n",
              "      <th>mean</th>\n",
              "      <td>8.437600</td>\n",
              "      <td>20.0</td>\n",
              "    </tr>\n",
              "    <tr>\n",
              "      <th>std</th>\n",
              "      <td>8.686763</td>\n",
              "      <td>0.0</td>\n",
              "    </tr>\n",
              "    <tr>\n",
              "      <th>min</th>\n",
              "      <td>0.000000</td>\n",
              "      <td>20.0</td>\n",
              "    </tr>\n",
              "    <tr>\n",
              "      <th>25%</th>\n",
              "      <td>0.000000</td>\n",
              "      <td>20.0</td>\n",
              "    </tr>\n",
              "    <tr>\n",
              "      <th>50%</th>\n",
              "      <td>4.000000</td>\n",
              "      <td>20.0</td>\n",
              "    </tr>\n",
              "    <tr>\n",
              "      <th>75%</th>\n",
              "      <td>20.000000</td>\n",
              "      <td>20.0</td>\n",
              "    </tr>\n",
              "    <tr>\n",
              "      <th>max</th>\n",
              "      <td>20.000000</td>\n",
              "      <td>20.0</td>\n",
              "    </tr>\n",
              "  </tbody>\n",
              "</table>\n",
              "</div>\n",
              "      <button class=\"colab-df-convert\" onclick=\"convertToInteractive('df-490f185f-db66-434e-8333-10373a8fd007')\"\n",
              "              title=\"Convert this dataframe to an interactive table.\"\n",
              "              style=\"display:none;\">\n",
              "        \n",
              "  <svg xmlns=\"http://www.w3.org/2000/svg\" height=\"24px\"viewBox=\"0 0 24 24\"\n",
              "       width=\"24px\">\n",
              "    <path d=\"M0 0h24v24H0V0z\" fill=\"none\"/>\n",
              "    <path d=\"M18.56 5.44l.94 2.06.94-2.06 2.06-.94-2.06-.94-.94-2.06-.94 2.06-2.06.94zm-11 1L8.5 8.5l.94-2.06 2.06-.94-2.06-.94L8.5 2.5l-.94 2.06-2.06.94zm10 10l.94 2.06.94-2.06 2.06-.94-2.06-.94-.94-2.06-.94 2.06-2.06.94z\"/><path d=\"M17.41 7.96l-1.37-1.37c-.4-.4-.92-.59-1.43-.59-.52 0-1.04.2-1.43.59L10.3 9.45l-7.72 7.72c-.78.78-.78 2.05 0 2.83L4 21.41c.39.39.9.59 1.41.59.51 0 1.02-.2 1.41-.59l7.78-7.78 2.81-2.81c.8-.78.8-2.07 0-2.86zM5.41 20L4 18.59l7.72-7.72 1.47 1.35L5.41 20z\"/>\n",
              "  </svg>\n",
              "      </button>\n",
              "      \n",
              "  <style>\n",
              "    .colab-df-container {\n",
              "      display:flex;\n",
              "      flex-wrap:wrap;\n",
              "      gap: 12px;\n",
              "    }\n",
              "\n",
              "    .colab-df-convert {\n",
              "      background-color: #E8F0FE;\n",
              "      border: none;\n",
              "      border-radius: 50%;\n",
              "      cursor: pointer;\n",
              "      display: none;\n",
              "      fill: #1967D2;\n",
              "      height: 32px;\n",
              "      padding: 0 0 0 0;\n",
              "      width: 32px;\n",
              "    }\n",
              "\n",
              "    .colab-df-convert:hover {\n",
              "      background-color: #E2EBFA;\n",
              "      box-shadow: 0px 1px 2px rgba(60, 64, 67, 0.3), 0px 1px 3px 1px rgba(60, 64, 67, 0.15);\n",
              "      fill: #174EA6;\n",
              "    }\n",
              "\n",
              "    [theme=dark] .colab-df-convert {\n",
              "      background-color: #3B4455;\n",
              "      fill: #D2E3FC;\n",
              "    }\n",
              "\n",
              "    [theme=dark] .colab-df-convert:hover {\n",
              "      background-color: #434B5C;\n",
              "      box-shadow: 0px 1px 3px 1px rgba(0, 0, 0, 0.15);\n",
              "      filter: drop-shadow(0px 1px 2px rgba(0, 0, 0, 0.3));\n",
              "      fill: #FFFFFF;\n",
              "    }\n",
              "  </style>\n",
              "\n",
              "      <script>\n",
              "        const buttonEl =\n",
              "          document.querySelector('#df-490f185f-db66-434e-8333-10373a8fd007 button.colab-df-convert');\n",
              "        buttonEl.style.display =\n",
              "          google.colab.kernel.accessAllowed ? 'block' : 'none';\n",
              "\n",
              "        async function convertToInteractive(key) {\n",
              "          const element = document.querySelector('#df-490f185f-db66-434e-8333-10373a8fd007');\n",
              "          const dataTable =\n",
              "            await google.colab.kernel.invokeFunction('convertToInteractive',\n",
              "                                                     [key], {});\n",
              "          if (!dataTable) return;\n",
              "\n",
              "          const docLinkHtml = 'Like what you see? Visit the ' +\n",
              "            '<a target=\"_blank\" href=https://colab.research.google.com/notebooks/data_table.ipynb>data table notebook</a>'\n",
              "            + ' to learn more about interactive tables.';\n",
              "          element.innerHTML = '';\n",
              "          dataTable['output_type'] = 'display_data';\n",
              "          await google.colab.output.renderOutput(dataTable, element);\n",
              "          const docLink = document.createElement('div');\n",
              "          docLink.innerHTML = docLinkHtml;\n",
              "          element.appendChild(docLink);\n",
              "        }\n",
              "      </script>\n",
              "    </div>\n",
              "  </div>\n",
              "  "
            ]
          },
          "metadata": {},
          "execution_count": 97
        }
      ]
    },
    {
      "cell_type": "code",
      "source": [
        "! pip install lifelines  # if not already present install lifelines"
      ],
      "metadata": {
        "id": "aAeDGNTEgfgP",
        "colab": {
          "base_uri": "https://localhost:8080/"
        },
        "outputId": "f80eff1e-627f-45ac-b0b2-af7efba39d27"
      },
      "execution_count": null,
      "outputs": [
        {
          "output_type": "stream",
          "name": "stdout",
          "text": [
            "Looking in indexes: https://pypi.org/simple, https://us-python.pkg.dev/colab-wheels/public/simple/\n",
            "Requirement already satisfied: lifelines in /usr/local/lib/python3.8/dist-packages (0.27.4)\n",
            "Requirement already satisfied: autograd-gamma>=0.3 in /usr/local/lib/python3.8/dist-packages (from lifelines) (0.5.0)\n",
            "Requirement already satisfied: numpy>=1.14.0 in /usr/local/lib/python3.8/dist-packages (from lifelines) (1.21.6)\n",
            "Requirement already satisfied: pandas>=1.0.0 in /usr/local/lib/python3.8/dist-packages (from lifelines) (1.3.5)\n",
            "Requirement already satisfied: formulaic>=0.2.2 in /usr/local/lib/python3.8/dist-packages (from lifelines) (0.5.2)\n",
            "Requirement already satisfied: autograd>=1.5 in /usr/local/lib/python3.8/dist-packages (from lifelines) (1.5)\n",
            "Requirement already satisfied: matplotlib>=3.0 in /usr/local/lib/python3.8/dist-packages (from lifelines) (3.2.2)\n",
            "Requirement already satisfied: scipy>=1.2.0 in /usr/local/lib/python3.8/dist-packages (from lifelines) (1.7.3)\n",
            "Requirement already satisfied: future>=0.15.2 in /usr/local/lib/python3.8/dist-packages (from autograd>=1.5->lifelines) (0.16.0)\n",
            "Requirement already satisfied: astor>=0.8 in /usr/local/lib/python3.8/dist-packages (from formulaic>=0.2.2->lifelines) (0.8.1)\n",
            "Requirement already satisfied: interface-meta>=1.2.0 in /usr/local/lib/python3.8/dist-packages (from formulaic>=0.2.2->lifelines) (1.3.0)\n",
            "Requirement already satisfied: graphlib-backport>=1.0.0 in /usr/local/lib/python3.8/dist-packages (from formulaic>=0.2.2->lifelines) (1.0.3)\n",
            "Requirement already satisfied: wrapt>=1.0 in /usr/local/lib/python3.8/dist-packages (from formulaic>=0.2.2->lifelines) (1.14.1)\n",
            "Requirement already satisfied: typing-extensions>=4.2.0 in /usr/local/lib/python3.8/dist-packages (from formulaic>=0.2.2->lifelines) (4.4.0)\n",
            "Requirement already satisfied: kiwisolver>=1.0.1 in /usr/local/lib/python3.8/dist-packages (from matplotlib>=3.0->lifelines) (1.4.4)\n",
            "Requirement already satisfied: pyparsing!=2.0.4,!=2.1.2,!=2.1.6,>=2.0.1 in /usr/local/lib/python3.8/dist-packages (from matplotlib>=3.0->lifelines) (3.0.9)\n",
            "Requirement already satisfied: cycler>=0.10 in /usr/local/lib/python3.8/dist-packages (from matplotlib>=3.0->lifelines) (0.11.0)\n",
            "Requirement already satisfied: python-dateutil>=2.1 in /usr/local/lib/python3.8/dist-packages (from matplotlib>=3.0->lifelines) (2.8.2)\n",
            "Requirement already satisfied: pytz>=2017.3 in /usr/local/lib/python3.8/dist-packages (from pandas>=1.0.0->lifelines) (2022.7.1)\n",
            "Requirement already satisfied: six>=1.5 in /usr/local/lib/python3.8/dist-packages (from python-dateutil>=2.1->matplotlib>=3.0->lifelines) (1.15.0)\n"
          ]
        }
      ]
    },
    {
      "cell_type": "code",
      "source": [
        "p_dat = w_mean_estimator(dat_expand['renewals']) #estimate parameter p in real data"
      ],
      "metadata": {
        "id": "Mbf7-j51fSms"
      },
      "execution_count": null,
      "outputs": []
    },
    {
      "cell_type": "code",
      "source": [
        "#simulate data with our model\n",
        "n = dat_expand.shape[0]\n",
        "p = p_dat\n",
        "T = 20\n",
        "renewal_time_geom = simulate_unsubscriptions_geom(n,p,T)\n"
      ],
      "metadata": {
        "id": "fpjvMKssiY2k"
      },
      "execution_count": null,
      "outputs": []
    },
    {
      "cell_type": "code",
      "source": [
        "from lifelines import KaplanMeierFitter\n",
        "import matplotlib.pyplot as plt\n",
        "plt.figure(figsize=(10,6))\n",
        "kmf = KaplanMeierFitter()\n",
        "kmf.fit(durations = renewal_time_geom)\n",
        "kmf.plot_survival_function(label='Simulation')\n",
        "kmf.fit(durations = dat_expand['renewals'])\n",
        "kmf.plot_survival_function(label='Real data')"
      ],
      "metadata": {
        "colab": {
          "base_uri": "https://localhost:8080/",
          "height": 406
        },
        "id": "_dZUc_xKhaBG",
        "outputId": "ff108255-688e-4636-d83f-a1c09e52a62f"
      },
      "execution_count": null,
      "outputs": [
        {
          "output_type": "execute_result",
          "data": {
            "text/plain": [
              "<matplotlib.axes._subplots.AxesSubplot at 0x7f4ef065fd60>"
            ]
          },
          "metadata": {},
          "execution_count": 162
        },
        {
          "output_type": "display_data",
          "data": {
            "text/plain": [
              "<Figure size 720x432 with 1 Axes>"
            ],
            "image/png": "[encoded data removed]"
          },
          "metadata": {
            "needs_background": "light"
          }
        }
      ]
    },
    {
      "cell_type": "code",
      "source": [],
      "metadata": {
        "id": "YLRihBdR-sfP"
      },
      "execution_count": null,
      "outputs": []
    },
    {
      "cell_type": "markdown",
      "source": [
        "### Test time stability of parameter p in time"
      ],
      "metadata": {
        "id": "fWDwteP2Gp5-"
      }
    },
    {
      "cell_type": "code",
      "source": [
        "filt=2"
      ],
      "metadata": {
        "id": "uS1qE8l6mGr_"
      },
      "execution_count": null,
      "outputs": []
    },
    {
      "cell_type": "code",
      "source": [
        "w_mean_estimator(dat_expand['renewals'][dat_expand['renewals']>=filt]-filt),prob_max_estimate(dat_expand['renewals'][dat_expand['renewals']>=filt]-filt, T-filt)"
      ],
      "metadata": {
        "colab": {
          "base_uri": "https://localhost:8080/"
        },
        "id": "j8_NkXeehtSa",
        "outputId": "705ab5c6-ce67-4f0b-f757-11c095db43b0"
      },
      "execution_count": null,
      "outputs": [
        {
          "output_type": "stream",
          "name": "stderr",
          "text": [
            "/usr/local/lib/python3.8/dist-packages/scipy/optimize/_hessian_update_strategy.py:182: UserWarning: delta_grad == 0.0. Check if the approximated function is linear. If the function is linear better results can be obtained by defining the Hessian as zero instead of using quasi-Newton approximations.\n",
            "  warn('delta_grad == 0.0. Check if the approximated '\n"
          ]
        },
        {
          "output_type": "execute_result",
          "data": {
            "text/plain": [
              "(0.040670632774472686, 0.03900263295388988)"
            ]
          },
          "metadata": {},
          "execution_count": 174
        }
      ]
    },
    {
      "cell_type": "code",
      "source": [
        "w_mean_estimator(renewal_time_geom[renewal_time_geom>=filt]-filt),prob_max_estimate(renewal_time_geom[renewal_time_geom>=filt]-filt, T-filt)"
      ],
      "metadata": {
        "colab": {
          "base_uri": "https://localhost:8080/"
        },
        "id": "764Zd7dF7cGA",
        "outputId": "f5111998-f76e-4dda-9968-6edc916379e1"
      },
      "execution_count": null,
      "outputs": [
        {
          "output_type": "execute_result",
          "data": {
            "text/plain": [
              "(0.07436347268068604, 0.07258736539906543)"
            ]
          },
          "metadata": {},
          "execution_count": 175
        }
      ]
    },
    {
      "cell_type": "markdown",
      "source": [
        "From the test above we can see that the model, as currently defined, is not enought to simulate real data. In particular the probability of unsubscription seems to be time dependent, differently from the sinthetic model.\n",
        "\n",
        "In the provided data we observe a decreasing probability of unsubscription per time window as the observation period goes, while we built a simulation model that keeps the parameter p stable trought the T observations' time windows."
      ],
      "metadata": {
        "id": "ZtVCdWx8Ea1a"
      }
    },
    {
      "cell_type": "code",
      "source": [],
      "metadata": {
        "id": "vDW7XrfWkJ2U"
      },
      "execution_count": null,
      "outputs": []
    },
    {
      "cell_type": "code",
      "source": [],
      "metadata": {
        "id": "_afMciGdkMdS"
      },
      "execution_count": null,
      "outputs": []
    }
  ]
}