{
  "cells": [
    {
      "cell_type": "code",
      "execution_count": 2,
      "metadata": {
        "id": "LeHYQs9wWNl5"
      },
      "outputs": [],
      "source": [
        "import pandas as pd\n",
        "import numpy as np\n",
        "import seaborn as sns\n"
      ]
    },
    {
      "cell_type": "code",
      "execution_count": 35,
      "metadata": {
        "id": "n594Ob4QWWAh"
      },
      "outputs": [],
      "source": [
        "train = pd.read_csv('/content/train.csv')\n",
        "test = pd.read_csv('/content/test.csv')"
      ]
    },
    {
      "cell_type": "code",
      "execution_count": 36,
      "metadata": {
        "colab": {
          "base_uri": "https://localhost:8080/",
          "height": 211
        },
        "id": "ZkmC97yuWWC8",
        "outputId": "9abc52f7-8955-49b6-f826-4cf7fa0893f8"
      },
      "outputs": [
        {
          "output_type": "execute_result",
          "data": {
            "text/plain": [
              "                        uid          install_timestamp  \\\n",
              "0  wBmGYN3Z+l3OBvdnzv/fdw==  2019-06-07 00:01:44+00:00   \n",
              "1  s8j5KRaEXICNrKRsaBB8FQ==  2019-06-07 00:05:10+00:00   \n",
              "\n",
              "        free_trial_timestamp country language device_type os_version  \\\n",
              "0  2019-06-07 03:12:33+00:00      US       en    iPhone 6       12.2   \n",
              "1  2019-06-08 07:39:48+00:00      US       en    iPhone X     12.3.1   \n",
              "\n",
              "  attribution_network  product_price_tier  product_periodicity  \\\n",
              "0   Snapchat Installs                  20                   30   \n",
              "1             Organic                   6                    7   \n",
              "\n",
              "   product_free_trial_length  onboarding_birth_year onboarding_gender  \\\n",
              "0                          7                 2005.0                 M   \n",
              "1                          7                 2000.0                 M   \n",
              "\n",
              "   net_purchases_15d  net_purchases_1y  \n",
              "0                0.0               0.0  \n",
              "1                4.2              63.0  "
            ],
            "text/html": [
              "\n",
              "  <div id=\"df-ae178fdf-efe4-4ca9-b844-6d5d897e73bd\">\n",
              "    <div class=\"colab-df-container\">\n",
              "      <div>\n",
              "<style scoped>\n",
              "    .dataframe tbody tr th:only-of-type {\n",
              "        vertical-align: middle;\n",
              "    }\n",
              "\n",
              "    .dataframe tbody tr th {\n",
              "        vertical-align: top;\n",
              "    }\n",
              "\n",
              "    .dataframe thead th {\n",
              "        text-align: right;\n",
              "    }\n",
              "</style>\n",
              "<table border=\"1\" class=\"dataframe\">\n",
              "  <thead>\n",
              "    <tr style=\"text-align: right;\">\n",
              "      <th></th>\n",
              "      <th>uid</th>\n",
              "      <th>install_timestamp</th>\n",
              "      <th>free_trial_timestamp</th>\n",
              "      <th>country</th>\n",
              "      <th>language</th>\n",
              "      <th>device_type</th>\n",
              "      <th>os_version</th>\n",
              "      <th>attribution_network</th>\n",
              "      <th>product_price_tier</th>\n",
              "      <th>product_periodicity</th>\n",
              "      <th>product_free_trial_length</th>\n",
              "      <th>onboarding_birth_year</th>\n",
              "      <th>onboarding_gender</th>\n",
              "      <th>net_purchases_15d</th>\n",
              "      <th>net_purchases_1y</th>\n",
              "    </tr>\n",
              "  </thead>\n",
              "  <tbody>\n",
              "    <tr>\n",
              "      <th>0</th>\n",
              "      <td>wBmGYN3Z+l3OBvdnzv/fdw==</td>\n",
              "      <td>2019-06-07 00:01:44+00:00</td>\n",
              "      <td>2019-06-07 03:12:33+00:00</td>\n",
              "      <td>US</td>\n",
              "      <td>en</td>\n",
              "      <td>iPhone 6</td>\n",
              "      <td>12.2</td>\n",
              "      <td>Snapchat Installs</td>\n",
              "      <td>20</td>\n",
              "      <td>30</td>\n",
              "      <td>7</td>\n",
              "      <td>2005.0</td>\n",
              "      <td>M</td>\n",
              "      <td>0.0</td>\n",
              "      <td>0.0</td>\n",
              "    </tr>\n",
              "    <tr>\n",
              "      <th>1</th>\n",
              "      <td>s8j5KRaEXICNrKRsaBB8FQ==</td>\n",
              "      <td>2019-06-07 00:05:10+00:00</td>\n",
              "      <td>2019-06-08 07:39:48+00:00</td>\n",
              "      <td>US</td>\n",
              "      <td>en</td>\n",
              "      <td>iPhone X</td>\n",
              "      <td>12.3.1</td>\n",
              "      <td>Organic</td>\n",
              "      <td>6</td>\n",
              "      <td>7</td>\n",
              "      <td>7</td>\n",
              "      <td>2000.0</td>\n",
              "      <td>M</td>\n",
              "      <td>4.2</td>\n",
              "      <td>63.0</td>\n",
              "    </tr>\n",
              "  </tbody>\n",
              "</table>\n",
              "</div>\n",
              "      <button class=\"colab-df-convert\" onclick=\"convertToInteractive('df-ae178fdf-efe4-4ca9-b844-6d5d897e73bd')\"\n",
              "              title=\"Convert this dataframe to an interactive table.\"\n",
              "              style=\"display:none;\">\n",
              "        \n",
              "  <svg xmlns=\"http://www.w3.org/2000/svg\" height=\"24px\"viewBox=\"0 0 24 24\"\n",
              "       width=\"24px\">\n",
              "    <path d=\"M0 0h24v24H0V0z\" fill=\"none\"/>\n",
              "    <path d=\"M18.56 5.44l.94 2.06.94-2.06 2.06-.94-2.06-.94-.94-2.06-.94 2.06-2.06.94zm-11 1L8.5 8.5l.94-2.06 2.06-.94-2.06-.94L8.5 2.5l-.94 2.06-2.06.94zm10 10l.94 2.06.94-2.06 2.06-.94-2.06-.94-.94-2.06-.94 2.06-2.06.94z\"/><path d=\"M17.41 7.96l-1.37-1.37c-.4-.4-.92-.59-1.43-.59-.52 0-1.04.2-1.43.59L10.3 9.45l-7.72 7.72c-.78.78-.78 2.05 0 2.83L4 21.41c.39.39.9.59 1.41.59.51 0 1.02-.2 1.41-.59l7.78-7.78 2.81-2.81c.8-.78.8-2.07 0-2.86zM5.41 20L4 18.59l7.72-7.72 1.47 1.35L5.41 20z\"/>\n",
              "  </svg>\n",
              "      </button>\n",
              "      \n",
              "  <style>\n",
              "    .colab-df-container {\n",
              "      display:flex;\n",
              "      flex-wrap:wrap;\n",
              "      gap: 12px;\n",
              "    }\n",
              "\n",
              "    .colab-df-convert {\n",
              "      background-color: #E8F0FE;\n",
              "      border: none;\n",
              "      border-radius: 50%;\n",
              "      cursor: pointer;\n",
              "      display: none;\n",
              "      fill: #1967D2;\n",
              "      height: 32px;\n",
              "      padding: 0 0 0 0;\n",
              "      width: 32px;\n",
              "    }\n",
              "\n",
              "    .colab-df-convert:hover {\n",
              "      background-color: #E2EBFA;\n",
              "      box-shadow: 0px 1px 2px rgba(60, 64, 67, 0.3), 0px 1px 3px 1px rgba(60, 64, 67, 0.15);\n",
              "      fill: #174EA6;\n",
              "    }\n",
              "\n",
              "    [theme=dark] .colab-df-convert {\n",
              "      background-color: #3B4455;\n",
              "      fill: #D2E3FC;\n",
              "    }\n",
              "\n",
              "    [theme=dark] .colab-df-convert:hover {\n",
              "      background-color: #434B5C;\n",
              "      box-shadow: 0px 1px 3px 1px rgba(0, 0, 0, 0.15);\n",
              "      filter: drop-shadow(0px 1px 2px rgba(0, 0, 0, 0.3));\n",
              "      fill: #FFFFFF;\n",
              "    }\n",
              "  </style>\n",
              "\n",
              "      <script>\n",
              "        const buttonEl =\n",
              "          document.querySelector('#df-ae178fdf-efe4-4ca9-b844-6d5d897e73bd button.colab-df-convert');\n",
              "        buttonEl.style.display =\n",
              "          google.colab.kernel.accessAllowed ? 'block' : 'none';\n",
              "\n",
              "        async function convertToInteractive(key) {\n",
              "          const element = document.querySelector('#df-ae178fdf-efe4-4ca9-b844-6d5d897e73bd');\n",
              "          const dataTable =\n",
              "            await google.colab.kernel.invokeFunction('convertToInteractive',\n",
              "                                                     [key], {});\n",
              "          if (!dataTable) return;\n",
              "\n",
              "          const docLinkHtml = 'Like what you see? Visit the ' +\n",
              "            '<a target=\"_blank\" href=https://colab.research.google.com/notebooks/data_table.ipynb>data table notebook</a>'\n",
              "            + ' to learn more about interactive tables.';\n",
              "          element.innerHTML = '';\n",
              "          dataTable['output_type'] = 'display_data';\n",
              "          await google.colab.output.renderOutput(dataTable, element);\n",
              "          const docLink = document.createElement('div');\n",
              "          docLink.innerHTML = docLinkHtml;\n",
              "          element.appendChild(docLink);\n",
              "        }\n",
              "      </script>\n",
              "    </div>\n",
              "  </div>\n",
              "  "
            ]
          },
          "metadata": {},
          "execution_count": 36
        }
      ],
      "source": [
        "train.head(2)"
      ]
    },
    {
      "cell_type": "code",
      "execution_count": 37,
      "metadata": {
        "colab": {
          "base_uri": "https://localhost:8080/"
        },
        "id": "Pol0mm0A12ph",
        "outputId": "d9c673c2-f435-42b3-c1f2-aed7ee72329c"
      },
      "outputs": [
        {
          "output_type": "execute_result",
          "data": {
            "text/plain": [
              "((13370, 15), (13040, 15))"
            ]
          },
          "metadata": {},
          "execution_count": 37
        }
      ],
      "source": [
        "train.shape, train.dropna().shape # there are some missing data, let's see where"
      ]
    },
    {
      "cell_type": "code",
      "execution_count": 38,
      "metadata": {
        "colab": {
          "base_uri": "https://localhost:8080/"
        },
        "id": "hKXnMZWEaeMj",
        "outputId": "1ef02708-4d62-43d4-8c09-e118f7e2e49f"
      },
      "outputs": [
        {
          "output_type": "execute_result",
          "data": {
            "text/plain": [
              "uid                            0\n",
              "install_timestamp              0\n",
              "free_trial_timestamp           6\n",
              "country                        2\n",
              "language                       0\n",
              "device_type                    0\n",
              "os_version                     0\n",
              "attribution_network           76\n",
              "product_price_tier             0\n",
              "product_periodicity            0\n",
              "product_free_trial_length      0\n",
              "onboarding_birth_year        251\n",
              "onboarding_gender            251\n",
              "net_purchases_15d              0\n",
              "net_purchases_1y               0\n",
              "dtype: int64"
            ]
          },
          "metadata": {},
          "execution_count": 38
        }
      ],
      "source": [
        "train.isnull().sum()"
      ]
    },
    {
      "cell_type": "code",
      "execution_count": 39,
      "metadata": {
        "colab": {
          "base_uri": "https://localhost:8080/",
          "height": 300
        },
        "id": "M-qWC494aqL6",
        "outputId": "329f7a20-5642-4633-e9cb-a19fc24b13d7"
      },
      "outputs": [
        {
          "output_type": "execute_result",
          "data": {
            "text/plain": [
              "       product_price_tier  product_periodicity  product_free_trial_length  \\\n",
              "count        13370.000000         13370.000000                    13370.0   \n",
              "mean            20.992820            48.811369                        7.0   \n",
              "std             11.087428            82.858099                        0.0   \n",
              "min              6.000000             7.000000                        7.0   \n",
              "25%             20.000000            30.000000                        7.0   \n",
              "50%             20.000000            30.000000                        7.0   \n",
              "75%             20.000000            30.000000                        7.0   \n",
              "max             60.000000           365.000000                        7.0   \n",
              "\n",
              "       onboarding_birth_year  net_purchases_15d  net_purchases_1y  \n",
              "count           13119.000000       13370.000000      13370.000000  \n",
              "mean             1993.429606           2.161191          7.014911  \n",
              "std                14.970466           3.784696         15.907462  \n",
              "min              1900.000000           0.000000          0.000000  \n",
              "25%              1989.000000           0.000000          0.000000  \n",
              "50%              1996.000000           0.000000          0.000000  \n",
              "75%              2000.000000           6.630000          7.000000  \n",
              "max              2557.000000          22.210000        116.199997  "
            ],
            "text/html": [
              "\n",
              "  <div id=\"df-39c1cd67-6033-44d8-87ab-0bd52b5fb51c\">\n",
              "    <div class=\"colab-df-container\">\n",
              "      <div>\n",
              "<style scoped>\n",
              "    .dataframe tbody tr th:only-of-type {\n",
              "        vertical-align: middle;\n",
              "    }\n",
              "\n",
              "    .dataframe tbody tr th {\n",
              "        vertical-align: top;\n",
              "    }\n",
              "\n",
              "    .dataframe thead th {\n",
              "        text-align: right;\n",
              "    }\n",
              "</style>\n",
              "<table border=\"1\" class=\"dataframe\">\n",
              "  <thead>\n",
              "    <tr style=\"text-align: right;\">\n",
              "      <th></th>\n",
              "      <th>product_price_tier</th>\n",
              "      <th>product_periodicity</th>\n",
              "      <th>product_free_trial_length</th>\n",
              "      <th>onboarding_birth_year</th>\n",
              "      <th>net_purchases_15d</th>\n",
              "      <th>net_purchases_1y</th>\n",
              "    </tr>\n",
              "  </thead>\n",
              "  <tbody>\n",
              "    <tr>\n",
              "      <th>count</th>\n",
              "      <td>13370.000000</td>\n",
              "      <td>13370.000000</td>\n",
              "      <td>13370.0</td>\n",
              "      <td>13119.000000</td>\n",
              "      <td>13370.000000</td>\n",
              "      <td>13370.000000</td>\n",
              "    </tr>\n",
              "    <tr>\n",
              "      <th>mean</th>\n",
              "      <td>20.992820</td>\n",
              "      <td>48.811369</td>\n",
              "      <td>7.0</td>\n",
              "      <td>1993.429606</td>\n",
              "      <td>2.161191</td>\n",
              "      <td>7.014911</td>\n",
              "    </tr>\n",
              "    <tr>\n",
              "      <th>std</th>\n",
              "      <td>11.087428</td>\n",
              "      <td>82.858099</td>\n",
              "      <td>0.0</td>\n",
              "      <td>14.970466</td>\n",
              "      <td>3.784696</td>\n",
              "      <td>15.907462</td>\n",
              "    </tr>\n",
              "    <tr>\n",
              "      <th>min</th>\n",
              "      <td>6.000000</td>\n",
              "      <td>7.000000</td>\n",
              "      <td>7.0</td>\n",
              "      <td>1900.000000</td>\n",
              "      <td>0.000000</td>\n",
              "      <td>0.000000</td>\n",
              "    </tr>\n",
              "    <tr>\n",
              "      <th>25%</th>\n",
              "      <td>20.000000</td>\n",
              "      <td>30.000000</td>\n",
              "      <td>7.0</td>\n",
              "      <td>1989.000000</td>\n",
              "      <td>0.000000</td>\n",
              "      <td>0.000000</td>\n",
              "    </tr>\n",
              "    <tr>\n",
              "      <th>50%</th>\n",
              "      <td>20.000000</td>\n",
              "      <td>30.000000</td>\n",
              "      <td>7.0</td>\n",
              "      <td>1996.000000</td>\n",
              "      <td>0.000000</td>\n",
              "      <td>0.000000</td>\n",
              "    </tr>\n",
              "    <tr>\n",
              "      <th>75%</th>\n",
              "      <td>20.000000</td>\n",
              "      <td>30.000000</td>\n",
              "      <td>7.0</td>\n",
              "      <td>2000.000000</td>\n",
              "      <td>6.630000</td>\n",
              "      <td>7.000000</td>\n",
              "    </tr>\n",
              "    <tr>\n",
              "      <th>max</th>\n",
              "      <td>60.000000</td>\n",
              "      <td>365.000000</td>\n",
              "      <td>7.0</td>\n",
              "      <td>2557.000000</td>\n",
              "      <td>22.210000</td>\n",
              "      <td>116.199997</td>\n",
              "    </tr>\n",
              "  </tbody>\n",
              "</table>\n",
              "</div>\n",
              "      <button class=\"colab-df-convert\" onclick=\"convertToInteractive('df-39c1cd67-6033-44d8-87ab-0bd52b5fb51c')\"\n",
              "              title=\"Convert this dataframe to an interactive table.\"\n",
              "              style=\"display:none;\">\n",
              "        \n",
              "  <svg xmlns=\"http://www.w3.org/2000/svg\" height=\"24px\"viewBox=\"0 0 24 24\"\n",
              "       width=\"24px\">\n",
              "    <path d=\"M0 0h24v24H0V0z\" fill=\"none\"/>\n",
              "    <path d=\"M18.56 5.44l.94 2.06.94-2.06 2.06-.94-2.06-.94-.94-2.06-.94 2.06-2.06.94zm-11 1L8.5 8.5l.94-2.06 2.06-.94-2.06-.94L8.5 2.5l-.94 2.06-2.06.94zm10 10l.94 2.06.94-2.06 2.06-.94-2.06-.94-.94-2.06-.94 2.06-2.06.94z\"/><path d=\"M17.41 7.96l-1.37-1.37c-.4-.4-.92-.59-1.43-.59-.52 0-1.04.2-1.43.59L10.3 9.45l-7.72 7.72c-.78.78-.78 2.05 0 2.83L4 21.41c.39.39.9.59 1.41.59.51 0 1.02-.2 1.41-.59l7.78-7.78 2.81-2.81c.8-.78.8-2.07 0-2.86zM5.41 20L4 18.59l7.72-7.72 1.47 1.35L5.41 20z\"/>\n",
              "  </svg>\n",
              "      </button>\n",
              "      \n",
              "  <style>\n",
              "    .colab-df-container {\n",
              "      display:flex;\n",
              "      flex-wrap:wrap;\n",
              "      gap: 12px;\n",
              "    }\n",
              "\n",
              "    .colab-df-convert {\n",
              "      background-color: #E8F0FE;\n",
              "      border: none;\n",
              "      border-radius: 50%;\n",
              "      cursor: pointer;\n",
              "      display: none;\n",
              "      fill: #1967D2;\n",
              "      height: 32px;\n",
              "      padding: 0 0 0 0;\n",
              "      width: 32px;\n",
              "    }\n",
              "\n",
              "    .colab-df-convert:hover {\n",
              "      background-color: #E2EBFA;\n",
              "      box-shadow: 0px 1px 2px rgba(60, 64, 67, 0.3), 0px 1px 3px 1px rgba(60, 64, 67, 0.15);\n",
              "      fill: #174EA6;\n",
              "    }\n",
              "\n",
              "    [theme=dark] .colab-df-convert {\n",
              "      background-color: #3B4455;\n",
              "      fill: #D2E3FC;\n",
              "    }\n",
              "\n",
              "    [theme=dark] .colab-df-convert:hover {\n",
              "      background-color: #434B5C;\n",
              "      box-shadow: 0px 1px 3px 1px rgba(0, 0, 0, 0.15);\n",
              "      filter: drop-shadow(0px 1px 2px rgba(0, 0, 0, 0.3));\n",
              "      fill: #FFFFFF;\n",
              "    }\n",
              "  </style>\n",
              "\n",
              "      <script>\n",
              "        const buttonEl =\n",
              "          document.querySelector('#df-39c1cd67-6033-44d8-87ab-0bd52b5fb51c button.colab-df-convert');\n",
              "        buttonEl.style.display =\n",
              "          google.colab.kernel.accessAllowed ? 'block' : 'none';\n",
              "\n",
              "        async function convertToInteractive(key) {\n",
              "          const element = document.querySelector('#df-39c1cd67-6033-44d8-87ab-0bd52b5fb51c');\n",
              "          const dataTable =\n",
              "            await google.colab.kernel.invokeFunction('convertToInteractive',\n",
              "                                                     [key], {});\n",
              "          if (!dataTable) return;\n",
              "\n",
              "          const docLinkHtml = 'Like what you see? Visit the ' +\n",
              "            '<a target=\"_blank\" href=https://colab.research.google.com/notebooks/data_table.ipynb>data table notebook</a>'\n",
              "            + ' to learn more about interactive tables.';\n",
              "          element.innerHTML = '';\n",
              "          dataTable['output_type'] = 'display_data';\n",
              "          await google.colab.output.renderOutput(dataTable, element);\n",
              "          const docLink = document.createElement('div');\n",
              "          docLink.innerHTML = docLinkHtml;\n",
              "          element.appendChild(docLink);\n",
              "        }\n",
              "      </script>\n",
              "    </div>\n",
              "  </div>\n",
              "  "
            ]
          },
          "metadata": {},
          "execution_count": 39
        }
      ],
      "source": [
        "train.describe() \n",
        "# the free trial length has no variability, can be removed\n",
        "# we can clearly see that there are wrong data in onboarding_birth_year, a data cleaning step is needed\n",
        "# the distribution of net_purchases_15d and net_purchases_1y are right-skewed, I will try some transformation to check if this helps in prediction phase"
      ]
    },
    {
      "cell_type": "code",
      "execution_count": 40,
      "metadata": {
        "colab": {
          "base_uri": "https://localhost:8080/"
        },
        "id": "i8f_slt68HSi",
        "outputId": "f520bc95-41f0-469a-80be-10a0a9051ddb"
      },
      "outputs": [
        {
          "output_type": "execute_result",
          "data": {
            "text/plain": [
              "0        7\n",
              "1        7\n",
              "2        7\n",
              "3        7\n",
              "4        7\n",
              "        ..\n",
              "13365    7\n",
              "13366    7\n",
              "13367    7\n",
              "13368    7\n",
              "13369    7\n",
              "Name: product_free_trial_length, Length: 13370, dtype: int64"
            ]
          },
          "metadata": {},
          "execution_count": 40
        }
      ],
      "source": [
        "train.pop('product_free_trial_length')"
      ]
    },
    {
      "cell_type": "code",
      "execution_count": 40,
      "metadata": {
        "id": "JeLAHf5xdhcG"
      },
      "outputs": [],
      "source": []
    },
    {
      "cell_type": "code",
      "execution_count": 41,
      "metadata": {
        "colab": {
          "base_uri": "https://localhost:8080/",
          "height": 352
        },
        "id": "gmCqHEft-kxd",
        "outputId": "3ee94c29-396b-49da-d16f-e6b1d1766700"
      },
      "outputs": [
        {
          "output_type": "stream",
          "name": "stderr",
          "text": [
            "/usr/local/lib/python3.8/dist-packages/seaborn/distributions.py:2619: FutureWarning: `distplot` is a deprecated function and will be removed in a future version. Please adapt your code to use either `displot` (a figure-level function with similar flexibility) or `histplot` (an axes-level function for histograms).\n",
            "  warnings.warn(msg, FutureWarning)\n"
          ]
        },
        {
          "output_type": "execute_result",
          "data": {
            "text/plain": [
              "<AxesSubplot:xlabel='net_purchases_1y', ylabel='Density'>"
            ]
          },
          "metadata": {},
          "execution_count": 41
        },
        {
          "output_type": "display_data",
          "data": {
            "text/plain": [
              "<Figure size 432x288 with 1 Axes>"
            ],
            "image/png": "[encoded data removed]"
          },
          "metadata": {
            "needs_background": "light"
          }
        }
      ],
      "source": [
        "# let's see net_purchases_1y distribution\n",
        "\n",
        "sns.distplot(train['net_purchases_1y'])"
      ]
    },
    {
      "cell_type": "code",
      "execution_count": 42,
      "metadata": {
        "colab": {
          "base_uri": "https://localhost:8080/",
          "height": 352
        },
        "id": "u_d_quwjxwAq",
        "outputId": "a435d7bf-bb5a-4cb7-eccd-191c025bf5a7"
      },
      "outputs": [
        {
          "output_type": "stream",
          "name": "stderr",
          "text": [
            "/usr/local/lib/python3.8/dist-packages/seaborn/distributions.py:2619: FutureWarning: `distplot` is a deprecated function and will be removed in a future version. Please adapt your code to use either `displot` (a figure-level function with similar flexibility) or `histplot` (an axes-level function for histograms).\n",
            "  warnings.warn(msg, FutureWarning)\n"
          ]
        },
        {
          "output_type": "execute_result",
          "data": {
            "text/plain": [
              "<AxesSubplot:xlabel='net_purchases_1y', ylabel='Density'>"
            ]
          },
          "metadata": {},
          "execution_count": 42
        },
        {
          "output_type": "display_data",
          "data": {
            "text/plain": [
              "<Figure size 432x288 with 1 Axes>"
            ],
            "image/png": "[encoded data removed]"
          },
          "metadata": {
            "needs_background": "light"
          }
        }
      ],
      "source": [
        "net1y_log = np.log(train['net_purchases_1y'] + 1) # the log transformation seems to make the distribution less skewed (expecialy if one take a look at net_purchases_1y>0), I will check if this helps in prediction later on\n",
        "sns.distplot(net1y_log)"
      ]
    },
    {
      "cell_type": "code",
      "execution_count": 42,
      "metadata": {
        "id": "OltdBXUwxqtv"
      },
      "outputs": [],
      "source": []
    },
    {
      "cell_type": "code",
      "execution_count": 43,
      "metadata": {
        "id": "5L3qiyCOwdkA"
      },
      "outputs": [],
      "source": [
        "from scipy.special import boxcox, inv_boxcox #let's check other transformations\n",
        "data = boxcox(train['net_purchases_1y']+1, 0.5)"
      ]
    },
    {
      "cell_type": "code",
      "execution_count": 44,
      "metadata": {
        "colab": {
          "base_uri": "https://localhost:8080/",
          "height": 404
        },
        "id": "Mn1r85V97ull",
        "outputId": "f3205808-c11a-42ee-91ba-c12921f97ae4"
      },
      "outputs": [
        {
          "output_type": "execute_result",
          "data": {
            "text/plain": [
              "{'whiskers': [<matplotlib.lines.Line2D at 0x7f8ab9a97880>,\n",
              "  <matplotlib.lines.Line2D at 0x7f8ab9a2e040>],\n",
              " 'caps': [<matplotlib.lines.Line2D at 0x7f8ab9a2e310>,\n",
              "  <matplotlib.lines.Line2D at 0x7f8ab9a2e5e0>],\n",
              " 'boxes': [<matplotlib.lines.Line2D at 0x7f8ab9a24b80>],\n",
              " 'medians': [<matplotlib.lines.Line2D at 0x7f8ab9a2e8b0>],\n",
              " 'fliers': [<matplotlib.lines.Line2D at 0x7f8ab9a2eb80>],\n",
              " 'means': []}"
            ]
          },
          "metadata": {},
          "execution_count": 44
        },
        {
          "output_type": "display_data",
          "data": {
            "text/plain": [
              "<Figure size 432x288 with 1 Axes>"
            ],
            "image/png": "[encoded data removed]"
          },
          "metadata": {
            "needs_background": "light"
          }
        }
      ],
      "source": [
        "import matplotlib.pyplot as plt\n",
        "plt.boxplot(data)"
      ]
    },
    {
      "cell_type": "code",
      "execution_count": 45,
      "metadata": {
        "colab": {
          "base_uri": "https://localhost:8080/",
          "height": 352
        },
        "id": "By4iF2kL_FR4",
        "outputId": "c91e2ff3-903d-47c3-ce72-a8a6bea786a2"
      },
      "outputs": [
        {
          "output_type": "stream",
          "name": "stderr",
          "text": [
            "/usr/local/lib/python3.8/dist-packages/seaborn/distributions.py:2619: FutureWarning: `distplot` is a deprecated function and will be removed in a future version. Please adapt your code to use either `displot` (a figure-level function with similar flexibility) or `histplot` (an axes-level function for histograms).\n",
            "  warnings.warn(msg, FutureWarning)\n"
          ]
        },
        {
          "output_type": "execute_result",
          "data": {
            "text/plain": [
              "<AxesSubplot:xlabel='net_purchases_1y', ylabel='Density'>"
            ]
          },
          "metadata": {},
          "execution_count": 45
        },
        {
          "output_type": "display_data",
          "data": {
            "text/plain": [
              "<Figure size 432x288 with 1 Axes>"
            ],
            "image/png": "[encoded data removed]"
          },
          "metadata": {
            "needs_background": "light"
          }
        }
      ],
      "source": [
        "sns.distplot(data)"
      ]
    },
    {
      "cell_type": "code",
      "execution_count": 46,
      "metadata": {
        "colab": {
          "base_uri": "https://localhost:8080/",
          "height": 920
        },
        "id": "si1eEZuk2m2f",
        "outputId": "0b5da598-6047-463b-89cd-8a0509c6a8cc"
      },
      "outputs": [
        {
          "output_type": "execute_result",
          "data": {
            "text/plain": [
              "<seaborn.axisgrid.PairGrid at 0x7f8ab9982040>"
            ]
          },
          "metadata": {},
          "execution_count": 46
        },
        {
          "output_type": "display_data",
          "data": {
            "text/plain": [
              "<Figure size 900x900 with 30 Axes>"
            ],
            "image/png": "[encoded data removed]"
          },
          "metadata": {
            "needs_background": "light"
          }
        }
      ],
      "source": [
        "sns.pairplot(train,  kind=\"reg\", diag_kind = \"kde\")\n",
        "# there is no feature strongly correlated with net_purchases_1y except from net_purchases_15d\n"
      ]
    },
    {
      "cell_type": "code",
      "execution_count": 47,
      "metadata": {
        "colab": {
          "base_uri": "https://localhost:8080/",
          "height": 389
        },
        "id": "1CpQnRWi_MtK",
        "outputId": "0328b20e-f30d-4a73-b16f-873c24144d72"
      },
      "outputs": [
        {
          "output_type": "execute_result",
          "data": {
            "text/plain": [
              "<AxesSubplot:>"
            ]
          },
          "metadata": {},
          "execution_count": 47
        },
        {
          "output_type": "display_data",
          "data": {
            "text/plain": [
              "<Figure size 432x288 with 2 Axes>"
            ],
            "image/png": "[encoded data removed]"
          },
          "metadata": {
            "needs_background": "light"
          }
        }
      ],
      "source": [
        "traincorr = train.corr()\n",
        "sns.heatmap(traincorr) # the low correlation of 1y net purchases with other features is confirmed"
      ]
    },
    {
      "cell_type": "code",
      "execution_count": 48,
      "metadata": {
        "colab": {
          "base_uri": "https://localhost:8080/",
          "height": 211
        },
        "id": "rrGvzdIcWWFE",
        "outputId": "5173a2f0-c13c-4f15-97a7-b625b2ed0a05"
      },
      "outputs": [
        {
          "output_type": "execute_result",
          "data": {
            "text/plain": [
              "                        uid          install_timestamp  \\\n",
              "0  oZM0Urdhm8tR1ZYKnyGbYw==  2019-06-07 00:11:25+00:00   \n",
              "1  0VzRx4ggiIhf66/Rx8b16Q==  2019-06-07 00:18:03+00:00   \n",
              "\n",
              "        free_trial_timestamp country language    device_type os_version  \\\n",
              "0  2019-06-07 00:12:35+00:00      GB       en       iPhone 7       12.2   \n",
              "1  2019-06-07 00:22:42+00:00      FR       fr  iPhone 8 Plus     12.3.1   \n",
              "\n",
              "  attribution_network  product_price_tier  product_periodicity  \\\n",
              "0             Organic                   6                    7   \n",
              "1   Snapchat Installs                  20                   30   \n",
              "\n",
              "   product_free_trial_length  onboarding_birth_year onboarding_gender  \\\n",
              "0                          7                 1989.0                 M   \n",
              "1                          7                 1999.0                 M   \n",
              "\n",
              "   net_purchases_15d  \n",
              "0                0.0  \n",
              "1                0.0  "
            ],
            "text/html": [
              "\n",
              "  <div id=\"df-b4dae4a1-31bb-49f1-af9f-393d13a9668f\">\n",
              "    <div class=\"colab-df-container\">\n",
              "      <div>\n",
              "<style scoped>\n",
              "    .dataframe tbody tr th:only-of-type {\n",
              "        vertical-align: middle;\n",
              "    }\n",
              "\n",
              "    .dataframe tbody tr th {\n",
              "        vertical-align: top;\n",
              "    }\n",
              "\n",
              "    .dataframe thead th {\n",
              "        text-align: right;\n",
              "    }\n",
              "</style>\n",
              "<table border=\"1\" class=\"dataframe\">\n",
              "  <thead>\n",
              "    <tr style=\"text-align: right;\">\n",
              "      <th></th>\n",
              "      <th>uid</th>\n",
              "      <th>install_timestamp</th>\n",
              "      <th>free_trial_timestamp</th>\n",
              "      <th>country</th>\n",
              "      <th>language</th>\n",
              "      <th>device_type</th>\n",
              "      <th>os_version</th>\n",
              "      <th>attribution_network</th>\n",
              "      <th>product_price_tier</th>\n",
              "      <th>product_periodicity</th>\n",
              "      <th>product_free_trial_length</th>\n",
              "      <th>onboarding_birth_year</th>\n",
              "      <th>onboarding_gender</th>\n",
              "      <th>net_purchases_15d</th>\n",
              "    </tr>\n",
              "  </thead>\n",
              "  <tbody>\n",
              "    <tr>\n",
              "      <th>0</th>\n",
              "      <td>oZM0Urdhm8tR1ZYKnyGbYw==</td>\n",
              "      <td>2019-06-07 00:11:25+00:00</td>\n",
              "      <td>2019-06-07 00:12:35+00:00</td>\n",
              "      <td>GB</td>\n",
              "      <td>en</td>\n",
              "      <td>iPhone 7</td>\n",
              "      <td>12.2</td>\n",
              "      <td>Organic</td>\n",
              "      <td>6</td>\n",
              "      <td>7</td>\n",
              "      <td>7</td>\n",
              "      <td>1989.0</td>\n",
              "      <td>M</td>\n",
              "      <td>0.0</td>\n",
              "    </tr>\n",
              "    <tr>\n",
              "      <th>1</th>\n",
              "      <td>0VzRx4ggiIhf66/Rx8b16Q==</td>\n",
              "      <td>2019-06-07 00:18:03+00:00</td>\n",
              "      <td>2019-06-07 00:22:42+00:00</td>\n",
              "      <td>FR</td>\n",
              "      <td>fr</td>\n",
              "      <td>iPhone 8 Plus</td>\n",
              "      <td>12.3.1</td>\n",
              "      <td>Snapchat Installs</td>\n",
              "      <td>20</td>\n",
              "      <td>30</td>\n",
              "      <td>7</td>\n",
              "      <td>1999.0</td>\n",
              "      <td>M</td>\n",
              "      <td>0.0</td>\n",
              "    </tr>\n",
              "  </tbody>\n",
              "</table>\n",
              "</div>\n",
              "      <button class=\"colab-df-convert\" onclick=\"convertToInteractive('df-b4dae4a1-31bb-49f1-af9f-393d13a9668f')\"\n",
              "              title=\"Convert this dataframe to an interactive table.\"\n",
              "              style=\"display:none;\">\n",
              "        \n",
              "  <svg xmlns=\"http://www.w3.org/2000/svg\" height=\"24px\"viewBox=\"0 0 24 24\"\n",
              "       width=\"24px\">\n",
              "    <path d=\"M0 0h24v24H0V0z\" fill=\"none\"/>\n",
              "    <path d=\"M18.56 5.44l.94 2.06.94-2.06 2.06-.94-2.06-.94-.94-2.06-.94 2.06-2.06.94zm-11 1L8.5 8.5l.94-2.06 2.06-.94-2.06-.94L8.5 2.5l-.94 2.06-2.06.94zm10 10l.94 2.06.94-2.06 2.06-.94-2.06-.94-.94-2.06-.94 2.06-2.06.94z\"/><path d=\"M17.41 7.96l-1.37-1.37c-.4-.4-.92-.59-1.43-.59-.52 0-1.04.2-1.43.59L10.3 9.45l-7.72 7.72c-.78.78-.78 2.05 0 2.83L4 21.41c.39.39.9.59 1.41.59.51 0 1.02-.2 1.41-.59l7.78-7.78 2.81-2.81c.8-.78.8-2.07 0-2.86zM5.41 20L4 18.59l7.72-7.72 1.47 1.35L5.41 20z\"/>\n",
              "  </svg>\n",
              "      </button>\n",
              "      \n",
              "  <style>\n",
              "    .colab-df-container {\n",
              "      display:flex;\n",
              "      flex-wrap:wrap;\n",
              "      gap: 12px;\n",
              "    }\n",
              "\n",
              "    .colab-df-convert {\n",
              "      background-color: #E8F0FE;\n",
              "      border: none;\n",
              "      border-radius: 50%;\n",
              "      cursor: pointer;\n",
              "      display: none;\n",
              "      fill: #1967D2;\n",
              "      height: 32px;\n",
              "      padding: 0 0 0 0;\n",
              "      width: 32px;\n",
              "    }\n",
              "\n",
              "    .colab-df-convert:hover {\n",
              "      background-color: #E2EBFA;\n",
              "      box-shadow: 0px 1px 2px rgba(60, 64, 67, 0.3), 0px 1px 3px 1px rgba(60, 64, 67, 0.15);\n",
              "      fill: #174EA6;\n",
              "    }\n",
              "\n",
              "    [theme=dark] .colab-df-convert {\n",
              "      background-color: #3B4455;\n",
              "      fill: #D2E3FC;\n",
              "    }\n",
              "\n",
              "    [theme=dark] .colab-df-convert:hover {\n",
              "      background-color: #434B5C;\n",
              "      box-shadow: 0px 1px 3px 1px rgba(0, 0, 0, 0.15);\n",
              "      filter: drop-shadow(0px 1px 2px rgba(0, 0, 0, 0.3));\n",
              "      fill: #FFFFFF;\n",
              "    }\n",
              "  </style>\n",
              "\n",
              "      <script>\n",
              "        const buttonEl =\n",
              "          document.querySelector('#df-b4dae4a1-31bb-49f1-af9f-393d13a9668f button.colab-df-convert');\n",
              "        buttonEl.style.display =\n",
              "          google.colab.kernel.accessAllowed ? 'block' : 'none';\n",
              "\n",
              "        async function convertToInteractive(key) {\n",
              "          const element = document.querySelector('#df-b4dae4a1-31bb-49f1-af9f-393d13a9668f');\n",
              "          const dataTable =\n",
              "            await google.colab.kernel.invokeFunction('convertToInteractive',\n",
              "                                                     [key], {});\n",
              "          if (!dataTable) return;\n",
              "\n",
              "          const docLinkHtml = 'Like what you see? Visit the ' +\n",
              "            '<a target=\"_blank\" href=https://colab.research.google.com/notebooks/data_table.ipynb>data table notebook</a>'\n",
              "            + ' to learn more about interactive tables.';\n",
              "          element.innerHTML = '';\n",
              "          dataTable['output_type'] = 'display_data';\n",
              "          await google.colab.output.renderOutput(dataTable, element);\n",
              "          const docLink = document.createElement('div');\n",
              "          docLink.innerHTML = docLinkHtml;\n",
              "          element.appendChild(docLink);\n",
              "        }\n",
              "      </script>\n",
              "    </div>\n",
              "  </div>\n",
              "  "
            ]
          },
          "metadata": {},
          "execution_count": 48
        }
      ],
      "source": [
        "test.head(2)"
      ]
    },
    {
      "cell_type": "code",
      "execution_count": 49,
      "metadata": {
        "colab": {
          "base_uri": "https://localhost:8080/"
        },
        "id": "Fr8L3CRIbdau",
        "outputId": "c14c6227-3a72-4fbd-f134-3cbd0015cc08"
      },
      "outputs": [
        {
          "output_type": "execute_result",
          "data": {
            "text/plain": [
              "(3342, 14)"
            ]
          },
          "metadata": {},
          "execution_count": 49
        }
      ],
      "source": [
        "test.shape"
      ]
    },
    {
      "cell_type": "code",
      "execution_count": 50,
      "metadata": {
        "colab": {
          "base_uri": "https://localhost:8080/"
        },
        "id": "Rnr4ZEr2bgSr",
        "outputId": "edf19e8b-c440-4ede-b6b4-af41296fcaf4"
      },
      "outputs": [
        {
          "output_type": "execute_result",
          "data": {
            "text/plain": [
              "uid                           0\n",
              "install_timestamp             0\n",
              "free_trial_timestamp          1\n",
              "country                       1\n",
              "language                      0\n",
              "device_type                   0\n",
              "os_version                    0\n",
              "attribution_network          15\n",
              "product_price_tier            0\n",
              "product_periodicity           0\n",
              "product_free_trial_length     0\n",
              "onboarding_birth_year        63\n",
              "onboarding_gender            63\n",
              "net_purchases_15d             0\n",
              "dtype: int64"
            ]
          },
          "metadata": {},
          "execution_count": 50
        }
      ],
      "source": [
        "test.isnull().sum() # missing values are in the same column as in train"
      ]
    },
    {
      "cell_type": "code",
      "execution_count": 51,
      "metadata": {
        "colab": {
          "base_uri": "https://localhost:8080/",
          "height": 300
        },
        "id": "yNEX893bbdda",
        "outputId": "534e9521-85f7-41b3-df60-429f6a0158f7"
      },
      "outputs": [
        {
          "output_type": "execute_result",
          "data": {
            "text/plain": [
              "       product_price_tier  product_periodicity  product_free_trial_length  \\\n",
              "count         3342.000000          3342.000000                     3342.0   \n",
              "mean            21.263914            50.850688                        7.0   \n",
              "std             11.460344            86.309208                        0.0   \n",
              "min              6.000000             7.000000                        7.0   \n",
              "25%             20.000000            30.000000                        7.0   \n",
              "50%             20.000000            30.000000                        7.0   \n",
              "75%             20.000000            30.000000                        7.0   \n",
              "max             60.000000           365.000000                        7.0   \n",
              "\n",
              "       onboarding_birth_year  net_purchases_15d  \n",
              "count            3279.000000        3342.000000  \n",
              "mean             1993.262275           2.166062  \n",
              "std                14.289737           4.020501  \n",
              "min              1917.000000           0.000000  \n",
              "25%              1989.000000           0.000000  \n",
              "50%              1996.000000           0.000000  \n",
              "75%              2000.000000           6.580000  \n",
              "max              2533.000000          35.790000  "
            ],
            "text/html": [
              "\n",
              "  <div id=\"df-46305b5d-c9ea-454a-b22d-af1265da37d2\">\n",
              "    <div class=\"colab-df-container\">\n",
              "      <div>\n",
              "<style scoped>\n",
              "    .dataframe tbody tr th:only-of-type {\n",
              "        vertical-align: middle;\n",
              "    }\n",
              "\n",
              "    .dataframe tbody tr th {\n",
              "        vertical-align: top;\n",
              "    }\n",
              "\n",
              "    .dataframe thead th {\n",
              "        text-align: right;\n",
              "    }\n",
              "</style>\n",
              "<table border=\"1\" class=\"dataframe\">\n",
              "  <thead>\n",
              "    <tr style=\"text-align: right;\">\n",
              "      <th></th>\n",
              "      <th>product_price_tier</th>\n",
              "      <th>product_periodicity</th>\n",
              "      <th>product_free_trial_length</th>\n",
              "      <th>onboarding_birth_year</th>\n",
              "      <th>net_purchases_15d</th>\n",
              "    </tr>\n",
              "  </thead>\n",
              "  <tbody>\n",
              "    <tr>\n",
              "      <th>count</th>\n",
              "      <td>3342.000000</td>\n",
              "      <td>3342.000000</td>\n",
              "      <td>3342.0</td>\n",
              "      <td>3279.000000</td>\n",
              "      <td>3342.000000</td>\n",
              "    </tr>\n",
              "    <tr>\n",
              "      <th>mean</th>\n",
              "      <td>21.263914</td>\n",
              "      <td>50.850688</td>\n",
              "      <td>7.0</td>\n",
              "      <td>1993.262275</td>\n",
              "      <td>2.166062</td>\n",
              "    </tr>\n",
              "    <tr>\n",
              "      <th>std</th>\n",
              "      <td>11.460344</td>\n",
              "      <td>86.309208</td>\n",
              "      <td>0.0</td>\n",
              "      <td>14.289737</td>\n",
              "      <td>4.020501</td>\n",
              "    </tr>\n",
              "    <tr>\n",
              "      <th>min</th>\n",
              "      <td>6.000000</td>\n",
              "      <td>7.000000</td>\n",
              "      <td>7.0</td>\n",
              "      <td>1917.000000</td>\n",
              "      <td>0.000000</td>\n",
              "    </tr>\n",
              "    <tr>\n",
              "      <th>25%</th>\n",
              "      <td>20.000000</td>\n",
              "      <td>30.000000</td>\n",
              "      <td>7.0</td>\n",
              "      <td>1989.000000</td>\n",
              "      <td>0.000000</td>\n",
              "    </tr>\n",
              "    <tr>\n",
              "      <th>50%</th>\n",
              "      <td>20.000000</td>\n",
              "      <td>30.000000</td>\n",
              "      <td>7.0</td>\n",
              "      <td>1996.000000</td>\n",
              "      <td>0.000000</td>\n",
              "    </tr>\n",
              "    <tr>\n",
              "      <th>75%</th>\n",
              "      <td>20.000000</td>\n",
              "      <td>30.000000</td>\n",
              "      <td>7.0</td>\n",
              "      <td>2000.000000</td>\n",
              "      <td>6.580000</td>\n",
              "    </tr>\n",
              "    <tr>\n",
              "      <th>max</th>\n",
              "      <td>60.000000</td>\n",
              "      <td>365.000000</td>\n",
              "      <td>7.0</td>\n",
              "      <td>2533.000000</td>\n",
              "      <td>35.790000</td>\n",
              "    </tr>\n",
              "  </tbody>\n",
              "</table>\n",
              "</div>\n",
              "      <button class=\"colab-df-convert\" onclick=\"convertToInteractive('df-46305b5d-c9ea-454a-b22d-af1265da37d2')\"\n",
              "              title=\"Convert this dataframe to an interactive table.\"\n",
              "              style=\"display:none;\">\n",
              "        \n",
              "  <svg xmlns=\"http://www.w3.org/2000/svg\" height=\"24px\"viewBox=\"0 0 24 24\"\n",
              "       width=\"24px\">\n",
              "    <path d=\"M0 0h24v24H0V0z\" fill=\"none\"/>\n",
              "    <path d=\"M18.56 5.44l.94 2.06.94-2.06 2.06-.94-2.06-.94-.94-2.06-.94 2.06-2.06.94zm-11 1L8.5 8.5l.94-2.06 2.06-.94-2.06-.94L8.5 2.5l-.94 2.06-2.06.94zm10 10l.94 2.06.94-2.06 2.06-.94-2.06-.94-.94-2.06-.94 2.06-2.06.94z\"/><path d=\"M17.41 7.96l-1.37-1.37c-.4-.4-.92-.59-1.43-.59-.52 0-1.04.2-1.43.59L10.3 9.45l-7.72 7.72c-.78.78-.78 2.05 0 2.83L4 21.41c.39.39.9.59 1.41.59.51 0 1.02-.2 1.41-.59l7.78-7.78 2.81-2.81c.8-.78.8-2.07 0-2.86zM5.41 20L4 18.59l7.72-7.72 1.47 1.35L5.41 20z\"/>\n",
              "  </svg>\n",
              "      </button>\n",
              "      \n",
              "  <style>\n",
              "    .colab-df-container {\n",
              "      display:flex;\n",
              "      flex-wrap:wrap;\n",
              "      gap: 12px;\n",
              "    }\n",
              "\n",
              "    .colab-df-convert {\n",
              "      background-color: #E8F0FE;\n",
              "      border: none;\n",
              "      border-radius: 50%;\n",
              "      cursor: pointer;\n",
              "      display: none;\n",
              "      fill: #1967D2;\n",
              "      height: 32px;\n",
              "      padding: 0 0 0 0;\n",
              "      width: 32px;\n",
              "    }\n",
              "\n",
              "    .colab-df-convert:hover {\n",
              "      background-color: #E2EBFA;\n",
              "      box-shadow: 0px 1px 2px rgba(60, 64, 67, 0.3), 0px 1px 3px 1px rgba(60, 64, 67, 0.15);\n",
              "      fill: #174EA6;\n",
              "    }\n",
              "\n",
              "    [theme=dark] .colab-df-convert {\n",
              "      background-color: #3B4455;\n",
              "      fill: #D2E3FC;\n",
              "    }\n",
              "\n",
              "    [theme=dark] .colab-df-convert:hover {\n",
              "      background-color: #434B5C;\n",
              "      box-shadow: 0px 1px 3px 1px rgba(0, 0, 0, 0.15);\n",
              "      filter: drop-shadow(0px 1px 2px rgba(0, 0, 0, 0.3));\n",
              "      fill: #FFFFFF;\n",
              "    }\n",
              "  </style>\n",
              "\n",
              "      <script>\n",
              "        const buttonEl =\n",
              "          document.querySelector('#df-46305b5d-c9ea-454a-b22d-af1265da37d2 button.colab-df-convert');\n",
              "        buttonEl.style.display =\n",
              "          google.colab.kernel.accessAllowed ? 'block' : 'none';\n",
              "\n",
              "        async function convertToInteractive(key) {\n",
              "          const element = document.querySelector('#df-46305b5d-c9ea-454a-b22d-af1265da37d2');\n",
              "          const dataTable =\n",
              "            await google.colab.kernel.invokeFunction('convertToInteractive',\n",
              "                                                     [key], {});\n",
              "          if (!dataTable) return;\n",
              "\n",
              "          const docLinkHtml = 'Like what you see? Visit the ' +\n",
              "            '<a target=\"_blank\" href=https://colab.research.google.com/notebooks/data_table.ipynb>data table notebook</a>'\n",
              "            + ' to learn more about interactive tables.';\n",
              "          element.innerHTML = '';\n",
              "          dataTable['output_type'] = 'display_data';\n",
              "          await google.colab.output.renderOutput(dataTable, element);\n",
              "          const docLink = document.createElement('div');\n",
              "          docLink.innerHTML = docLinkHtml;\n",
              "          element.appendChild(docLink);\n",
              "        }\n",
              "      </script>\n",
              "    </div>\n",
              "  </div>\n",
              "  "
            ]
          },
          "metadata": {},
          "execution_count": 51
        }
      ],
      "source": [
        "test.describe() # distribution seems similar to train"
      ]
    },
    {
      "cell_type": "markdown",
      "metadata": {
        "id": "PibwP5VUptfc"
      },
      "source": [
        "### Remove outliers"
      ]
    },
    {
      "cell_type": "code",
      "execution_count": 51,
      "metadata": {
        "id": "Zw4HEAD_prZ7"
      },
      "outputs": [],
      "source": []
    },
    {
      "cell_type": "code",
      "execution_count": 52,
      "metadata": {
        "colab": {
          "base_uri": "https://localhost:8080/",
          "height": 265
        },
        "id": "MUnFN2HUrkUH",
        "outputId": "2ae3a5e4-9760-4552-a833-79a6c55fc152"
      },
      "outputs": [
        {
          "output_type": "display_data",
          "data": {
            "text/plain": [
              "<Figure size 432x288 with 1 Axes>"
            ],
            "image/png": "[encoded data removed]"
          },
          "metadata": {
            "needs_background": "light"
          }
        }
      ],
      "source": [
        "# from the distribution we saw there were outliers in birth_year, let's remove it\n",
        "box = plt.boxplot(train['onboarding_birth_year'].dropna(),whis = [1, 99])\n",
        "u = [item.get_ydata()[1] for item in box['whiskers']]\n"
      ]
    },
    {
      "cell_type": "code",
      "execution_count": 53,
      "metadata": {
        "colab": {
          "base_uri": "https://localhost:8080/"
        },
        "id": "pTgBizxcscFe",
        "outputId": "11956742-32d7-4f88-d1c9-229f6d676085"
      },
      "outputs": [
        {
          "output_type": "stream",
          "name": "stderr",
          "text": [
            "<ipython-input-53-1513740f584d>:1: SettingWithCopyWarning: \n",
            "A value is trying to be set on a copy of a slice from a DataFrame\n",
            "\n",
            "See the caveats in the documentation: https://pandas.pydata.org/pandas-docs/stable/user_guide/indexing.html#returning-a-view-versus-a-copy\n",
            "  train['onboarding_birth_year'][(train['onboarding_birth_year']<u[0]) | (train['onboarding_birth_year']>u[1])] = None\n",
            "<ipython-input-53-1513740f584d>:2: SettingWithCopyWarning: \n",
            "A value is trying to be set on a copy of a slice from a DataFrame\n",
            "\n",
            "See the caveats in the documentation: https://pandas.pydata.org/pandas-docs/stable/user_guide/indexing.html#returning-a-view-versus-a-copy\n",
            "  test['onboarding_birth_year'][(test['onboarding_birth_year']<u[0]) | (test['onboarding_birth_year']>u[1])] = None\n"
          ]
        }
      ],
      "source": [
        "train['onboarding_birth_year'][(train['onboarding_birth_year']<u[0]) | (train['onboarding_birth_year']>u[1])] = None\n",
        "test['onboarding_birth_year'][(test['onboarding_birth_year']<u[0]) | (test['onboarding_birth_year']>u[1])] = None\n"
      ]
    },
    {
      "cell_type": "code",
      "execution_count": 53,
      "metadata": {
        "id": "TU2IiK4As_9y"
      },
      "outputs": [],
      "source": []
    },
    {
      "cell_type": "markdown",
      "metadata": {
        "id": "UK4U9KINeJrm"
      },
      "source": [
        "### Data transformation"
      ]
    },
    {
      "cell_type": "code",
      "execution_count": 54,
      "metadata": {
        "id": "DhzAYQHTeOfK"
      },
      "outputs": [],
      "source": [
        "# transform timestamps to date format\n",
        "train['install_timestamp'] = pd.to_datetime(train['install_timestamp']) \n",
        "train['free_trial_timestamp'] = pd.to_datetime(train['free_trial_timestamp'])\n",
        "\n",
        "test['install_timestamp'] = pd.to_datetime(test['install_timestamp']) \n",
        "test['free_trial_timestamp'] = pd.to_datetime(test['free_trial_timestamp'])"
      ]
    },
    {
      "cell_type": "code",
      "execution_count": 55,
      "metadata": {
        "colab": {
          "base_uri": "https://localhost:8080/"
        },
        "id": "_C6HTrFJjY6N",
        "outputId": "b43a6560-c6b0-407a-9af3-61a0b76cf79a"
      },
      "outputs": [
        {
          "output_type": "stream",
          "name": "stderr",
          "text": [
            "<ipython-input-55-df4c6611ca11>:3: SettingWithCopyWarning: \n",
            "A value is trying to be set on a copy of a slice from a DataFrame\n",
            "\n",
            "See the caveats in the documentation: https://pandas.pydata.org/pandas-docs/stable/user_guide/indexing.html#returning-a-view-versus-a-copy\n",
            "  train['country'][train['country'].isin(country_few_obs)] = 'other'\n",
            "<ipython-input-55-df4c6611ca11>:4: SettingWithCopyWarning: \n",
            "A value is trying to be set on a copy of a slice from a DataFrame\n",
            "\n",
            "See the caveats in the documentation: https://pandas.pydata.org/pandas-docs/stable/user_guide/indexing.html#returning-a-view-versus-a-copy\n",
            "  test['country'][test['country'].isin(country_few_obs)] = 'other'\n"
          ]
        }
      ],
      "source": [
        "# group countries with few entries\n",
        "country_few_obs = (train['country'].value_counts()[(train['country'].value_counts())<30]).index\n",
        "train['country'][train['country'].isin(country_few_obs)] = 'other'\n",
        "test['country'][test['country'].isin(country_few_obs)] = 'other'"
      ]
    },
    {
      "cell_type": "code",
      "execution_count": 55,
      "metadata": {
        "id": "kUuaqy4uBpU9"
      },
      "outputs": [],
      "source": []
    },
    {
      "cell_type": "code",
      "execution_count": 56,
      "metadata": {
        "colab": {
          "base_uri": "https://localhost:8080/"
        },
        "id": "gWubKOVgkRDm",
        "outputId": "14a6db42-787f-40cd-9348-5f577141b015"
      },
      "outputs": [
        {
          "output_type": "stream",
          "name": "stderr",
          "text": [
            "<ipython-input-56-65a341714ef3>:3: SettingWithCopyWarning: \n",
            "A value is trying to be set on a copy of a slice from a DataFrame\n",
            "\n",
            "See the caveats in the documentation: https://pandas.pydata.org/pandas-docs/stable/user_guide/indexing.html#returning-a-view-versus-a-copy\n",
            "  train['language'][train['language'].isin(language_few_obs)] = 'other'\n",
            "<ipython-input-56-65a341714ef3>:4: SettingWithCopyWarning: \n",
            "A value is trying to be set on a copy of a slice from a DataFrame\n",
            "\n",
            "See the caveats in the documentation: https://pandas.pydata.org/pandas-docs/stable/user_guide/indexing.html#returning-a-view-versus-a-copy\n",
            "  test['language'][test['language'].isin(language_few_obs)] = 'other'\n"
          ]
        }
      ],
      "source": [
        "# group language with few entries\n",
        "language_few_obs = (train['language'].value_counts()[(train['language'].value_counts())<30]).index\n",
        "train['language'][train['language'].isin(language_few_obs)] = 'other'\n",
        "test['language'][test['language'].isin(language_few_obs)] = 'other'"
      ]
    },
    {
      "cell_type": "code",
      "execution_count": 57,
      "metadata": {
        "colab": {
          "base_uri": "https://localhost:8080/"
        },
        "id": "gLblI3AYcLj_",
        "outputId": "8d3dcf07-53fe-4782-d034-7de8685298df"
      },
      "outputs": [
        {
          "output_type": "stream",
          "name": "stderr",
          "text": [
            "<ipython-input-57-9e3c0a76399a>:3: SettingWithCopyWarning: \n",
            "A value is trying to be set on a copy of a slice from a DataFrame\n",
            "\n",
            "See the caveats in the documentation: https://pandas.pydata.org/pandas-docs/stable/user_guide/indexing.html#returning-a-view-versus-a-copy\n",
            "  train['device_type'][train['device_type'].isin(device_few_obs)] = 'other'\n",
            "<ipython-input-57-9e3c0a76399a>:4: SettingWithCopyWarning: \n",
            "A value is trying to be set on a copy of a slice from a DataFrame\n",
            "\n",
            "See the caveats in the documentation: https://pandas.pydata.org/pandas-docs/stable/user_guide/indexing.html#returning-a-view-versus-a-copy\n",
            "  test['device_type'][test['device_type'].isin(device_few_obs)] = 'other'\n"
          ]
        }
      ],
      "source": [
        "# group device_type with few entries\n",
        "device_few_obs = (train['device_type'].value_counts()[(train['device_type'].value_counts())<30]).index\n",
        "train['device_type'][train['device_type'].isin(device_few_obs)] = 'other'\n",
        "test['device_type'][test['device_type'].isin(device_few_obs)] = 'other'"
      ]
    },
    {
      "cell_type": "code",
      "execution_count": 57,
      "metadata": {
        "id": "B6ft_lb_oyWK"
      },
      "outputs": [],
      "source": []
    },
    {
      "cell_type": "code",
      "execution_count": 58,
      "metadata": {
        "colab": {
          "base_uri": "https://localhost:8080/"
        },
        "id": "La0__G6FcjVN",
        "outputId": "3e90ff4a-53d2-4150-8c5b-8e54c5c0d7ea"
      },
      "outputs": [
        {
          "output_type": "stream",
          "name": "stderr",
          "text": [
            "<ipython-input-58-5e29b1422803>:5: SettingWithCopyWarning: \n",
            "A value is trying to be set on a copy of a slice from a DataFrame\n",
            "\n",
            "See the caveats in the documentation: https://pandas.pydata.org/pandas-docs/stable/user_guide/indexing.html#returning-a-view-versus-a-copy\n",
            "  train['os_version'][train['os_version'].isin(os_few_obs)] = 'other'\n",
            "<ipython-input-58-5e29b1422803>:6: SettingWithCopyWarning: \n",
            "A value is trying to be set on a copy of a slice from a DataFrame\n",
            "\n",
            "See the caveats in the documentation: https://pandas.pydata.org/pandas-docs/stable/user_guide/indexing.html#returning-a-view-versus-a-copy\n",
            "  test['os_version'][test['os_version'].isin(os_few_obs)] = 'other'\n"
          ]
        }
      ],
      "source": [
        "# divide os_version in 3 colums in order to try to chatch how modern the used device is\n",
        "train[['os_1','os_2','os_3']] = train.os_version.str.split(\".\", expand = True)\n",
        "test[['os_1','os_2','os_3']] = test.os_version.str.split(\".\", expand = True)\n",
        "os_few_obs = (train['os_version'].value_counts()[(train['os_version'].value_counts())<30]).index\n",
        "train['os_version'][train['os_version'].isin(os_few_obs)] = 'other'\n",
        "test['os_version'][test['os_version'].isin(os_few_obs)] = 'other'"
      ]
    },
    {
      "cell_type": "code",
      "execution_count": 58,
      "metadata": {
        "id": "-juK1XA7oxGU"
      },
      "outputs": [],
      "source": []
    },
    {
      "cell_type": "markdown",
      "metadata": {
        "id": "0oTOJ-UpeEk4"
      },
      "source": [
        "### New features"
      ]
    },
    {
      "cell_type": "code",
      "execution_count": 59,
      "metadata": {
        "id": "VOHfaI4VeIIG"
      },
      "outputs": [],
      "source": [
        "# try to create new features from given data\n",
        "train['diff_intall_trial'] = (train['free_trial_timestamp']-train['install_timestamp']).astype('timedelta64[h]') #here I want to check if the time window between installation time and trial time stamp is meaningful\n",
        "train['age'] = 2023 - train['onboarding_birth_year'] \n",
        "\n",
        "test['diff_intall_trial'] = (test['free_trial_timestamp']-test['install_timestamp']).astype('timedelta64[h]') #here I want to check if the time window between installation time and trial time stamp is meaningful\n",
        "test['age'] = 2023 - test['onboarding_birth_year'] \n"
      ]
    },
    {
      "cell_type": "markdown",
      "metadata": {
        "id": "CvUBkGElJKEO"
      },
      "source": [
        "### set to 'other' entries in test not seen in train"
      ]
    },
    {
      "cell_type": "code",
      "execution_count": 60,
      "metadata": {
        "colab": {
          "base_uri": "https://localhost:8080/"
        },
        "id": "QDhFnxENJTvC",
        "outputId": "570673c1-d931-4a43-a4f8-8d563ccdfae7"
      },
      "outputs": [
        {
          "output_type": "stream",
          "name": "stderr",
          "text": [
            "<ipython-input-60-759514521b0a>:5: SettingWithCopyWarning: \n",
            "A value is trying to be set on a copy of a slice from a DataFrame\n",
            "\n",
            "See the caveats in the documentation: https://pandas.pydata.org/pandas-docs/stable/user_guide/indexing.html#returning-a-view-versus-a-copy\n",
            "  test[col][~test[col].isin(pd.unique(train[col]))] = 'other'\n",
            "<ipython-input-60-759514521b0a>:7: SettingWithCopyWarning: \n",
            "A value is trying to be set on a copy of a slice from a DataFrame\n",
            "\n",
            "See the caveats in the documentation: https://pandas.pydata.org/pandas-docs/stable/user_guide/indexing.html#returning-a-view-versus-a-copy\n",
            "  test[col][~test[col].isin(pd.unique(train[col]))] = 'None'\n"
          ]
        }
      ],
      "source": [
        "categorical = ['country','device_type','os_version','onboarding_gender','attribution_network','language','os_1','os_2','os_3']\n",
        "\n",
        "for col in categorical:\n",
        "    if (pd.unique(train[col])=='other').sum() == 1:\n",
        "        test[col][~test[col].isin(pd.unique(train[col]))] = 'other'\n",
        "    else:\n",
        "        test[col][~test[col].isin(pd.unique(train[col]))] = 'None'\n"
      ]
    },
    {
      "cell_type": "markdown",
      "metadata": {
        "id": "_jJmcQhYW6CL"
      },
      "source": [
        "#Model"
      ]
    },
    {
      "cell_type": "code",
      "execution_count": 61,
      "metadata": {
        "colab": {
          "base_uri": "https://localhost:8080/",
          "height": 35
        },
        "id": "H19cxuLtfCe_",
        "outputId": "2df24c4a-c982-4b3b-948a-ef66d66b47a2"
      },
      "outputs": [
        {
          "output_type": "execute_result",
          "data": {
            "text/plain": [
              "'\\nHere I try see how basic models perform before chosing the one on which perform some parameter tuning \\n'"
            ],
            "application/vnd.google.colaboratory.intrinsic+json": {
              "type": "string"
            }
          },
          "metadata": {},
          "execution_count": 61
        }
      ],
      "source": [
        "'''\n",
        "Here I try see how basic models perform before chosing the one on which perform some parameter tuning \n",
        "'''"
      ]
    },
    {
      "cell_type": "code",
      "execution_count": 62,
      "metadata": {
        "id": "SPyMTHHNW8B4"
      },
      "outputs": [],
      "source": [
        "from sklearn.linear_model import LinearRegression\n",
        "from sklearn.metrics import mean_squared_error\n",
        "from sklearn.model_selection import train_test_split\n",
        "from sklearn.ensemble import GradientBoostingRegressor, RandomForestRegressor\n",
        "from sklearn.neural_network import MLPRegressor"
      ]
    },
    {
      "cell_type": "code",
      "execution_count": 63,
      "metadata": {
        "id": "o35JqwjQW9HF"
      },
      "outputs": [],
      "source": [
        "def rmse(y_true, y_pred):\n",
        "    return np.sqrt(mean_squared_error(y_true, y_pred))"
      ]
    },
    {
      "cell_type": "code",
      "execution_count": 64,
      "metadata": {
        "colab": {
          "base_uri": "https://localhost:8080/"
        },
        "id": "iv6vznXvy2cL",
        "outputId": "1835bc2e-5e4e-478a-ab86-fd44b5a9a13e"
      },
      "outputs": [
        {
          "output_type": "stream",
          "name": "stderr",
          "text": [
            "<ipython-input-64-508c061a358e>:17: SettingWithCopyWarning: \n",
            "A value is trying to be set on a copy of a slice from a DataFrame\n",
            "\n",
            "See the caveats in the documentation: https://pandas.pydata.org/pandas-docs/stable/user_guide/indexing.html#returning-a-view-versus-a-copy\n",
            "  train[col][train[col].notnull()] = lab_enc.transform(train[col][train[col].notnull()])\n",
            "<ipython-input-64-508c061a358e>:18: SettingWithCopyWarning: \n",
            "A value is trying to be set on a copy of a slice from a DataFrame\n",
            "\n",
            "See the caveats in the documentation: https://pandas.pydata.org/pandas-docs/stable/user_guide/indexing.html#returning-a-view-versus-a-copy\n",
            "  test[col][test[col].notnull()] = lab_enc.transform(test[col][test[col].notnull()])\n",
            "/usr/local/lib/python3.8/dist-packages/sklearn/impute/_iterative.py:699: ConvergenceWarning: [IterativeImputer] Early stopping criterion not reached.\n",
            "  warnings.warn(\n"
          ]
        }
      ],
      "source": [
        "# I decided to impute the missing data and after some tries a simple random forest for imputing missing data seems what was working best\n",
        "# here removing missing data was not an option given that we have missing data also in test set. I also tried to simply impute missing \n",
        "# with median and most frequent class respectively for numericl and categorical variables. An other method tested is knn imputation, \n",
        "# but actually, even though just slightly, random forest imputation sees to perform better\n",
        "\n",
        "from sklearn.preprocessing import LabelEncoder\n",
        "from sklearn.experimental import enable_iterative_imputer\n",
        "from sklearn.impute import IterativeImputer\n",
        "from sklearn.ensemble import RandomForestRegressor, RandomForestClassifier\n",
        "from sklearn.preprocessing import OneHotEncoder\n",
        "\n",
        "categorical = ['country','device_type','os_version','onboarding_gender','attribution_network','language','os_1','os_2','os_3']\n",
        "numerical = [\"net_purchases_15d\",'age','product_price_tier','product_periodicity','onboarding_birth_year', 'diff_intall_trial']\n",
        "\n",
        "for col in categorical:\n",
        "    lab_enc = LabelEncoder().fit(train[col][train[col].notnull()])\n",
        "    train[col][train[col].notnull()] = lab_enc.transform(train[col][train[col].notnull()])\n",
        "    test[col][test[col].notnull()] = lab_enc.transform(test[col][test[col].notnull()])\n",
        "   \n",
        "\n",
        "imp_num = IterativeImputer(estimator=RandomForestRegressor(),\n",
        "                            initial_strategy='mean',\n",
        "                            max_iter=10, random_state=0)\n",
        "imp_cat = IterativeImputer(estimator=RandomForestClassifier(), \n",
        "                            initial_strategy='most_frequent',\n",
        "                            max_iter=10, random_state=0)\n",
        "imp_num.fit(train[numerical])\n",
        "imp_cat.fit(train[categorical])\n",
        "\n",
        "\n",
        "train[numerical] = imp_num.transform(train[numerical])\n",
        "train[categorical] = imp_cat.transform(train[categorical])\n",
        "\n",
        "test[numerical] = imp_num.transform(test[numerical])\n",
        "test[categorical] = imp_cat.transform(test[categorical])\n",
        "\n",
        "\n",
        "# once I removed the missing value I get the one hot encoding for the categorical variable\n",
        "ohe = OneHotEncoder(sparse=False)\n",
        "cat_train = ohe.fit_transform(train[categorical])\n",
        "cat_train = pd.DataFrame(cat_train,columns = ohe.get_feature_names_out())\n",
        "train_mod = pd.concat([train[numerical],cat_train],axis=1)\n",
        "train_mod['boxcox_15d'] = boxcox(train['net_purchases_15d'], 0.5) # I'm adding a transformation fot the net_purchases_15d since it was almost the only feature correlated with the objective vafiable\n",
        "\n",
        "cat_test = ohe.transform(test[categorical])\n",
        "cat_test = pd.DataFrame(cat_test,columns = ohe.get_feature_names_out())\n",
        "test_mod = pd.concat([test[numerical],cat_test],axis=1)\n",
        "test_mod['boxcox_15d'] = boxcox(test['net_purchases_15d'], 0.5) # I'm adding a transformation fot the net_purchases_15d since it was almost the only feature correlated with the objective vafiable\n"
      ]
    },
    {
      "cell_type": "code",
      "execution_count": 90,
      "metadata": {
        "id": "iI09C_UpjyLn"
      },
      "outputs": [],
      "source": [
        "# Actually the one year total purchases include the first 15 days purchases, so I transform the objective to the prediction of the total amount spent after the first 15 days\n",
        "# another try I made was transforming the objective variable to the number of renewal the client paid before unsubscribing (relatively their product_price_tier and product_periodicity)\n",
        "# this didn't improved the performance so I quit the tests on that idea. \n",
        "# Another try I made was predicting the log transformation of net_purchases_1y hoping that a better shaped distribution would have led to better predictions but it was not the case.\n",
        "\n",
        "y_train_mod = train['net_purchases_1y']-train['net_purchases_15d']\n",
        "y_train_mod[y_train_mod<0] = 0\n",
        "\n",
        "X_train, X_test, y_train, y_test = train_test_split(train_mod, y_train_mod, test_size=0.33, random_state=42)\n"
      ]
    },
    {
      "cell_type": "code",
      "execution_count": 91,
      "metadata": {
        "id": "cuTin_VWk8T9"
      },
      "outputs": [],
      "source": [
        "# Also a normalization step has been tried but it didn't improved model performances"
      ]
    },
    {
      "cell_type": "code",
      "execution_count": 92,
      "metadata": {
        "colab": {
          "base_uri": "https://localhost:8080/"
        },
        "id": "nLymMZC3Taf5",
        "outputId": "2e122ad3-71e5-4c7c-d3a9-2f1298b9ebbf"
      },
      "outputs": [
        {
          "output_type": "execute_result",
          "data": {
            "text/plain": [
              "DecisionTreeRegressor(max_depth=2)"
            ]
          },
          "metadata": {},
          "execution_count": 92
        }
      ],
      "source": [
        "from sklearn.tree import DecisionTreeRegressor\n",
        "model_dt = DecisionTreeRegressor(max_depth=2) \n",
        "model_dt.fit(X_train, y_train)"
      ]
    },
    {
      "cell_type": "code",
      "execution_count": 93,
      "metadata": {
        "colab": {
          "base_uri": "https://localhost:8080/"
        },
        "id": "DgvRgQxBnkv8",
        "outputId": "167a34e6-32b7-49eb-f15c-2f3c382321ed"
      },
      "outputs": [
        {
          "output_type": "execute_result",
          "data": {
            "text/plain": [
              "XGBRegressor(objective='reg:squarederror')"
            ]
          },
          "metadata": {},
          "execution_count": 93
        }
      ],
      "source": [
        "import xgboost as xgb\n",
        "\n",
        "model_xgb = xgb.XGBRegressor(objective ='reg:squarederror')\n",
        "\n",
        "model_xgb.fit(X_train,y_train)"
      ]
    },
    {
      "cell_type": "code",
      "execution_count": 94,
      "metadata": {
        "colab": {
          "base_uri": "https://localhost:8080/"
        },
        "id": "gXKOWYXuXKcJ",
        "outputId": "7eacd4bc-8b8f-4ac5-cf5e-3cc176e40e0e"
      },
      "outputs": [
        {
          "output_type": "execute_result",
          "data": {
            "text/plain": [
              "LinearRegression()"
            ]
          },
          "metadata": {},
          "execution_count": 94
        }
      ],
      "source": [
        "model_lm = LinearRegression()\n",
        "model_lm.fit(X_train, y_train)"
      ]
    },
    {
      "cell_type": "code",
      "execution_count": 95,
      "metadata": {
        "colab": {
          "base_uri": "https://localhost:8080/"
        },
        "id": "Es-Cg9wOn5gF",
        "outputId": "6c611e28-5aea-4849-fd91-e5aaf2fa34f4"
      },
      "outputs": [
        {
          "output_type": "execute_result",
          "data": {
            "text/plain": [
              "GradientBoostingRegressor()"
            ]
          },
          "metadata": {},
          "execution_count": 95
        }
      ],
      "source": [
        "model_gbt = GradientBoostingRegressor()\n",
        "model_gbt.fit(X_train, y_train)"
      ]
    },
    {
      "cell_type": "code",
      "execution_count": 96,
      "metadata": {
        "colab": {
          "base_uri": "https://localhost:8080/"
        },
        "id": "hiImzmOWpGdz",
        "outputId": "3c96ddf4-4027-4285-ae2e-5a6645a82b7e"
      },
      "outputs": [
        {
          "output_type": "execute_result",
          "data": {
            "text/plain": [
              "RandomForestRegressor()"
            ]
          },
          "metadata": {},
          "execution_count": 96
        }
      ],
      "source": [
        "model_rf = RandomForestRegressor()\n",
        "model_rf.fit(X_train, y_train) "
      ]
    },
    {
      "cell_type": "code",
      "execution_count": 97,
      "metadata": {
        "colab": {
          "base_uri": "https://localhost:8080/"
        },
        "id": "M4LnLMmrhUlo",
        "outputId": "9b43092d-6906-46af-e37d-47f56f979741"
      },
      "outputs": [
        {
          "output_type": "stream",
          "name": "stdout",
          "text": [
            "Epoch 1/10\n",
            "280/280 [==============================] - 2s 3ms/step - loss: 212.0123 - mse: 212.0123 - mae: 8.0273\n",
            "Epoch 2/10\n",
            "280/280 [==============================] - 1s 3ms/step - loss: 192.5201 - mse: 192.5201 - mae: 7.3200\n",
            "Epoch 3/10\n",
            "280/280 [==============================] - 1s 3ms/step - loss: 175.9037 - mse: 175.9037 - mae: 6.4327\n",
            "Epoch 4/10\n",
            "280/280 [==============================] - 1s 3ms/step - loss: 170.9474 - mse: 170.9474 - mae: 6.2696\n",
            "Epoch 5/10\n",
            "280/280 [==============================] - 1s 3ms/step - loss: 171.1096 - mse: 171.1096 - mae: 6.1576\n",
            "Epoch 6/10\n",
            "280/280 [==============================] - 1s 4ms/step - loss: 168.8123 - mse: 168.8123 - mae: 6.1337\n",
            "Epoch 7/10\n",
            "280/280 [==============================] - 1s 5ms/step - loss: 168.8107 - mse: 168.8107 - mae: 6.1141\n",
            "Epoch 8/10\n",
            "280/280 [==============================] - 1s 4ms/step - loss: 168.1759 - mse: 168.1759 - mae: 6.1010\n",
            "Epoch 9/10\n",
            "280/280 [==============================] - 1s 3ms/step - loss: 168.5823 - mse: 168.5823 - mae: 6.1363\n",
            "Epoch 10/10\n",
            "280/280 [==============================] - 1s 3ms/step - loss: 167.7405 - mse: 167.7405 - mae: 6.0418\n"
          ]
        },
        {
          "output_type": "execute_result",
          "data": {
            "text/plain": [
              "<keras.callbacks.History at 0x7f89c82f38e0>"
            ]
          },
          "metadata": {},
          "execution_count": 97
        }
      ],
      "source": [
        "from tensorflow.keras.models import Sequential\n",
        "from tensorflow.keras.layers import Dense, Dropout\n",
        "\n",
        "model = Sequential()\n",
        "model.add(Dense(128, kernel_initializer='normal', activation='relu'))\n",
        "model.add(Dense(256, kernel_initializer='normal', activation='relu'))\n",
        "model.add(Dense(128, kernel_initializer='normal', activation='relu'))\n",
        "model.add(Dense(1, kernel_initializer='normal', activation='linear'))\n",
        "\n",
        "\n",
        "model.compile(loss='mean_squared_error', optimizer='adam', metrics=['mse','mae'])\n",
        "model.fit(X_train, y_train, epochs=10, batch_size=32)\n",
        "\n"
      ]
    },
    {
      "cell_type": "code",
      "execution_count": 98,
      "metadata": {
        "colab": {
          "base_uri": "https://localhost:8080/"
        },
        "id": "reAmtnnDXTON",
        "outputId": "9031e384-cd64-47c3-d484-de4ecbb61ae8"
      },
      "outputs": [
        {
          "output_type": "stream",
          "name": "stdout",
          "text": [
            "Average RMSE: 13.814690734715173\n",
            "Linear Regression RMSE: 12.428641843396715\n"
          ]
        }
      ],
      "source": [
        "y_pred_test_lm = model_lm.predict(X_test)\n",
        "y_pred = (y_pred_test_lm)\n",
        "y_pred[(y_pred)<=0]=0\n",
        "\n",
        "rmse_avg = rmse(y_test, np.repeat(np.mean(y_train), len(y_test)))\n",
        "rmse_lm = rmse(y_test, y_pred)\n",
        "\n",
        "print(f\"Average RMSE: {rmse_avg}\")\n",
        "print(f\"Linear Regression RMSE: {rmse_lm}\") \n",
        "\n",
        "# given the error providing the average y_train the model performs not so well, just a small decrease in RMSE"
      ]
    },
    {
      "cell_type": "code",
      "execution_count": 99,
      "metadata": {
        "colab": {
          "base_uri": "https://localhost:8080/"
        },
        "id": "9NuOq5z4XVSm",
        "outputId": "a59b9cac-3ff1-4a94-e59d-9ff3589e674c"
      },
      "outputs": [
        {
          "output_type": "stream",
          "name": "stdout",
          "text": [
            "Average RMSE: 13.814690734715173\n",
            "GBT RMSE: 12.312720744485876\n"
          ]
        }
      ],
      "source": [
        "y_pred_test_gbt = model_gbt.predict(X_test)\n",
        "y_pred_test_gbt[y_pred_test_gbt<0] = 0\n",
        "y_pred = (y_pred_test_gbt) \n",
        "\n",
        "rmse_avg = rmse(y_test, np.repeat(np.mean(y_train), len(y_test)))\n",
        "rmse_gbt = rmse(y_test, y_pred)\n",
        "\n",
        "print(f\"Average RMSE: {rmse_avg}\")\n",
        "print(f\"GBT RMSE: {rmse_gbt}\") \n",
        "\n",
        "# gbt has better performance than the linear model but the increase is really small"
      ]
    },
    {
      "cell_type": "code",
      "execution_count": 100,
      "metadata": {
        "colab": {
          "base_uri": "https://localhost:8080/"
        },
        "id": "hVCU5V4HoZtP",
        "outputId": "cafa6fa5-d262-4377-8039-b63666d86ffe"
      },
      "outputs": [
        {
          "output_type": "stream",
          "name": "stdout",
          "text": [
            "Average RMSE: 13.814690734715173\n",
            "Xgboost RMSE: 12.284007427439883\n"
          ]
        }
      ],
      "source": [
        "y_pred_test_gbt = model_xgb.predict(X_test)\n",
        "y_pred_test_gbt[y_pred_test_gbt<0] = 0\n",
        "y_pred = (y_pred_test_gbt) \n",
        "\n",
        "rmse_avg = rmse(y_test, np.repeat(np.mean(y_train), len(y_test)))\n",
        "rmse_gbt = rmse(y_test, y_pred)\n",
        "\n",
        "print(f\"Average RMSE: {rmse_avg}\")\n",
        "print(f\"Xgboost RMSE: {rmse_gbt}\") \n",
        "\n",
        "#xgb has similar performance"
      ]
    },
    {
      "cell_type": "code",
      "execution_count": 101,
      "metadata": {
        "colab": {
          "base_uri": "https://localhost:8080/"
        },
        "id": "ZkD_BO6dlut-",
        "outputId": "a8483544-6b87-434d-b580-d9e1633dbf38"
      },
      "outputs": [
        {
          "output_type": "stream",
          "name": "stdout",
          "text": [
            "Average RMSE: 13.814690734715173\n",
            "Linear Regression RMSE: 13.13745727980981\n"
          ]
        }
      ],
      "source": [
        "y_pred_test_rf = model_rf.predict(X_test)\n",
        "y_pred = (y_pred_test_rf)\n",
        "\n",
        "rmse_avg = rmse(y_test, np.repeat(np.mean(y_train), len(y_test)))\n",
        "rmse_rf = rmse(y_test, y_pred)\n",
        "\n",
        "print(f\"Average RMSE: {rmse_avg}\")\n",
        "print(f\"Linear Regression RMSE: {rmse_rf}\")\n",
        "\n",
        "# random forest is the model that perform worst"
      ]
    },
    {
      "cell_type": "code",
      "execution_count": null,
      "metadata": {
        "id": "a7N3ORiSq0bf"
      },
      "outputs": [],
      "source": []
    },
    {
      "cell_type": "code",
      "execution_count": 102,
      "metadata": {
        "colab": {
          "base_uri": "https://localhost:8080/"
        },
        "id": "0O2AaJHkp4zM",
        "outputId": "62f35bae-7cf0-46c5-a1d7-df99f9e21c41"
      },
      "outputs": [
        {
          "output_type": "stream",
          "name": "stdout",
          "text": [
            "138/138 [==============================] - 0s 1ms/step\n",
            "Average RMSE: 13.814690734715173\n",
            "Linear Regression RMSE: 12.365722537158412\n"
          ]
        }
      ],
      "source": [
        "y_pred_test_nn = model.predict(X_test)\n",
        "y_pred = (y_pred_test_nn)\n",
        "\n",
        "rmse_avg = rmse(y_test, np.repeat(np.mean(y_train), len(y_test)))\n",
        "rmse_rf = rmse(y_test, y_pred)\n",
        "\n",
        "print(f\"Average RMSE: {rmse_avg}\")\n",
        "print(f\"Linear Regression RMSE: {rmse_rf}\")\n",
        "\n",
        "# similar performance with respect to gbt and xgb"
      ]
    },
    {
      "cell_type": "code",
      "execution_count": 103,
      "metadata": {
        "colab": {
          "base_uri": "https://localhost:8080/"
        },
        "id": "yTd3Jw--4KiR",
        "outputId": "9455b501-efc2-41dd-a5b0-b9d005f99c22"
      },
      "outputs": [
        {
          "output_type": "stream",
          "name": "stdout",
          "text": [
            "Average RMSE: 13.814690734715173\n",
            "Linear Regression RMSE: 12.323616655707916\n"
          ]
        }
      ],
      "source": [
        "y_pred_test_dt = model_dt.predict(X_test)\n",
        "y_pred = (y_pred_test_dt)\n",
        "\n",
        "rmse_avg = rmse(y_test, np.repeat(np.mean(y_train), len(y_test)))\n",
        "rmse_rf = rmse(y_test, y_pred)\n",
        "\n",
        "print(f\"Average RMSE: {rmse_avg}\")\n",
        "print(f\"Linear Regression RMSE: {rmse_rf}\") \n",
        "\n",
        "# angain similar performance. The fact that a simple tree with depth 2 can perform just as more complicated models suggest that here the limit is not really the model \n",
        "# doing a step back in order to try to understand better the problem and maybe work on the data could bring more value than work on the model"
      ]
    },
    {
      "cell_type": "code",
      "execution_count": 104,
      "metadata": {
        "colab": {
          "base_uri": "https://localhost:8080/",
          "height": 466
        },
        "id": "mESTvnTqqjJw",
        "outputId": "97dbb21f-2aaf-41d6-fd10-9289440cfb7f"
      },
      "outputs": [
        {
          "output_type": "display_data",
          "data": {
            "text/plain": [
              "<Figure size 864x576 with 1 Axes>"
            ],
            "image/png": "[encoded data removed]"
          },
          "metadata": {
            "needs_background": "light"
          }
        }
      ],
      "source": [
        "\n",
        "from sklearn import tree\n",
        "fig = plt.figure(figsize=(12,8))\n",
        "_ = tree.plot_tree(model_dt, \n",
        "                   feature_names=X_test.columns,  \n",
        "                   filled=True)\n",
        "# from the tree visualization we can see that, as we guessed before, net_purchases_15d is driving the model decision.\n",
        "# we can see that the model is quite good in dividing people in high and low spender, on low spender it perform quite well, the problem seems to be in high spender prediction"
      ]
    },
    {
      "cell_type": "code",
      "execution_count": null,
      "metadata": {
        "id": "RxhzE10a1giL"
      },
      "outputs": [],
      "source": []
    },
    {
      "cell_type": "markdown",
      "metadata": {
        "id": "ca_6dq_FI6q4"
      },
      "source": [
        "### Classification"
      ]
    },
    {
      "cell_type": "code",
      "execution_count": 105,
      "metadata": {
        "id": "J4au6gf6tA3h",
        "colab": {
          "base_uri": "https://localhost:8080/",
          "height": 52
        },
        "outputId": "7dfe250b-66bc-49e5-c55c-feb8fb164456"
      },
      "outputs": [
        {
          "output_type": "execute_result",
          "data": {
            "text/plain": [
              "'\\nForm previous observations we saw that the model performs better on low spender, the idea here is to divide the problem in two parts:\\n     - predict who is going to spend something in the year (excluding the first 15 days) and who is not\\n     - predict the amount spent by people classified as spender\\n'"
            ],
            "application/vnd.google.colaboratory.intrinsic+json": {
              "type": "string"
            }
          },
          "metadata": {},
          "execution_count": 105
        }
      ],
      "source": [
        "'''\n",
        "Form previous observations we saw that the model performs better on low spender, the idea here is to divide the problem in two parts:\n",
        "     - predict who is going to spend something in the year (excluding the first 15 days) and who is not\n",
        "     - predict the amount spent by people classified as spender\n",
        "'''"
      ]
    },
    {
      "cell_type": "code",
      "execution_count": 106,
      "metadata": {
        "colab": {
          "base_uri": "https://localhost:8080/"
        },
        "id": "_vPVPVY6pR4d",
        "outputId": "7f845b36-4b7f-4e51-e115-04c61365ef07"
      },
      "outputs": [
        {
          "output_type": "execute_result",
          "data": {
            "text/plain": [
              "0.8683435304781328"
            ]
          },
          "metadata": {},
          "execution_count": 106
        }
      ],
      "source": [
        "from sklearn.ensemble import GradientBoostingClassifier\n",
        "\n",
        "gbt_class = GradientBoostingClassifier(n_estimators=100, learning_rate=1.0, max_depth=1, random_state=0).fit(X_train, y_train>0)\n",
        "scores = gbt_class.score(X_test, y_test>0)\n",
        "scores"
      ]
    },
    {
      "cell_type": "code",
      "execution_count": 107,
      "metadata": {
        "colab": {
          "base_uri": "https://localhost:8080/",
          "height": 372
        },
        "id": "Va3Grd-uJY5I",
        "outputId": "110f06dc-2a6e-4c64-a869-c0c28c3b0cae"
      },
      "outputs": [
        {
          "output_type": "stream",
          "name": "stderr",
          "text": [
            "/usr/local/lib/python3.8/dist-packages/seaborn/distributions.py:2619: FutureWarning: `distplot` is a deprecated function and will be removed in a future version. Please adapt your code to use either `displot` (a figure-level function with similar flexibility) or `histplot` (an axes-level function for histograms).\n",
            "  warnings.warn(msg, FutureWarning)\n",
            "/usr/local/lib/python3.8/dist-packages/seaborn/distributions.py:2619: FutureWarning: `distplot` is a deprecated function and will be removed in a future version. Please adapt your code to use either `displot` (a figure-level function with similar flexibility) or `histplot` (an axes-level function for histograms).\n",
            "  warnings.warn(msg, FutureWarning)\n"
          ]
        },
        {
          "output_type": "execute_result",
          "data": {
            "text/plain": [
              "<AxesSubplot:ylabel='Density'>"
            ]
          },
          "metadata": {},
          "execution_count": 107
        },
        {
          "output_type": "display_data",
          "data": {
            "text/plain": [
              "<Figure size 432x288 with 1 Axes>"
            ],
            "image/png": "[encoded data removed]"
          },
          "metadata": {
            "needs_background": "light"
          }
        }
      ],
      "source": [
        "prob = gbt_class.predict_proba(X_test)\n",
        "class_gbt = gbt_class.predict(X_test)\n",
        "sns.distplot(prob[:,1][y_test>0])\n",
        "sns.distplot(prob[:,1][y_test<=0])\n",
        "\n",
        "# The classification seems to be quite good, the distribution below show that the model is able to predict high probability for people that are actually spender and low probability for non spender. also the over all accuracy seems good"
      ]
    },
    {
      "cell_type": "code",
      "execution_count": 108,
      "metadata": {
        "colab": {
          "base_uri": "https://localhost:8080/",
          "height": 351
        },
        "id": "FxTH1sT6LiFL",
        "outputId": "5a96fc8f-b408-4395-c94e-bb70b87ca19f"
      },
      "outputs": [
        {
          "output_type": "stream",
          "name": "stderr",
          "text": [
            "/usr/local/lib/python3.8/dist-packages/sklearn/utils/deprecation.py:87: FutureWarning: Function plot_roc_curve is deprecated; Function :func:`plot_roc_curve` is deprecated in 1.0 and will be removed in 1.2. Use one of the class methods: :meth:`sklearn.metric.RocCurveDisplay.from_predictions` or :meth:`sklearn.metric.RocCurveDisplay.from_estimator`.\n",
            "  warnings.warn(msg, category=FutureWarning)\n"
          ]
        },
        {
          "output_type": "execute_result",
          "data": {
            "text/plain": [
              "<sklearn.metrics._plot.roc_curve.RocCurveDisplay at 0x7f89d0070d00>"
            ]
          },
          "metadata": {},
          "execution_count": 108
        },
        {
          "output_type": "display_data",
          "data": {
            "text/plain": [
              "<Figure size 432x288 with 1 Axes>"
            ],
            "image/png": "[encoded data removed]"
          },
          "metadata": {
            "needs_background": "light"
          }
        }
      ],
      "source": [
        "from sklearn import metrics\n",
        "\n",
        "metrics.plot_roc_curve(gbt_class, X_test, y_test>0) \n",
        "# quite high auc and from the shape there could be a group on which the model perform better, from tree above we gould guess it's related to the value of net purchase 15d, maybe something like the first rule of the plotted tree"
      ]
    },
    {
      "cell_type": "code",
      "execution_count": 109,
      "metadata": {
        "colab": {
          "base_uri": "https://localhost:8080/"
        },
        "id": "KPRovnUmP-tT",
        "outputId": "03fd6dfe-7337-44cc-bb5b-8b0f51accd93"
      },
      "outputs": [
        {
          "output_type": "stream",
          "name": "stdout",
          "text": [
            "Looking in indexes: https://pypi.org/simple, https://us-python.pkg.dev/colab-wheels/public/simple/\n",
            "Collecting shap\n",
            "  Downloading shap-0.41.0-cp38-cp38-manylinux_2_12_x86_64.manylinux2010_x86_64.whl (575 kB)\n",
            "\u001b[?25l     \u001b[90m━━━━━━━━━━━━━━━━━━━━━━━━━━━━━━━━━━━━━━━━\u001b[0m \u001b[32m0.0/575.9 KB\u001b[0m \u001b[31m?\u001b[0m eta \u001b[36m-:--:--\u001b[0m\r\u001b[2K     \u001b[90m━━━━━━━━━━━━━━━━━━━━━━━━━━━━━━━━━━━━━━\u001b[0m \u001b[32m575.9/575.9 KB\u001b[0m \u001b[31m36.8 MB/s\u001b[0m eta \u001b[36m0:00:00\u001b[0m\n",
            "\u001b[?25hRequirement already satisfied: scikit-learn in /usr/local/lib/python3.8/dist-packages (from shap) (1.0.2)\n",
            "Requirement already satisfied: numpy in /usr/local/lib/python3.8/dist-packages (from shap) (1.22.4)\n",
            "Requirement already satisfied: pandas in /usr/local/lib/python3.8/dist-packages (from shap) (1.3.5)\n",
            "Requirement already satisfied: scipy in /usr/local/lib/python3.8/dist-packages (from shap) (1.7.3)\n",
            "Requirement already satisfied: packaging>20.9 in /usr/local/lib/python3.8/dist-packages (from shap) (23.0)\n",
            "Requirement already satisfied: cloudpickle in /usr/local/lib/python3.8/dist-packages (from shap) (2.2.1)\n",
            "Requirement already satisfied: tqdm>4.25.0 in /usr/local/lib/python3.8/dist-packages (from shap) (4.64.1)\n",
            "Requirement already satisfied: numba in /usr/local/lib/python3.8/dist-packages (from shap) (0.56.4)\n",
            "Collecting slicer==0.0.7\n",
            "  Downloading slicer-0.0.7-py3-none-any.whl (14 kB)\n",
            "Requirement already satisfied: importlib-metadata in /usr/local/lib/python3.8/dist-packages (from numba->shap) (6.0.0)\n",
            "Requirement already satisfied: llvmlite<0.40,>=0.39.0dev0 in /usr/local/lib/python3.8/dist-packages (from numba->shap) (0.39.1)\n",
            "Requirement already satisfied: setuptools in /usr/local/lib/python3.8/dist-packages (from numba->shap) (57.4.0)\n",
            "Requirement already satisfied: pytz>=2017.3 in /usr/local/lib/python3.8/dist-packages (from pandas->shap) (2022.7.1)\n",
            "Requirement already satisfied: python-dateutil>=2.7.3 in /usr/local/lib/python3.8/dist-packages (from pandas->shap) (2.8.2)\n",
            "Requirement already satisfied: threadpoolctl>=2.0.0 in /usr/local/lib/python3.8/dist-packages (from scikit-learn->shap) (3.1.0)\n",
            "Requirement already satisfied: joblib>=0.11 in /usr/local/lib/python3.8/dist-packages (from scikit-learn->shap) (1.2.0)\n",
            "Requirement already satisfied: six>=1.5 in /usr/local/lib/python3.8/dist-packages (from python-dateutil>=2.7.3->pandas->shap) (1.15.0)\n",
            "Requirement already satisfied: zipp>=0.5 in /usr/local/lib/python3.8/dist-packages (from importlib-metadata->numba->shap) (3.14.0)\n",
            "Installing collected packages: slicer, shap\n",
            "Successfully installed shap-0.41.0 slicer-0.0.7\n"
          ]
        }
      ],
      "source": [
        "!pip install shap"
      ]
    },
    {
      "cell_type": "code",
      "execution_count": 110,
      "metadata": {
        "id": "qqGCazJcOU8L"
      },
      "outputs": [],
      "source": [
        "import shap\n",
        "\n",
        "explainer = shap.TreeExplainer(gbt_class)\n",
        "shap_values = explainer.shap_values(X_test)"
      ]
    },
    {
      "cell_type": "code",
      "execution_count": 111,
      "metadata": {
        "colab": {
          "base_uri": "https://localhost:8080/",
          "height": 693
        },
        "id": "78R4bYrDP5so",
        "outputId": "583577fc-d83b-4b4d-d10e-c0bf7f540e8d"
      },
      "outputs": [
        {
          "output_type": "display_data",
          "data": {
            "text/plain": [
              "<Figure size 576x684 with 2 Axes>"
            ],
            "image/png": "[encoded data removed]"
          },
          "metadata": {
            "needs_background": "light"
          }
        }
      ],
      "source": [
        "shap.summary_plot(shap_values, X_test)\n",
        "\n",
        "# The shap plot suggest that the net_purchases transformation is the most important variable for the classification, and the direction is the same we could guess, \n",
        "# low value brings to non spender, while high value brings to high spender, actually the other feature doesn't seem to be very important or having a clear direction."
      ]
    },
    {
      "cell_type": "code",
      "execution_count": 111,
      "metadata": {
        "id": "aZHvK0pJRUeK"
      },
      "outputs": [],
      "source": []
    },
    {
      "cell_type": "code",
      "execution_count": 112,
      "metadata": {
        "colab": {
          "base_uri": "https://localhost:8080/"
        },
        "id": "z33RjA1rROcT",
        "outputId": "20a11a24-788e-4e20-cf24-4ef1dcf2d8c6"
      },
      "outputs": [
        {
          "output_type": "execute_result",
          "data": {
            "text/plain": [
              "DecisionTreeRegressor(max_depth=2)"
            ]
          },
          "metadata": {},
          "execution_count": 112
        }
      ],
      "source": [
        "# for the second model to stack on the classification I train on the predicted spender\n",
        "avg_train_prob = (y_train>0).mean()\n",
        "prob = gbt_class.predict_proba(X_train)\n",
        "is_spender = prob[:,1]>avg_train_prob\n",
        "\n",
        "\n",
        "model_gbt = GradientBoostingRegressor(n_estimators=100, learning_rate=0.1, max_depth=1, random_state=0,loss='squared_error')\n",
        "model_gbt.fit(X_train[is_spender], (y_train[is_spender]))\n",
        "\n",
        "model_dt = DecisionTreeRegressor(max_depth=2)\n",
        "model_dt.fit(X_train[is_spender], (y_train[is_spender]))"
      ]
    },
    {
      "cell_type": "code",
      "execution_count": 112,
      "metadata": {
        "id": "zJ1OHJMISuSO"
      },
      "outputs": [],
      "source": []
    },
    {
      "cell_type": "code",
      "execution_count": 113,
      "metadata": {
        "id": "EbcP-YNoSuUn"
      },
      "outputs": [],
      "source": [
        "# here I compare the predicted probability with the ratio of spender in train set. usually one would take prediction cutting on 0.5 on the predicted probability\n",
        "# but here I don't have a balanced dataset, so I will consider spender who has a predicted probability higher than the spender ratio on train set\n",
        "avg_train_prob = (y_train>0).mean()\n",
        "prob = gbt_class.predict_proba(X_test)\n",
        "is_spender = prob[:,1]>avg_train_prob\n"
      ]
    },
    {
      "cell_type": "code",
      "execution_count": 114,
      "metadata": {
        "colab": {
          "base_uri": "https://localhost:8080/"
        },
        "id": "dsIdDsQiSuWq",
        "outputId": "2c33043b-5b82-4f5b-c482-48ed02c8e524"
      },
      "outputs": [
        {
          "output_type": "stream",
          "name": "stdout",
          "text": [
            "Average RMSE: 13.814690734715173\n",
            "2 step gbt RMSE: 12.330042160572637\n"
          ]
        }
      ],
      "source": [
        "y_pred_test_gbt = model_gbt.predict(X_test[is_spender])\n",
        "y_pred = np.repeat(0,X_test.shape[0])\n",
        "y_pred[is_spender] = (y_pred_test_gbt)\n",
        "\n",
        "rmse_avg = rmse(y_test, np.repeat(np.mean(y_train), len(y_test)))\n",
        "rmse_gbt = rmse(y_test, y_pred)\n",
        "\n",
        "print(f\"Average RMSE: {rmse_avg}\")\n",
        "print(f\"2 step gbt RMSE: {rmse_gbt}\") \n",
        "\n",
        "# the 2 step gbt doesn't seems to have improved performances overall"
      ]
    },
    {
      "cell_type": "code",
      "execution_count": 115,
      "metadata": {
        "colab": {
          "base_uri": "https://localhost:8080/"
        },
        "id": "arLNWn015YEd",
        "outputId": "f21af9c4-e368-4ad6-ba86-9b2aa52e2af5"
      },
      "outputs": [
        {
          "output_type": "stream",
          "name": "stdout",
          "text": [
            "Average RMSE: 13.814690734715173\n",
            "2 step gbt RMSE - spender: 21.392571912800914\n",
            "2 step gbt RMSE - non spender: 5.459760171154555\n"
          ]
        }
      ],
      "source": [
        "y_pred_test_gbt = model_dt.predict(X_test[is_spender])\n",
        "y_pred = np.repeat(0,X_test.shape[0])\n",
        "y_pred[is_spender] = (y_pred_test_gbt)\n",
        "\n",
        "rmse_avg = rmse(y_test, np.repeat(np.mean(y_train), len(y_test)))\n",
        "rmse_gbt_spender = rmse(y_test[is_spender], y_pred[is_spender])\n",
        "rmse_gbt_nonspender = rmse(y_test[~is_spender], y_pred[~is_spender])\n",
        "\n",
        "print(f\"Average RMSE: {rmse_avg}\")\n",
        "print(f\"2 step gbt RMSE - spender: {rmse_gbt_spender}\") \n",
        "print(f\"2 step gbt RMSE - non spender: {rmse_gbt_nonspender}\") \n",
        "\n",
        "# if we split the error we see that we have a much higher error on spender population"
      ]
    },
    {
      "cell_type": "code",
      "execution_count": 116,
      "metadata": {
        "colab": {
          "base_uri": "https://localhost:8080/",
          "height": 337
        },
        "id": "OWUJ2tc5TqSj",
        "outputId": "d75db2fd-78b9-4d15-ccf8-a63685ece736"
      },
      "outputs": [
        {
          "output_type": "stream",
          "name": "stderr",
          "text": [
            "`distplot` is a deprecated function and will be removed in a future version. Please adapt your code to use either `displot` (a figure-level function with similar flexibility) or `histplot` (an axes-level function for histograms).\n",
            "`distplot` is a deprecated function and will be removed in a future version. Please adapt your code to use either `displot` (a figure-level function with similar flexibility) or `histplot` (an axes-level function for histograms).\n"
          ]
        },
        {
          "output_type": "execute_result",
          "data": {
            "text/plain": [
              "<AxesSubplot:ylabel='Density'>"
            ]
          },
          "metadata": {},
          "execution_count": 116
        },
        {
          "output_type": "display_data",
          "data": {
            "text/plain": [
              "<Figure size 432x288 with 1 Axes>"
            ],
            "image/png": "[encoded data removed]"
          },
          "metadata": {
            "needs_background": "light"
          }
        }
      ],
      "source": [
        "sns.distplot(y_pred_test_gbt)\n",
        "sns.distplot((y_test[y_test>0]))\n",
        "# the model doesn't seems to be able to catch the variability of the objective"
      ]
    },
    {
      "cell_type": "markdown",
      "metadata": {
        "id": "9NQSFpN39WVS"
      },
      "source": [
        "### Lasso selection"
      ]
    },
    {
      "cell_type": "code",
      "execution_count": 117,
      "metadata": {
        "colab": {
          "base_uri": "https://localhost:8080/"
        },
        "id": "4c4Inw4F9YMN",
        "outputId": "a76d4ee8-1287-4148-bcef-edaa99ec5d80"
      },
      "outputs": [
        {
          "output_type": "stream",
          "name": "stdout",
          "text": [
            "Fitting 5 folds for each of 99 candidates, totalling 495 fits\n",
            "[CV 1/5] END ...............model__alpha=0.1;, score=-177.014 total time=   0.2s\n",
            "[CV 2/5] END ...............model__alpha=0.1;, score=-180.784 total time=   0.2s\n",
            "[CV 3/5] END ...............model__alpha=0.1;, score=-151.807 total time=   0.2s\n",
            "[CV 4/5] END ...............model__alpha=0.1;, score=-144.024 total time=   0.2s\n",
            "[CV 5/5] END ...............model__alpha=0.1;, score=-185.298 total time=   0.2s\n",
            "[CV 1/5] END ...............model__alpha=0.2;, score=-178.462 total time=   0.2s\n",
            "[CV 2/5] END ...............model__alpha=0.2;, score=-182.222 total time=   0.2s\n",
            "[CV 3/5] END ...............model__alpha=0.2;, score=-152.608 total time=   0.2s\n",
            "[CV 4/5] END ...............model__alpha=0.2;, score=-144.869 total time=   0.2s\n",
            "[CV 5/5] END ...............model__alpha=0.2;, score=-187.871 total time=   0.2s\n",
            "[CV 1/5] END model__alpha=0.30000000000000004;, score=-181.016 total time=   0.1s\n",
            "[CV 2/5] END model__alpha=0.30000000000000004;, score=-185.238 total time=   0.1s\n",
            "[CV 3/5] END model__alpha=0.30000000000000004;, score=-155.290 total time=   0.1s\n",
            "[CV 4/5] END model__alpha=0.30000000000000004;, score=-146.362 total time=   0.1s\n",
            "[CV 5/5] END model__alpha=0.30000000000000004;, score=-191.919 total time=   0.1s\n",
            "[CV 1/5] END ...............model__alpha=0.4;, score=-183.320 total time=   0.1s\n",
            "[CV 2/5] END ...............model__alpha=0.4;, score=-187.906 total time=   0.1s\n",
            "[CV 3/5] END ...............model__alpha=0.4;, score=-157.717 total time=   0.1s\n",
            "[CV 4/5] END ...............model__alpha=0.4;, score=-148.361 total time=   0.0s\n",
            "[CV 5/5] END ...............model__alpha=0.4;, score=-194.668 total time=   0.0s\n",
            "[CV 1/5] END ...............model__alpha=0.5;, score=-183.444 total time=   0.0s\n",
            "[CV 2/5] END ...............model__alpha=0.5;, score=-188.354 total time=   0.0s\n",
            "[CV 3/5] END ...............model__alpha=0.5;, score=-157.765 total time=   0.0s\n",
            "[CV 4/5] END ...............model__alpha=0.5;, score=-148.297 total time=   0.0s\n",
            "[CV 5/5] END ...............model__alpha=0.5;, score=-195.466 total time=   0.1s\n",
            "[CV 1/5] END ...............model__alpha=0.6;, score=-183.706 total time=   0.1s\n",
            "[CV 2/5] END ...............model__alpha=0.6;, score=-188.819 total time=   0.0s\n",
            "[CV 3/5] END ...............model__alpha=0.6;, score=-157.927 total time=   0.1s\n",
            "[CV 4/5] END ...............model__alpha=0.6;, score=-148.352 total time=   0.0s\n",
            "[CV 5/5] END ...............model__alpha=0.6;, score=-196.312 total time=   0.0s\n",
            "[CV 1/5] END model__alpha=0.7000000000000001;, score=-184.082 total time=   0.0s\n",
            "[CV 2/5] END model__alpha=0.7000000000000001;, score=-189.441 total time=   0.1s\n",
            "[CV 3/5] END model__alpha=0.7000000000000001;, score=-158.160 total time=   0.0s\n",
            "[CV 4/5] END model__alpha=0.7000000000000001;, score=-148.533 total time=   0.1s\n",
            "[CV 5/5] END model__alpha=0.7000000000000001;, score=-197.070 total time=   0.1s\n",
            "[CV 1/5] END ...............model__alpha=0.8;, score=-184.505 total time=   0.1s\n",
            "[CV 2/5] END ...............model__alpha=0.8;, score=-189.782 total time=   0.1s\n",
            "[CV 3/5] END ...............model__alpha=0.8;, score=-158.471 total time=   0.1s\n",
            "[CV 4/5] END ...............model__alpha=0.8;, score=-148.846 total time=   0.1s\n",
            "[CV 5/5] END ...............model__alpha=0.8;, score=-197.673 total time=   0.1s\n",
            "[CV 1/5] END ...............model__alpha=0.9;, score=-184.989 total time=   0.1s\n",
            "[CV 2/5] END ...............model__alpha=0.9;, score=-190.125 total time=   0.1s\n",
            "[CV 3/5] END ...............model__alpha=0.9;, score=-158.742 total time=   0.1s\n",
            "[CV 4/5] END ...............model__alpha=0.9;, score=-149.138 total time=   0.1s\n",
            "[CV 5/5] END ...............model__alpha=0.9;, score=-198.262 total time=   0.1s\n",
            "[CV 1/5] END ...............model__alpha=1.0;, score=-185.508 total time=   0.1s\n",
            "[CV 2/5] END ...............model__alpha=1.0;, score=-190.508 total time=   0.1s\n",
            "[CV 3/5] END ...............model__alpha=1.0;, score=-158.987 total time=   0.1s\n",
            "[CV 4/5] END ...............model__alpha=1.0;, score=-149.450 total time=   0.1s\n",
            "[CV 5/5] END ...............model__alpha=1.0;, score=-198.899 total time=   0.0s\n",
            "[CV 1/5] END ...............model__alpha=1.1;, score=-186.039 total time=   0.1s\n",
            "[CV 2/5] END ...............model__alpha=1.1;, score=-190.933 total time=   0.1s\n",
            "[CV 3/5] END ...............model__alpha=1.1;, score=-159.274 total time=   0.1s\n",
            "[CV 4/5] END ...............model__alpha=1.1;, score=-149.774 total time=   0.1s\n",
            "[CV 5/5] END ...............model__alpha=1.1;, score=-199.584 total time=   0.1s\n",
            "[CV 1/5] END model__alpha=1.2000000000000002;, score=-186.609 total time=   0.1s\n",
            "[CV 2/5] END model__alpha=1.2000000000000002;, score=-191.399 total time=   0.0s\n",
            "[CV 3/5] END model__alpha=1.2000000000000002;, score=-159.604 total time=   0.0s\n",
            "[CV 4/5] END model__alpha=1.2000000000000002;, score=-150.141 total time=   0.0s\n",
            "[CV 5/5] END model__alpha=1.2000000000000002;, score=-200.317 total time=   0.0s\n",
            "[CV 1/5] END model__alpha=1.3000000000000003;, score=-187.219 total time=   0.0s\n",
            "[CV 2/5] END model__alpha=1.3000000000000003;, score=-191.907 total time=   0.0s\n",
            "[CV 3/5] END model__alpha=1.3000000000000003;, score=-159.977 total time=   0.1s\n",
            "[CV 4/5] END model__alpha=1.3000000000000003;, score=-150.551 total time=   0.1s\n",
            "[CV 5/5] END model__alpha=1.3000000000000003;, score=-201.098 total time=   0.1s\n",
            "[CV 1/5] END model__alpha=1.4000000000000001;, score=-187.867 total time=   0.1s\n",
            "[CV 2/5] END model__alpha=1.4000000000000001;, score=-192.455 total time=   0.0s\n",
            "[CV 3/5] END model__alpha=1.4000000000000001;, score=-160.393 total time=   0.1s\n",
            "[CV 4/5] END model__alpha=1.4000000000000001;, score=-151.004 total time=   0.1s\n",
            "[CV 5/5] END model__alpha=1.4000000000000001;, score=-201.927 total time=   0.1s\n",
            "[CV 1/5] END model__alpha=1.5000000000000002;, score=-188.555 total time=   0.1s\n",
            "[CV 2/5] END model__alpha=1.5000000000000002;, score=-193.045 total time=   0.1s\n",
            "[CV 3/5] END model__alpha=1.5000000000000002;, score=-160.852 total time=   0.1s\n",
            "[CV 4/5] END model__alpha=1.5000000000000002;, score=-151.500 total time=   0.1s\n",
            "[CV 5/5] END model__alpha=1.5000000000000002;, score=-202.761 total time=   0.1s\n",
            "[CV 1/5] END ...............model__alpha=1.6;, score=-189.211 total time=   0.0s\n",
            "[CV 2/5] END ...............model__alpha=1.6;, score=-193.449 total time=   0.0s\n",
            "[CV 3/5] END ...............model__alpha=1.6;, score=-161.219 total time=   0.0s\n",
            "[CV 4/5] END ...............model__alpha=1.6;, score=-152.038 total time=   0.0s\n",
            "[CV 5/5] END ...............model__alpha=1.6;, score=-203.218 total time=   0.1s\n",
            "[CV 1/5] END model__alpha=1.7000000000000002;, score=-189.648 total time=   0.1s\n",
            "[CV 2/5] END model__alpha=1.7000000000000002;, score=-193.724 total time=   0.0s\n",
            "[CV 3/5] END model__alpha=1.7000000000000002;, score=-161.381 total time=   0.0s\n",
            "[CV 4/5] END model__alpha=1.7000000000000002;, score=-152.440 total time=   0.0s\n",
            "[CV 5/5] END model__alpha=1.7000000000000002;, score=-203.696 total time=   0.0s\n",
            "[CV 1/5] END model__alpha=1.8000000000000003;, score=-190.106 total time=   0.1s\n",
            "[CV 2/5] END model__alpha=1.8000000000000003;, score=-194.020 total time=   0.1s\n",
            "[CV 3/5] END model__alpha=1.8000000000000003;, score=-161.565 total time=   0.0s\n",
            "[CV 4/5] END model__alpha=1.8000000000000003;, score=-152.754 total time=   0.0s\n",
            "[CV 5/5] END model__alpha=1.8000000000000003;, score=-204.195 total time=   0.0s\n",
            "[CV 1/5] END model__alpha=1.9000000000000001;, score=-190.584 total time=   0.1s\n",
            "[CV 2/5] END model__alpha=1.9000000000000001;, score=-194.336 total time=   0.1s\n",
            "[CV 3/5] END model__alpha=1.9000000000000001;, score=-161.769 total time=   0.1s\n",
            "[CV 4/5] END model__alpha=1.9000000000000001;, score=-153.087 total time=   0.1s\n",
            "[CV 5/5] END model__alpha=1.9000000000000001;, score=-204.714 total time=   0.1s\n",
            "[CV 1/5] END ...............model__alpha=2.0;, score=-191.082 total time=   0.1s\n",
            "[CV 2/5] END ...............model__alpha=2.0;, score=-194.673 total time=   0.1s\n",
            "[CV 3/5] END ...............model__alpha=2.0;, score=-161.995 total time=   0.0s\n",
            "[CV 4/5] END ...............model__alpha=2.0;, score=-153.438 total time=   0.1s\n",
            "[CV 5/5] END ...............model__alpha=2.0;, score=-205.253 total time=   0.1s\n",
            "[CV 1/5] END ...............model__alpha=2.1;, score=-191.601 total time=   0.0s\n",
            "[CV 2/5] END ...............model__alpha=2.1;, score=-195.029 total time=   0.0s\n",
            "[CV 3/5] END ...............model__alpha=2.1;, score=-162.241 total time=   0.1s\n",
            "[CV 4/5] END ...............model__alpha=2.1;, score=-153.806 total time=   0.1s\n",
            "[CV 5/5] END ...............model__alpha=2.1;, score=-205.813 total time=   0.1s\n",
            "[CV 1/5] END ...............model__alpha=2.2;, score=-192.139 total time=   0.0s\n",
            "[CV 2/5] END ...............model__alpha=2.2;, score=-195.406 total time=   0.0s\n",
            "[CV 3/5] END ...............model__alpha=2.2;, score=-162.509 total time=   0.0s\n",
            "[CV 4/5] END ...............model__alpha=2.2;, score=-154.193 total time=   0.0s\n",
            "[CV 5/5] END ...............model__alpha=2.2;, score=-206.394 total time=   0.0s\n",
            "[CV 1/5] END model__alpha=2.3000000000000003;, score=-192.698 total time=   0.0s\n",
            "[CV 2/5] END model__alpha=2.3000000000000003;, score=-195.802 total time=   0.0s\n",
            "[CV 3/5] END model__alpha=2.3000000000000003;, score=-162.798 total time=   0.0s\n",
            "[CV 4/5] END model__alpha=2.3000000000000003;, score=-154.599 total time=   0.0s\n",
            "[CV 5/5] END model__alpha=2.3000000000000003;, score=-206.995 total time=   0.1s\n",
            "[CV 1/5] END model__alpha=2.4000000000000004;, score=-193.276 total time=   0.1s\n",
            "[CV 2/5] END model__alpha=2.4000000000000004;, score=-196.219 total time=   0.1s\n",
            "[CV 3/5] END model__alpha=2.4000000000000004;, score=-163.108 total time=   0.1s\n",
            "[CV 4/5] END model__alpha=2.4000000000000004;, score=-155.022 total time=   0.1s\n",
            "[CV 5/5] END model__alpha=2.4000000000000004;, score=-207.616 total time=   0.0s\n",
            "[CV 1/5] END model__alpha=2.5000000000000004;, score=-193.875 total time=   0.0s\n",
            "[CV 2/5] END model__alpha=2.5000000000000004;, score=-196.656 total time=   0.0s\n",
            "[CV 3/5] END model__alpha=2.5000000000000004;, score=-163.439 total time=   0.0s\n",
            "[CV 4/5] END model__alpha=2.5000000000000004;, score=-155.464 total time=   0.0s\n",
            "[CV 5/5] END model__alpha=2.5000000000000004;, score=-208.258 total time=   0.0s\n",
            "[CV 1/5] END ...............model__alpha=2.6;, score=-194.494 total time=   0.1s\n",
            "[CV 2/5] END ...............model__alpha=2.6;, score=-197.114 total time=   0.1s\n",
            "[CV 3/5] END ...............model__alpha=2.6;, score=-163.791 total time=   0.1s\n",
            "[CV 4/5] END ...............model__alpha=2.6;, score=-155.923 total time=   0.1s\n",
            "[CV 5/5] END ...............model__alpha=2.6;, score=-208.921 total time=   0.0s\n",
            "[CV 1/5] END ...............model__alpha=2.7;, score=-195.133 total time=   0.1s\n",
            "[CV 2/5] END ...............model__alpha=2.7;, score=-197.591 total time=   0.1s\n",
            "[CV 3/5] END ...............model__alpha=2.7;, score=-164.164 total time=   0.1s\n",
            "[CV 4/5] END ...............model__alpha=2.7;, score=-156.401 total time=   0.1s\n",
            "[CV 5/5] END ...............model__alpha=2.7;, score=-209.604 total time=   0.0s\n",
            "[CV 1/5] END model__alpha=2.8000000000000003;, score=-195.793 total time=   0.0s\n",
            "[CV 2/5] END model__alpha=2.8000000000000003;, score=-198.089 total time=   0.0s\n",
            "[CV 3/5] END model__alpha=2.8000000000000003;, score=-164.558 total time=   0.0s\n",
            "[CV 4/5] END model__alpha=2.8000000000000003;, score=-156.897 total time=   0.1s\n",
            "[CV 5/5] END model__alpha=2.8000000000000003;, score=-210.307 total time=   0.1s\n",
            "[CV 1/5] END model__alpha=2.9000000000000004;, score=-196.472 total time=   0.0s\n",
            "[CV 2/5] END model__alpha=2.9000000000000004;, score=-198.607 total time=   0.0s\n",
            "[CV 3/5] END model__alpha=2.9000000000000004;, score=-164.974 total time=   0.1s\n",
            "[CV 4/5] END model__alpha=2.9000000000000004;, score=-157.412 total time=   0.1s\n",
            "[CV 5/5] END model__alpha=2.9000000000000004;, score=-211.031 total time=   0.1s\n",
            "[CV 1/5] END model__alpha=3.0000000000000004;, score=-197.172 total time=   0.1s\n",
            "[CV 2/5] END model__alpha=3.0000000000000004;, score=-199.144 total time=   0.1s\n",
            "[CV 3/5] END model__alpha=3.0000000000000004;, score=-165.410 total time=   0.1s\n",
            "[CV 4/5] END model__alpha=3.0000000000000004;, score=-157.944 total time=   0.0s\n",
            "[CV 5/5] END model__alpha=3.0000000000000004;, score=-211.776 total time=   0.0s\n",
            "[CV 1/5] END ...............model__alpha=3.1;, score=-197.892 total time=   0.0s\n",
            "[CV 2/5] END ...............model__alpha=3.1;, score=-199.703 total time=   0.1s\n",
            "[CV 3/5] END ...............model__alpha=3.1;, score=-165.868 total time=   0.0s\n",
            "[CV 4/5] END ...............model__alpha=3.1;, score=-158.495 total time=   0.0s\n",
            "[CV 5/5] END ...............model__alpha=3.1;, score=-212.541 total time=   0.0s\n",
            "[CV 1/5] END ...............model__alpha=3.2;, score=-198.632 total time=   0.0s\n",
            "[CV 2/5] END ...............model__alpha=3.2;, score=-200.281 total time=   0.0s\n",
            "[CV 3/5] END ...............model__alpha=3.2;, score=-166.346 total time=   0.1s\n",
            "[CV 4/5] END ...............model__alpha=3.2;, score=-159.063 total time=   0.1s\n",
            "[CV 5/5] END ...............model__alpha=3.2;, score=-213.326 total time=   0.1s\n",
            "[CV 1/5] END model__alpha=3.3000000000000003;, score=-199.392 total time=   0.1s\n",
            "[CV 2/5] END model__alpha=3.3000000000000003;, score=-200.879 total time=   0.1s\n",
            "[CV 3/5] END model__alpha=3.3000000000000003;, score=-166.846 total time=   0.0s\n",
            "[CV 4/5] END model__alpha=3.3000000000000003;, score=-159.650 total time=   0.0s\n",
            "[CV 5/5] END model__alpha=3.3000000000000003;, score=-214.132 total time=   0.0s\n",
            "[CV 1/5] END model__alpha=3.4000000000000004;, score=-200.172 total time=   0.0s\n",
            "[CV 2/5] END model__alpha=3.4000000000000004;, score=-201.498 total time=   0.1s\n",
            "[CV 3/5] END model__alpha=3.4000000000000004;, score=-167.367 total time=   0.1s\n",
            "[CV 4/5] END model__alpha=3.4000000000000004;, score=-160.256 total time=   0.0s\n",
            "[CV 5/5] END model__alpha=3.4000000000000004;, score=-214.959 total time=   0.0s\n",
            "[CV 1/5] END model__alpha=3.5000000000000004;, score=-200.973 total time=   0.0s\n",
            "[CV 2/5] END model__alpha=3.5000000000000004;, score=-202.137 total time=   0.1s\n",
            "[CV 3/5] END model__alpha=3.5000000000000004;, score=-167.909 total time=   0.1s\n",
            "[CV 4/5] END model__alpha=3.5000000000000004;, score=-160.879 total time=   0.0s\n",
            "[CV 5/5] END model__alpha=3.5000000000000004;, score=-215.806 total time=   0.0s\n",
            "[CV 1/5] END ...............model__alpha=3.6;, score=-201.793 total time=   0.0s\n",
            "[CV 2/5] END ...............model__alpha=3.6;, score=-202.796 total time=   0.1s\n",
            "[CV 3/5] END ...............model__alpha=3.6;, score=-168.472 total time=   0.1s\n",
            "[CV 4/5] END ...............model__alpha=3.6;, score=-161.520 total time=   0.1s\n",
            "[CV 5/5] END ...............model__alpha=3.6;, score=-216.674 total time=   0.0s\n",
            "[CV 1/5] END ...............model__alpha=3.7;, score=-202.634 total time=   0.1s\n",
            "[CV 2/5] END ...............model__alpha=3.7;, score=-203.475 total time=   0.0s\n",
            "[CV 3/5] END ...............model__alpha=3.7;, score=-169.056 total time=   0.0s\n",
            "[CV 4/5] END ...............model__alpha=3.7;, score=-162.180 total time=   0.0s\n",
            "[CV 5/5] END ...............model__alpha=3.7;, score=-217.562 total time=   0.0s\n",
            "[CV 1/5] END model__alpha=3.8000000000000003;, score=-203.495 total time=   0.0s\n",
            "[CV 2/5] END model__alpha=3.8000000000000003;, score=-204.174 total time=   0.0s\n",
            "[CV 3/5] END model__alpha=3.8000000000000003;, score=-169.661 total time=   0.0s\n",
            "[CV 4/5] END model__alpha=3.8000000000000003;, score=-162.858 total time=   0.0s\n",
            "[CV 5/5] END model__alpha=3.8000000000000003;, score=-218.470 total time=   0.1s\n",
            "[CV 1/5] END model__alpha=3.9000000000000004;, score=-204.376 total time=   0.1s\n",
            "[CV 2/5] END model__alpha=3.9000000000000004;, score=-204.894 total time=   0.0s\n",
            "[CV 3/5] END model__alpha=3.9000000000000004;, score=-170.287 total time=   0.0s\n",
            "[CV 4/5] END model__alpha=3.9000000000000004;, score=-163.554 total time=   0.0s\n",
            "[CV 5/5] END model__alpha=3.9000000000000004;, score=-219.399 total time=   0.1s\n",
            "[CV 1/5] END ...............model__alpha=4.0;, score=-205.277 total time=   0.0s\n",
            "[CV 2/5] END ...............model__alpha=4.0;, score=-205.633 total time=   0.0s\n",
            "[CV 3/5] END ...............model__alpha=4.0;, score=-170.934 total time=   0.1s\n",
            "[CV 4/5] END ...............model__alpha=4.0;, score=-164.268 total time=   0.1s\n",
            "[CV 5/5] END ...............model__alpha=4.0;, score=-220.349 total time=   0.0s\n",
            "[CV 1/5] END ...............model__alpha=4.1;, score=-206.199 total time=   0.0s\n",
            "[CV 2/5] END ...............model__alpha=4.1;, score=-206.393 total time=   0.0s\n",
            "[CV 3/5] END ...............model__alpha=4.1;, score=-171.603 total time=   0.0s\n",
            "[CV 4/5] END ...............model__alpha=4.1;, score=-165.000 total time=   0.0s\n",
            "[CV 5/5] END ...............model__alpha=4.1;, score=-221.319 total time=   0.0s\n",
            "[CV 1/5] END ...............model__alpha=4.2;, score=-207.140 total time=   0.0s\n",
            "[CV 2/5] END ...............model__alpha=4.2;, score=-207.173 total time=   0.0s\n",
            "[CV 3/5] END ...............model__alpha=4.2;, score=-172.292 total time=   0.0s\n",
            "[CV 4/5] END ...............model__alpha=4.2;, score=-165.751 total time=   0.0s\n",
            "[CV 5/5] END ...............model__alpha=4.2;, score=-222.310 total time=   0.0s\n",
            "[CV 1/5] END ...............model__alpha=4.3;, score=-208.102 total time=   0.0s\n",
            "[CV 2/5] END ...............model__alpha=4.3;, score=-207.973 total time=   0.0s\n",
            "[CV 3/5] END ...............model__alpha=4.3;, score=-173.003 total time=   0.1s\n",
            "[CV 4/5] END ...............model__alpha=4.3;, score=-166.519 total time=   0.1s\n",
            "[CV 5/5] END ...............model__alpha=4.3;, score=-223.321 total time=   0.0s\n",
            "[CV 1/5] END model__alpha=4.3999999999999995;, score=-209.084 total time=   0.0s\n",
            "[CV 2/5] END model__alpha=4.3999999999999995;, score=-208.794 total time=   0.0s\n",
            "[CV 3/5] END model__alpha=4.3999999999999995;, score=-173.734 total time=   0.0s\n",
            "[CV 4/5] END model__alpha=4.3999999999999995;, score=-167.306 total time=   0.0s\n",
            "[CV 5/5] END model__alpha=4.3999999999999995;, score=-224.353 total time=   0.0s\n",
            "[CV 1/5] END ...............model__alpha=4.5;, score=-210.086 total time=   0.0s\n",
            "[CV 2/5] END ...............model__alpha=4.5;, score=-209.634 total time=   0.0s\n",
            "[CV 3/5] END ...............model__alpha=4.5;, score=-174.487 total time=   0.1s\n",
            "[CV 4/5] END ...............model__alpha=4.5;, score=-168.111 total time=   0.1s\n",
            "[CV 5/5] END ...............model__alpha=4.5;, score=-225.405 total time=   0.1s\n",
            "[CV 1/5] END ...............model__alpha=4.6;, score=-211.108 total time=   0.1s\n",
            "[CV 2/5] END ...............model__alpha=4.6;, score=-210.495 total time=   0.1s\n",
            "[CV 3/5] END ...............model__alpha=4.6;, score=-175.261 total time=   0.1s\n",
            "[CV 4/5] END ...............model__alpha=4.6;, score=-168.934 total time=   0.1s\n",
            "[CV 5/5] END ...............model__alpha=4.6;, score=-226.478 total time=   0.1s\n",
            "[CV 1/5] END ...............model__alpha=4.7;, score=-212.150 total time=   0.1s\n",
            "[CV 2/5] END ...............model__alpha=4.7;, score=-211.376 total time=   0.1s\n",
            "[CV 3/5] END ...............model__alpha=4.7;, score=-176.056 total time=   0.1s\n",
            "[CV 4/5] END ...............model__alpha=4.7;, score=-169.776 total time=   0.1s\n",
            "[CV 5/5] END ...............model__alpha=4.7;, score=-227.571 total time=   0.1s\n",
            "[CV 1/5] END ...............model__alpha=4.8;, score=-213.212 total time=   0.1s\n",
            "[CV 2/5] END ...............model__alpha=4.8;, score=-212.277 total time=   0.1s\n",
            "[CV 3/5] END ...............model__alpha=4.8;, score=-176.872 total time=   0.1s\n",
            "[CV 4/5] END ...............model__alpha=4.8;, score=-170.635 total time=   0.1s\n",
            "[CV 5/5] END ...............model__alpha=4.8;, score=-228.684 total time=   0.1s\n",
            "[CV 1/5] END ...............model__alpha=4.9;, score=-214.295 total time=   0.1s\n",
            "[CV 2/5] END ...............model__alpha=4.9;, score=-213.198 total time=   0.1s\n",
            "[CV 3/5] END ...............model__alpha=4.9;, score=-177.709 total time=   0.1s\n",
            "[CV 4/5] END ...............model__alpha=4.9;, score=-171.513 total time=   0.1s\n",
            "[CV 5/5] END ...............model__alpha=4.9;, score=-229.819 total time=   0.1s\n",
            "[CV 1/5] END ...............model__alpha=5.0;, score=-215.398 total time=   0.1s\n",
            "[CV 2/5] END ...............model__alpha=5.0;, score=-214.140 total time=   0.1s\n",
            "[CV 3/5] END ...............model__alpha=5.0;, score=-178.567 total time=   0.1s\n",
            "[CV 4/5] END ...............model__alpha=5.0;, score=-172.409 total time=   0.1s\n",
            "[CV 5/5] END ...............model__alpha=5.0;, score=-230.973 total time=   0.1s\n",
            "[CV 1/5] END ...............model__alpha=5.1;, score=-216.521 total time=   0.1s\n",
            "[CV 2/5] END ...............model__alpha=5.1;, score=-215.101 total time=   0.1s\n",
            "[CV 3/5] END ...............model__alpha=5.1;, score=-179.446 total time=   0.1s\n",
            "[CV 4/5] END ...............model__alpha=5.1;, score=-173.323 total time=   0.1s\n",
            "[CV 5/5] END ...............model__alpha=5.1;, score=-232.149 total time=   0.1s\n",
            "[CV 1/5] END ...............model__alpha=5.2;, score=-217.664 total time=   0.1s\n",
            "[CV 2/5] END ...............model__alpha=5.2;, score=-216.083 total time=   0.1s\n",
            "[CV 3/5] END ...............model__alpha=5.2;, score=-180.347 total time=   0.1s\n",
            "[CV 4/5] END ...............model__alpha=5.2;, score=-174.255 total time=   0.1s\n",
            "[CV 5/5] END ...............model__alpha=5.2;, score=-233.344 total time=   0.1s\n",
            "[CV 1/5] END ...............model__alpha=5.3;, score=-218.827 total time=   0.0s\n",
            "[CV 2/5] END ...............model__alpha=5.3;, score=-217.085 total time=   0.1s\n",
            "[CV 3/5] END ...............model__alpha=5.3;, score=-181.268 total time=   0.1s\n",
            "[CV 4/5] END ...............model__alpha=5.3;, score=-175.206 total time=   0.1s\n",
            "[CV 5/5] END ...............model__alpha=5.3;, score=-234.561 total time=   0.1s\n",
            "[CV 1/5] END ...............model__alpha=5.4;, score=-220.010 total time=   0.1s\n",
            "[CV 2/5] END ...............model__alpha=5.4;, score=-218.107 total time=   0.1s\n",
            "[CV 3/5] END ...............model__alpha=5.4;, score=-182.211 total time=   0.1s\n",
            "[CV 4/5] END ...............model__alpha=5.4;, score=-176.174 total time=   0.1s\n",
            "[CV 5/5] END ...............model__alpha=5.4;, score=-235.797 total time=   0.0s\n",
            "[CV 1/5] END ...............model__alpha=5.5;, score=-221.214 total time=   0.1s\n",
            "[CV 2/5] END ...............model__alpha=5.5;, score=-219.149 total time=   0.1s\n",
            "[CV 3/5] END ...............model__alpha=5.5;, score=-183.174 total time=   0.1s\n",
            "[CV 4/5] END ...............model__alpha=5.5;, score=-177.161 total time=   0.0s\n",
            "[CV 5/5] END ...............model__alpha=5.5;, score=-237.055 total time=   0.0s\n",
            "[CV 1/5] END ...............model__alpha=5.6;, score=-222.438 total time=   0.1s\n",
            "[CV 2/5] END ...............model__alpha=5.6;, score=-220.211 total time=   0.0s\n",
            "[CV 3/5] END ...............model__alpha=5.6;, score=-184.159 total time=   0.1s\n",
            "[CV 4/5] END ...............model__alpha=5.6;, score=-178.166 total time=   0.1s\n",
            "[CV 5/5] END ...............model__alpha=5.6;, score=-238.333 total time=   0.0s\n",
            "[CV 1/5] END ...............model__alpha=5.7;, score=-223.250 total time=   0.1s\n",
            "[CV 2/5] END ...............model__alpha=5.7;, score=-221.294 total time=   0.0s\n",
            "[CV 3/5] END ...............model__alpha=5.7;, score=-185.165 total time=   0.0s\n",
            "[CV 4/5] END ...............model__alpha=5.7;, score=-179.189 total time=   0.0s\n",
            "[CV 5/5] END ...............model__alpha=5.7;, score=-238.609 total time=   0.0s\n",
            "[CV 1/5] END ...............model__alpha=5.8;, score=-223.250 total time=   0.0s\n",
            "[CV 2/5] END ...............model__alpha=5.8;, score=-222.397 total time=   0.0s\n",
            "[CV 3/5] END ...............model__alpha=5.8;, score=-186.192 total time=   0.0s\n",
            "[CV 4/5] END ...............model__alpha=5.8;, score=-180.230 total time=   0.1s\n",
            "[CV 5/5] END ...............model__alpha=5.8;, score=-238.609 total time=   0.1s\n",
            "[CV 1/5] END ...............model__alpha=5.9;, score=-223.250 total time=   0.1s\n",
            "[CV 2/5] END ...............model__alpha=5.9;, score=-222.695 total time=   0.1s\n",
            "[CV 3/5] END ...............model__alpha=5.9;, score=-187.240 total time=   0.1s\n",
            "[CV 4/5] END ...............model__alpha=5.9;, score=-180.574 total time=   0.1s\n",
            "[CV 5/5] END ...............model__alpha=5.9;, score=-238.609 total time=   0.1s\n",
            "[CV 1/5] END ...............model__alpha=6.0;, score=-223.250 total time=   0.1s\n",
            "[CV 2/5] END ...............model__alpha=6.0;, score=-222.695 total time=   0.1s\n",
            "[CV 3/5] END ...............model__alpha=6.0;, score=-187.520 total time=   0.0s\n",
            "[CV 4/5] END ...............model__alpha=6.0;, score=-180.574 total time=   0.0s\n",
            "[CV 5/5] END ...............model__alpha=6.0;, score=-238.609 total time=   0.0s\n",
            "[CV 1/5] END ...............model__alpha=6.1;, score=-223.250 total time=   0.0s\n",
            "[CV 2/5] END ...............model__alpha=6.1;, score=-222.695 total time=   0.0s\n",
            "[CV 3/5] END ...............model__alpha=6.1;, score=-187.520 total time=   0.0s\n",
            "[CV 4/5] END ...............model__alpha=6.1;, score=-180.574 total time=   0.1s\n",
            "[CV 5/5] END ...............model__alpha=6.1;, score=-238.609 total time=   0.1s\n",
            "[CV 1/5] END ...............model__alpha=6.2;, score=-223.250 total time=   0.1s\n",
            "[CV 2/5] END ...............model__alpha=6.2;, score=-222.695 total time=   0.0s\n",
            "[CV 3/5] END ...............model__alpha=6.2;, score=-187.520 total time=   0.0s\n",
            "[CV 4/5] END ...............model__alpha=6.2;, score=-180.574 total time=   0.1s\n",
            "[CV 5/5] END ...............model__alpha=6.2;, score=-238.609 total time=   0.1s\n",
            "[CV 1/5] END ...............model__alpha=6.3;, score=-223.250 total time=   0.1s\n",
            "[CV 2/5] END ...............model__alpha=6.3;, score=-222.695 total time=   0.1s\n",
            "[CV 3/5] END ...............model__alpha=6.3;, score=-187.520 total time=   0.1s\n",
            "[CV 4/5] END ...............model__alpha=6.3;, score=-180.574 total time=   0.1s\n",
            "[CV 5/5] END ...............model__alpha=6.3;, score=-238.609 total time=   0.1s\n",
            "[CV 1/5] END ...............model__alpha=6.4;, score=-223.250 total time=   0.1s\n",
            "[CV 2/5] END ...............model__alpha=6.4;, score=-222.695 total time=   0.0s\n",
            "[CV 3/5] END ...............model__alpha=6.4;, score=-187.520 total time=   0.1s\n",
            "[CV 4/5] END ...............model__alpha=6.4;, score=-180.574 total time=   0.1s\n",
            "[CV 5/5] END ...............model__alpha=6.4;, score=-238.609 total time=   0.1s\n",
            "[CV 1/5] END ...............model__alpha=6.5;, score=-223.250 total time=   0.1s\n",
            "[CV 2/5] END ...............model__alpha=6.5;, score=-222.695 total time=   0.1s\n",
            "[CV 3/5] END ...............model__alpha=6.5;, score=-187.520 total time=   0.1s\n",
            "[CV 4/5] END ...............model__alpha=6.5;, score=-180.574 total time=   0.1s\n",
            "[CV 5/5] END ...............model__alpha=6.5;, score=-238.609 total time=   0.1s\n",
            "[CV 1/5] END ...............model__alpha=6.6;, score=-223.250 total time=   0.0s\n",
            "[CV 2/5] END ...............model__alpha=6.6;, score=-222.695 total time=   0.0s\n",
            "[CV 3/5] END ...............model__alpha=6.6;, score=-187.520 total time=   0.0s\n",
            "[CV 4/5] END ...............model__alpha=6.6;, score=-180.574 total time=   0.0s\n",
            "[CV 5/5] END ...............model__alpha=6.6;, score=-238.609 total time=   0.1s\n",
            "[CV 1/5] END ...............model__alpha=6.7;, score=-223.250 total time=   0.1s\n",
            "[CV 2/5] END ...............model__alpha=6.7;, score=-222.695 total time=   0.0s\n",
            "[CV 3/5] END ...............model__alpha=6.7;, score=-187.520 total time=   0.0s\n",
            "[CV 4/5] END ...............model__alpha=6.7;, score=-180.574 total time=   0.0s\n",
            "[CV 5/5] END ...............model__alpha=6.7;, score=-238.609 total time=   0.0s\n",
            "[CV 1/5] END ...............model__alpha=6.8;, score=-223.250 total time=   0.0s\n",
            "[CV 2/5] END ...............model__alpha=6.8;, score=-222.695 total time=   0.0s\n",
            "[CV 3/5] END ...............model__alpha=6.8;, score=-187.520 total time=   0.0s\n",
            "[CV 4/5] END ...............model__alpha=6.8;, score=-180.574 total time=   0.0s\n",
            "[CV 5/5] END ...............model__alpha=6.8;, score=-238.609 total time=   0.1s\n",
            "[CV 1/5] END ...............model__alpha=6.9;, score=-223.250 total time=   0.1s\n",
            "[CV 2/5] END ...............model__alpha=6.9;, score=-222.695 total time=   0.1s\n",
            "[CV 3/5] END ...............model__alpha=6.9;, score=-187.520 total time=   0.0s\n",
            "[CV 4/5] END ...............model__alpha=6.9;, score=-180.574 total time=   0.1s\n",
            "[CV 5/5] END ...............model__alpha=6.9;, score=-238.609 total time=   0.1s\n",
            "[CV 1/5] END ...............model__alpha=7.0;, score=-223.250 total time=   0.0s\n",
            "[CV 2/5] END ...............model__alpha=7.0;, score=-222.695 total time=   0.0s\n",
            "[CV 3/5] END ...............model__alpha=7.0;, score=-187.520 total time=   0.0s\n",
            "[CV 4/5] END ...............model__alpha=7.0;, score=-180.574 total time=   0.1s\n",
            "[CV 5/5] END ...............model__alpha=7.0;, score=-238.609 total time=   0.1s\n",
            "[CV 1/5] END ...............model__alpha=7.1;, score=-223.250 total time=   0.1s\n",
            "[CV 2/5] END ...............model__alpha=7.1;, score=-222.695 total time=   0.1s\n",
            "[CV 3/5] END ...............model__alpha=7.1;, score=-187.520 total time=   0.1s\n",
            "[CV 4/5] END ...............model__alpha=7.1;, score=-180.574 total time=   0.1s\n",
            "[CV 5/5] END ...............model__alpha=7.1;, score=-238.609 total time=   0.0s\n",
            "[CV 1/5] END ...............model__alpha=7.2;, score=-223.250 total time=   0.1s\n",
            "[CV 2/5] END ...............model__alpha=7.2;, score=-222.695 total time=   0.1s\n",
            "[CV 3/5] END ...............model__alpha=7.2;, score=-187.520 total time=   0.1s\n",
            "[CV 4/5] END ...............model__alpha=7.2;, score=-180.574 total time=   0.1s\n",
            "[CV 5/5] END ...............model__alpha=7.2;, score=-238.609 total time=   0.0s\n",
            "[CV 1/5] END ...............model__alpha=7.3;, score=-223.250 total time=   0.0s\n",
            "[CV 2/5] END ...............model__alpha=7.3;, score=-222.695 total time=   0.0s\n",
            "[CV 3/5] END ...............model__alpha=7.3;, score=-187.520 total time=   0.0s\n",
            "[CV 4/5] END ...............model__alpha=7.3;, score=-180.574 total time=   0.0s\n",
            "[CV 5/5] END ...............model__alpha=7.3;, score=-238.609 total time=   0.1s\n",
            "[CV 1/5] END ...............model__alpha=7.4;, score=-223.250 total time=   0.0s\n",
            "[CV 2/5] END ...............model__alpha=7.4;, score=-222.695 total time=   0.0s\n",
            "[CV 3/5] END ...............model__alpha=7.4;, score=-187.520 total time=   0.0s\n",
            "[CV 4/5] END ...............model__alpha=7.4;, score=-180.574 total time=   0.1s\n",
            "[CV 5/5] END ...............model__alpha=7.4;, score=-238.609 total time=   0.1s\n",
            "[CV 1/5] END ...............model__alpha=7.5;, score=-223.250 total time=   0.1s\n",
            "[CV 2/5] END ...............model__alpha=7.5;, score=-222.695 total time=   0.1s\n",
            "[CV 3/5] END ...............model__alpha=7.5;, score=-187.520 total time=   0.1s\n",
            "[CV 4/5] END ...............model__alpha=7.5;, score=-180.574 total time=   0.1s\n",
            "[CV 5/5] END ...............model__alpha=7.5;, score=-238.609 total time=   0.1s\n",
            "[CV 1/5] END ...............model__alpha=7.6;, score=-223.250 total time=   0.0s\n",
            "[CV 2/5] END ...............model__alpha=7.6;, score=-222.695 total time=   0.1s\n",
            "[CV 3/5] END ...............model__alpha=7.6;, score=-187.520 total time=   0.0s\n",
            "[CV 4/5] END ...............model__alpha=7.6;, score=-180.574 total time=   0.1s\n",
            "[CV 5/5] END ...............model__alpha=7.6;, score=-238.609 total time=   0.1s\n",
            "[CV 1/5] END ...............model__alpha=7.7;, score=-223.250 total time=   0.1s\n",
            "[CV 2/5] END ...............model__alpha=7.7;, score=-222.695 total time=   0.1s\n",
            "[CV 3/5] END ...............model__alpha=7.7;, score=-187.520 total time=   0.1s\n",
            "[CV 4/5] END ...............model__alpha=7.7;, score=-180.574 total time=   0.1s\n",
            "[CV 5/5] END ...............model__alpha=7.7;, score=-238.609 total time=   0.1s\n",
            "[CV 1/5] END ...............model__alpha=7.8;, score=-223.250 total time=   0.0s\n",
            "[CV 2/5] END ...............model__alpha=7.8;, score=-222.695 total time=   0.0s\n",
            "[CV 3/5] END ...............model__alpha=7.8;, score=-187.520 total time=   0.0s\n",
            "[CV 4/5] END ...............model__alpha=7.8;, score=-180.574 total time=   0.1s\n",
            "[CV 5/5] END ...............model__alpha=7.8;, score=-238.609 total time=   0.0s\n",
            "[CV 1/5] END ...............model__alpha=7.9;, score=-223.250 total time=   0.1s\n",
            "[CV 2/5] END ...............model__alpha=7.9;, score=-222.695 total time=   0.1s\n",
            "[CV 3/5] END ...............model__alpha=7.9;, score=-187.520 total time=   0.1s\n",
            "[CV 4/5] END ...............model__alpha=7.9;, score=-180.574 total time=   0.0s\n",
            "[CV 5/5] END ...............model__alpha=7.9;, score=-238.609 total time=   0.0s\n",
            "[CV 1/5] END ...............model__alpha=8.0;, score=-223.250 total time=   0.0s\n",
            "[CV 2/5] END ...............model__alpha=8.0;, score=-222.695 total time=   0.0s\n",
            "[CV 3/5] END ...............model__alpha=8.0;, score=-187.520 total time=   0.0s\n",
            "[CV 4/5] END ...............model__alpha=8.0;, score=-180.574 total time=   0.0s\n",
            "[CV 5/5] END ...............model__alpha=8.0;, score=-238.609 total time=   0.0s\n",
            "[CV 1/5] END ...............model__alpha=8.1;, score=-223.250 total time=   0.0s\n",
            "[CV 2/5] END ...............model__alpha=8.1;, score=-222.695 total time=   0.0s\n",
            "[CV 3/5] END ...............model__alpha=8.1;, score=-187.520 total time=   0.0s\n",
            "[CV 4/5] END ...............model__alpha=8.1;, score=-180.574 total time=   0.0s\n",
            "[CV 5/5] END ...............model__alpha=8.1;, score=-238.609 total time=   0.0s\n",
            "[CV 1/5] END ...............model__alpha=8.2;, score=-223.250 total time=   0.0s\n",
            "[CV 2/5] END ...............model__alpha=8.2;, score=-222.695 total time=   0.0s\n",
            "[CV 3/5] END ...............model__alpha=8.2;, score=-187.520 total time=   0.0s\n",
            "[CV 4/5] END ...............model__alpha=8.2;, score=-180.574 total time=   0.0s\n",
            "[CV 5/5] END ...............model__alpha=8.2;, score=-238.609 total time=   0.0s\n",
            "[CV 1/5] END ...............model__alpha=8.3;, score=-223.250 total time=   0.0s\n",
            "[CV 2/5] END ...............model__alpha=8.3;, score=-222.695 total time=   0.0s\n",
            "[CV 3/5] END ...............model__alpha=8.3;, score=-187.520 total time=   0.1s\n",
            "[CV 4/5] END ...............model__alpha=8.3;, score=-180.574 total time=   0.1s\n",
            "[CV 5/5] END ...............model__alpha=8.3;, score=-238.609 total time=   0.1s\n",
            "[CV 1/5] END ...............model__alpha=8.4;, score=-223.250 total time=   0.1s\n",
            "[CV 2/5] END ...............model__alpha=8.4;, score=-222.695 total time=   0.0s\n",
            "[CV 3/5] END ...............model__alpha=8.4;, score=-187.520 total time=   0.0s\n",
            "[CV 4/5] END ...............model__alpha=8.4;, score=-180.574 total time=   0.1s\n",
            "[CV 5/5] END ...............model__alpha=8.4;, score=-238.609 total time=   0.0s\n",
            "[CV 1/5] END ...............model__alpha=8.5;, score=-223.250 total time=   0.1s\n",
            "[CV 2/5] END ...............model__alpha=8.5;, score=-222.695 total time=   0.1s\n",
            "[CV 3/5] END ...............model__alpha=8.5;, score=-187.520 total time=   0.0s\n",
            "[CV 4/5] END ...............model__alpha=8.5;, score=-180.574 total time=   0.0s\n",
            "[CV 5/5] END ...............model__alpha=8.5;, score=-238.609 total time=   0.0s\n",
            "[CV 1/5] END ...............model__alpha=8.6;, score=-223.250 total time=   0.0s\n",
            "[CV 2/5] END ...............model__alpha=8.6;, score=-222.695 total time=   0.0s\n",
            "[CV 3/5] END ...............model__alpha=8.6;, score=-187.520 total time=   0.0s\n",
            "[CV 4/5] END ...............model__alpha=8.6;, score=-180.574 total time=   0.0s\n",
            "[CV 5/5] END ...............model__alpha=8.6;, score=-238.609 total time=   0.0s\n",
            "[CV 1/5] END ...............model__alpha=8.7;, score=-223.250 total time=   0.0s\n",
            "[CV 2/5] END ...............model__alpha=8.7;, score=-222.695 total time=   0.0s\n",
            "[CV 3/5] END ...............model__alpha=8.7;, score=-187.520 total time=   0.1s\n",
            "[CV 4/5] END ...............model__alpha=8.7;, score=-180.574 total time=   0.0s\n",
            "[CV 5/5] END ...............model__alpha=8.7;, score=-238.609 total time=   0.0s\n",
            "[CV 1/5] END ...............model__alpha=8.8;, score=-223.250 total time=   0.1s\n",
            "[CV 2/5] END ...............model__alpha=8.8;, score=-222.695 total time=   0.1s\n",
            "[CV 3/5] END ...............model__alpha=8.8;, score=-187.520 total time=   0.1s\n",
            "[CV 4/5] END ...............model__alpha=8.8;, score=-180.574 total time=   0.1s\n",
            "[CV 5/5] END ...............model__alpha=8.8;, score=-238.609 total time=   0.0s\n",
            "[CV 1/5] END ...............model__alpha=8.9;, score=-223.250 total time=   0.0s\n",
            "[CV 2/5] END ...............model__alpha=8.9;, score=-222.695 total time=   0.0s\n",
            "[CV 3/5] END ...............model__alpha=8.9;, score=-187.520 total time=   0.0s\n",
            "[CV 4/5] END ...............model__alpha=8.9;, score=-180.574 total time=   0.0s\n",
            "[CV 5/5] END ...............model__alpha=8.9;, score=-238.609 total time=   0.1s\n",
            "[CV 1/5] END ...............model__alpha=9.0;, score=-223.250 total time=   0.1s\n",
            "[CV 2/5] END ...............model__alpha=9.0;, score=-222.695 total time=   0.0s\n",
            "[CV 3/5] END ...............model__alpha=9.0;, score=-187.520 total time=   0.0s\n",
            "[CV 4/5] END ...............model__alpha=9.0;, score=-180.574 total time=   0.0s\n",
            "[CV 5/5] END ...............model__alpha=9.0;, score=-238.609 total time=   0.0s\n",
            "[CV 1/5] END ...............model__alpha=9.1;, score=-223.250 total time=   0.1s\n",
            "[CV 2/5] END ...............model__alpha=9.1;, score=-222.695 total time=   0.0s\n",
            "[CV 3/5] END ...............model__alpha=9.1;, score=-187.520 total time=   0.1s\n",
            "[CV 4/5] END ...............model__alpha=9.1;, score=-180.574 total time=   0.0s\n",
            "[CV 5/5] END ...............model__alpha=9.1;, score=-238.609 total time=   0.1s\n",
            "[CV 1/5] END ...............model__alpha=9.2;, score=-223.250 total time=   0.1s\n",
            "[CV 2/5] END ...............model__alpha=9.2;, score=-222.695 total time=   0.1s\n",
            "[CV 3/5] END ...............model__alpha=9.2;, score=-187.520 total time=   0.1s\n",
            "[CV 4/5] END ...............model__alpha=9.2;, score=-180.574 total time=   0.1s\n",
            "[CV 5/5] END ...............model__alpha=9.2;, score=-238.609 total time=   0.1s\n",
            "[CV 1/5] END ...............model__alpha=9.3;, score=-223.250 total time=   0.1s\n",
            "[CV 2/5] END ...............model__alpha=9.3;, score=-222.695 total time=   0.1s\n",
            "[CV 3/5] END ...............model__alpha=9.3;, score=-187.520 total time=   0.1s\n",
            "[CV 4/5] END ...............model__alpha=9.3;, score=-180.574 total time=   0.1s\n",
            "[CV 5/5] END ...............model__alpha=9.3;, score=-238.609 total time=   0.1s\n",
            "[CV 1/5] END ...............model__alpha=9.4;, score=-223.250 total time=   0.1s\n",
            "[CV 2/5] END ...............model__alpha=9.4;, score=-222.695 total time=   0.1s\n",
            "[CV 3/5] END ...............model__alpha=9.4;, score=-187.520 total time=   0.1s\n",
            "[CV 4/5] END ...............model__alpha=9.4;, score=-180.574 total time=   0.1s\n",
            "[CV 5/5] END ...............model__alpha=9.4;, score=-238.609 total time=   0.1s\n",
            "[CV 1/5] END ...............model__alpha=9.5;, score=-223.250 total time=   0.1s\n",
            "[CV 2/5] END ...............model__alpha=9.5;, score=-222.695 total time=   0.1s\n",
            "[CV 3/5] END ...............model__alpha=9.5;, score=-187.520 total time=   0.1s\n",
            "[CV 4/5] END ...............model__alpha=9.5;, score=-180.574 total time=   0.1s\n",
            "[CV 5/5] END ...............model__alpha=9.5;, score=-238.609 total time=   0.1s\n",
            "[CV 1/5] END ...............model__alpha=9.6;, score=-223.250 total time=   0.1s\n",
            "[CV 2/5] END ...............model__alpha=9.6;, score=-222.695 total time=   0.1s\n",
            "[CV 3/5] END ...............model__alpha=9.6;, score=-187.520 total time=   0.1s\n",
            "[CV 4/5] END ...............model__alpha=9.6;, score=-180.574 total time=   0.1s\n",
            "[CV 5/5] END ...............model__alpha=9.6;, score=-238.609 total time=   0.1s\n",
            "[CV 1/5] END .model__alpha=9.700000000000001;, score=-223.250 total time=   0.1s\n",
            "[CV 2/5] END .model__alpha=9.700000000000001;, score=-222.695 total time=   0.1s\n",
            "[CV 3/5] END .model__alpha=9.700000000000001;, score=-187.520 total time=   0.1s\n",
            "[CV 4/5] END .model__alpha=9.700000000000001;, score=-180.574 total time=   0.1s\n",
            "[CV 5/5] END .model__alpha=9.700000000000001;, score=-238.609 total time=   0.1s\n",
            "[CV 1/5] END ...............model__alpha=9.8;, score=-223.250 total time=   0.1s\n",
            "[CV 2/5] END ...............model__alpha=9.8;, score=-222.695 total time=   0.1s\n",
            "[CV 3/5] END ...............model__alpha=9.8;, score=-187.520 total time=   0.1s\n",
            "[CV 4/5] END ...............model__alpha=9.8;, score=-180.574 total time=   0.1s\n",
            "[CV 5/5] END ...............model__alpha=9.8;, score=-238.609 total time=   0.1s\n",
            "[CV 1/5] END ...............model__alpha=9.9;, score=-223.250 total time=   0.1s\n",
            "[CV 2/5] END ...............model__alpha=9.9;, score=-222.695 total time=   0.1s\n",
            "[CV 3/5] END ...............model__alpha=9.9;, score=-187.520 total time=   0.1s\n",
            "[CV 4/5] END ...............model__alpha=9.9;, score=-180.574 total time=   0.1s\n",
            "[CV 5/5] END ...............model__alpha=9.9;, score=-238.609 total time=   0.1s\n"
          ]
        },
        {
          "output_type": "execute_result",
          "data": {
            "text/plain": [
              "GridSearchCV(cv=5,\n",
              "             estimator=Pipeline(steps=[('scaler', StandardScaler()),\n",
              "                                       ('model', Lasso())]),\n",
              "             param_grid={'model__alpha': array([0.1, 0.2, 0.3, 0.4, 0.5, 0.6, 0.7, 0.8, 0.9, 1. , 1.1, 1.2, 1.3,\n",
              "       1.4, 1.5, 1.6, 1.7, 1.8, 1.9, 2. , 2.1, 2.2, 2.3, 2.4, 2.5, 2.6,\n",
              "       2.7, 2.8, 2.9, 3. , 3.1, 3.2, 3.3, 3.4, 3.5, 3.6, 3.7, 3.8, 3.9,\n",
              "       4. , 4.1, 4.2, 4.3, 4.4, 4.5, 4.6, 4.7, 4.8, 4.9, 5. , 5.1, 5.2,\n",
              "       5.3, 5.4, 5.5, 5.6, 5.7, 5.8, 5.9, 6. , 6.1, 6.2, 6.3, 6.4, 6.5,\n",
              "       6.6, 6.7, 6.8, 6.9, 7. , 7.1, 7.2, 7.3, 7.4, 7.5, 7.6, 7.7, 7.8,\n",
              "       7.9, 8. , 8.1, 8.2, 8.3, 8.4, 8.5, 8.6, 8.7, 8.8, 8.9, 9. , 9.1,\n",
              "       9.2, 9.3, 9.4, 9.5, 9.6, 9.7, 9.8, 9.9])},\n",
              "             scoring='neg_mean_squared_error', verbose=3)"
            ]
          },
          "metadata": {},
          "execution_count": 117
        }
      ],
      "source": [
        "# in order to generalize better I'm going to select feature using lasso regression\n",
        "\n",
        "from sklearn.preprocessing import StandardScaler\n",
        "from sklearn.pipeline import Pipeline\n",
        "from sklearn.model_selection import GridSearchCV\n",
        "from sklearn.linear_model import Lasso\n",
        "\n",
        "pipeline = Pipeline([\n",
        "                     ('scaler',StandardScaler()),\n",
        "                     ('model',Lasso())\n",
        "])\n",
        "\n",
        "search = GridSearchCV(pipeline,\n",
        "                      {'model__alpha':np.arange(0.1,10,0.1)},\n",
        "                      cv = 5, scoring=\"neg_mean_squared_error\",verbose=3\n",
        "                      )\n",
        "\n",
        "search.fit(X_train, y_train)"
      ]
    },
    {
      "cell_type": "code",
      "execution_count": 118,
      "metadata": {
        "id": "5cvZTb9S-VBY"
      },
      "outputs": [],
      "source": [
        "coefficients = search.best_estimator_.named_steps['model'].coef_\n",
        "importance = np.abs(coefficients)\n"
      ]
    },
    {
      "cell_type": "code",
      "execution_count": 119,
      "metadata": {
        "colab": {
          "base_uri": "https://localhost:8080/"
        },
        "id": "riaw4HT48OeM",
        "outputId": "ecca6ad5-db4a-43a5-885e-104a289fe386"
      },
      "outputs": [
        {
          "output_type": "execute_result",
          "data": {
            "text/plain": [
              "0.5436893203883495"
            ]
          },
          "metadata": {},
          "execution_count": 119
        }
      ],
      "source": [
        "(importance!=0).sum()/len(importance) # we are going to keep half of the original variables"
      ]
    },
    {
      "cell_type": "code",
      "execution_count": 120,
      "metadata": {
        "colab": {
          "base_uri": "https://localhost:8080/",
          "height": 592
        },
        "id": "mp1lmKyI-chr",
        "outputId": "e6dc73bb-03e6-4835-d7dd-6330743dc55f"
      },
      "outputs": [
        {
          "output_type": "display_data",
          "data": {
            "text/plain": [
              "<Figure size 864x576 with 1 Axes>"
            ],
            "image/png": "[encoded data removed]"
          },
          "metadata": {
            "needs_background": "light"
          }
        }
      ],
      "source": [
        "plt.figure(figsize=(12,8))\n",
        "plt.bar(np.arange((importance!=0).sum()),importance[importance!=0])\n",
        "plt.xticks(np.arange((importance!=0).sum()), list(X_train.columns[importance!=0]), rotation = 90)\n",
        "plt.show()"
      ]
    },
    {
      "cell_type": "code",
      "execution_count": 123,
      "metadata": {
        "colab": {
          "base_uri": "https://localhost:8080/"
        },
        "id": "jPNhpuXJ-jt9",
        "outputId": "9d907aa8-4198-4e13-e066-1a7b8eb6cc67"
      },
      "outputs": [
        {
          "output_type": "execute_result",
          "data": {
            "text/plain": [
              "GradientBoostingRegressor()"
            ]
          },
          "metadata": {},
          "execution_count": 123
        }
      ],
      "source": [
        "model_gbt = GradientBoostingRegressor()\n",
        "model_gbt.fit(X_train[X_train.columns[importance!=0]], y_train ) "
      ]
    },
    {
      "cell_type": "code",
      "execution_count": 124,
      "metadata": {
        "colab": {
          "base_uri": "https://localhost:8080/"
        },
        "id": "e_LKVVrkAOo7",
        "outputId": "b9f95ab8-d2de-41ee-ceb5-a14ff2bebbc2"
      },
      "outputs": [
        {
          "output_type": "stream",
          "name": "stdout",
          "text": [
            "Average RMSE: 13.814690734715173\n",
            "Linear Regression RMSE: 12.310673496695749\n"
          ]
        }
      ],
      "source": [
        "y_pred_test_gbt = model_gbt.predict(X_test[X_train.columns[importance!=0]])\n",
        "y_pred_test_gbt[y_pred_test_gbt<0] = 0\n",
        "y_pred = (y_pred_test_gbt)\n",
        "\n",
        "rmse_avg = rmse(y_test, np.repeat(np.mean(y_train), len(y_test)))\n",
        "rmse_gbt = rmse(y_test, y_pred)\n",
        "\n",
        "print(f\"Average RMSE: {rmse_avg}\")\n",
        "print(f\"Linear Regression RMSE: {rmse_gbt}\") \n",
        "\n",
        "# the selection is has not improved performance but having less variable could bring to better generalization, so I will stick with the reduced number of features"
      ]
    },
    {
      "cell_type": "markdown",
      "metadata": {
        "id": "u8E4YNQM9ETG"
      },
      "source": [
        "### Parameter tuning"
      ]
    },
    {
      "cell_type": "code",
      "execution_count": 146,
      "metadata": {
        "colab": {
          "base_uri": "https://localhost:8080/"
        },
        "id": "DCWeaf_B9CpR",
        "outputId": "68958114-ba20-4611-b42c-aafa3faab347"
      },
      "outputs": [
        {
          "output_type": "stream",
          "name": "stdout",
          "text": [
            "Fitting 3 folds for each of 200 candidates, totalling 600 fits\n"
          ]
        },
        {
          "output_type": "execute_result",
          "data": {
            "text/plain": [
              "GridSearchCV(cv=3,\n",
              "             estimator=Pipeline(steps=[('model',\n",
              "                                        XGBRegressor(objective='reg:squarederror'))]),\n",
              "             param_grid={'model__eta': array([0.05 , 0.075, 0.1  , 0.125, 0.15 , 0.175, 0.2  , 0.225, 0.25 ,\n",
              "       0.275]),\n",
              "                         'model__max_depth': [2, 4, 5, 6],\n",
              "                         'model__subsample': array([0.5, 0.6, 0.7, 0.8, 0.9])},\n",
              "             scoring='neg_mean_squared_error', verbose=1)"
            ]
          },
          "metadata": {},
          "execution_count": 146
        }
      ],
      "source": [
        "# let's check if with some parameter tuning we can slightly improve performancies\n",
        "pipeline = Pipeline([\n",
        "                     ('model',xgb.XGBRegressor(objective ='reg:squarederror'))\n",
        "])\n",
        "\n",
        "search = GridSearchCV(pipeline,\n",
        "                      {'model__eta':np.arange(0.05,0.3,0.025),\n",
        "                       'model__subsample':np.arange(0.5,1,0.1),\n",
        "                       'model__max_depth':[2,4,5,6]\n",
        "                       },\n",
        "                      cv = 3, scoring=\"neg_mean_squared_error\",verbose=1\n",
        "                      )\n",
        "\n",
        "search.fit(X_train[X_train.columns[importance!=0]], y_train)"
      ]
    },
    {
      "cell_type": "code",
      "execution_count": 175,
      "metadata": {
        "colab": {
          "base_uri": "https://localhost:8080/"
        },
        "id": "ogu6EjsW9C0U",
        "outputId": "ee5051d0-4338-47d1-9e53-97027e5cb80e"
      },
      "outputs": [
        {
          "output_type": "stream",
          "name": "stdout",
          "text": [
            "best params: {'model__eta': 0.05, 'model__max_depth': 2, 'model__subsample': 0.7999999999999999}\n",
            "Average RMSE: 15.433552717530958\n",
            "Linear Regression RMSE: 12.275128627426533\n"
          ]
        }
      ],
      "source": [
        "mod = search.best_estimator_\n",
        "print('best params: {}'.format(search.best_params_))\n",
        "y_pred_test_gbt = mod.predict(X_test[X_train.columns[importance!=0]])\n",
        "y_pred_test_gbt[y_pred_test_gbt<0] = 0\n",
        "y_pred = (y_pred_test_gbt)\n",
        "\n",
        "rmse_avg = rmse(y_test.reset_index(drop=True)+(X_test['net_purchases_15d']).reset_index(drop=True), np.repeat(np.mean(y_train+(X_test['net_purchases_15d']).reset_index(drop=True)), len(y_test)))\n",
        "rmse_gbt = rmse(y_test.reset_index(drop=True)+(X_test['net_purchases_15d']).reset_index(drop=True), y_pred+(X_test['net_purchases_15d']).reset_index(drop=True))\n",
        "\n",
        "print(f\"Average RMSE: {rmse_avg}\")\n",
        "print(f\"Linear Regression RMSE: {rmse_gbt}\") \n",
        "\n",
        "# the model seems to improve just a bit, but I'm still going to use this parameters"
      ]
    },
    {
      "cell_type": "markdown",
      "metadata": {
        "id": "j1vEDDM99oQg"
      },
      "source": [
        "### Predict on test\n"
      ]
    },
    {
      "cell_type": "code",
      "execution_count": 152,
      "metadata": {
        "id": "OYKlEB86Oxy9",
        "colab": {
          "base_uri": "https://localhost:8080/"
        },
        "outputId": "f2a9f287-d565-499e-dd0f-e508bebd7ad5"
      },
      "outputs": [
        {
          "output_type": "execute_result",
          "data": {
            "text/plain": [
              "XGBRegressor(eta=0.05, max_depth=2, objective='reg:squarederror', subsample=0.8)"
            ]
          },
          "metadata": {},
          "execution_count": 152
        }
      ],
      "source": [
        "# retrain on whole train dataset using the best parameters\n",
        "whole_xgb = xgb.XGBRegressor(objective ='reg:squarederror', eta=0.05, max_depth= 2, subsample= 0.8)\n",
        "\n",
        "whole_xgb.fit(train_mod[train_mod.columns[importance!=0]], y_train_mod ) "
      ]
    },
    {
      "cell_type": "code",
      "execution_count": 155,
      "metadata": {
        "id": "_zBzSysA9eAx"
      },
      "outputs": [],
      "source": [
        "# predict and return to original objective variable\n",
        "final_prediction = whole_xgb.predict(test_mod[X_train.columns[importance!=0]])+test_mod['net_purchases_15d']"
      ]
    },
    {
      "cell_type": "code",
      "source": [
        "final_prediction.name = 'y_pred_test'"
      ],
      "metadata": {
        "id": "SP4RkJtpM85_"
      },
      "execution_count": 187,
      "outputs": []
    },
    {
      "cell_type": "code",
      "source": [
        "pd.DataFrame(final_prediction).to_csv('submission.csv', index=False)"
      ],
      "metadata": {
        "id": "B9LDEd9M76Bz"
      },
      "execution_count": 189,
      "outputs": []
    },
    {
      "cell_type": "markdown",
      "source": [
        "# Recap\n",
        "\n",
        "In order to solve the proposed problem I tried first of all to undestand better the data in order to build a model able to predict the one year net purchases of a client.\n",
        "\n",
        "The main take aways from the first exploratory analysis are that the objective variable is skewed on the right and in general there is a great number of client purchasing 0 in a year.\n",
        "There is no independent variable highly correlated with the objective variable.\n",
        "There are some missing data and some wrongly imputated data.\n",
        "The test set seems to have the same distribution with respect to the train set.\n",
        "\n",
        "Then the second step was to remove the clear outliers in the date of birth. Other thecnique of outlier detection were tried but they didn't seem to increase performance. Here the distribution of the y and the evaluation method bring lot of attention to the small part of high spender, here removing multi dimension outlier could be dangerous. Instead of removing outliers I decided to group rare occurencies in some features in order to try to preserve the original information as much as possible.\n",
        "\n",
        "The third step was to impute the data for which I built two random forests. \n",
        "\n",
        "Than I tried some models in order to asses which model was worth to deep dive.\n",
        "From the different runs I got that the type of model doesn't change much.\n",
        "\n",
        "I decided to try to split the problem into 2 parts. The result was that understanding who is a spender and who is not it's something pretty easy, but predicting the total purchase seems to be quite hard.\n",
        "\n",
        "To refine the model I selected some relevant features and performed parameter tuning; but as previously said the model in this problem seems to matter relatively. Probably having some other feature more related with the total purchase would help.\n",
        "For example having something related to usage I think would increase the model performance.\n",
        "\n",
        "\n",
        "\n"
      ],
      "metadata": {
        "id": "RmRGHnLR78fk"
      }
    },
    {
      "cell_type": "code",
      "source": [],
      "metadata": {
        "id": "xIZgCR0oMSJZ"
      },
      "execution_count": 190,
      "outputs": []
    },
    {
      "cell_type": "code",
      "source": [],
      "metadata": {
        "id": "wCOjG3l5MXjs"
      },
      "execution_count": 192,
      "outputs": []
    },
    {
      "cell_type": "code",
      "source": [],
      "metadata": {
        "id": "lGtMZvo9N430"
      },
      "execution_count": null,
      "outputs": []
    }
  ],
  "metadata": {
    "accelerator": "GPU",
    "colab": {
      "provenance": []
    },
    "gpuClass": "standard",
    "kernelspec": {
      "display_name": "Python 3",
      "name": "python3"
    },
    "language_info": {
      "name": "python"
    }
  },
  "nbformat": 4,
  "nbformat_minor": 0
}